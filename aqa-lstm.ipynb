{
 "cells": [
  {
   "cell_type": "code",
   "execution_count": 21,
   "metadata": {},
   "outputs": [],
   "source": [
    "import os\n",
    "import random\n",
    "import cv2\n",
    "import keras\n",
    "import random\n",
    "\n",
    "import numpy as np\n",
    "import mediapipe as mp\n",
    "import tensorflow as tf\n",
    "import pandas as pd\n",
    "\n",
    "from scipy.io import loadmat\n",
    "from matplotlib import pyplot as plt\n",
    "from sklearn.model_selection import train_test_split\n",
    "from sklearn.metrics import mean_absolute_error, mean_squared_error, r2_score, median_absolute_error\n",
    "from sklearn.preprocessing import StandardScaler\n",
    "from tensorflow.keras.models import Sequential\n",
    "from tensorflow.keras.layers import LSTM, Dense, Dropout, Input, BatchNormalization, GRU, Bidirectional, Masking, LayerNormalization, TimeDistributed, LeakyReLU, ReLU\n",
    "from tensorflow.keras.optimizers import Adam, SGD, AdamW, RMSprop, Adamax, Lion, Ftrl, Nadam\n",
    "from tensorflow.keras.losses import Huber, MSE, MAE, MeanAbsoluteError, MeanSquaredError\n",
    "from tensorflow.keras import regularizers\n",
    "from tensorflow.keras.callbacks import EarlyStopping, ReduceLROnPlateau\n",
    "from catboost import CatBoostRegressor, Pool"
   ]
  },
  {
   "cell_type": "code",
   "execution_count": 2,
   "metadata": {},
   "outputs": [],
   "source": [
    "import warnings\n",
    "warnings.filterwarnings('ignore')"
   ]
  },
  {
   "cell_type": "code",
   "execution_count": 3,
   "metadata": {},
   "outputs": [],
   "source": [
    "# Constants for Project\n",
    "DATA_DIR = '/PATH_TO_DATASET/Diving/diving_samples_len_151_lstm/'\n",
    "LOG_DIR = './logs/'"
   ]
  },
  {
   "cell_type": "markdown",
   "metadata": {},
   "source": [
    "# Data Preprocessing"
   ]
  },
  {
   "cell_type": "code",
   "execution_count": 4,
   "metadata": {},
   "outputs": [],
   "source": [
    "'''\n",
    "' Mediapipe setup for keypoint extraction\n",
    "'''\n",
    "mp_holistic = mp.solutions.holistic\n",
    "mp_drawing = mp.solutions.drawing_utils\n",
    "\n",
    "def mediapipe_detection(image, model):\n",
    "    image = cv2.cvtColor(image, cv2.COLOR_BGR2RGB)\n",
    "    image.flags.writeable = False\n",
    "\n",
    "    results = model.process(image)\n",
    "    image.flags.writeable = True\n",
    "    image = cv2.cvtColor(image, cv2.COLOR_RGB2BGR)\n",
    "\n",
    "    return image, results\n",
    "\n",
    "def draw_pose_landmarks(image, results):\n",
    "    mp_drawing.draw_landmarks(image, results.pose_landmarks, mp_holistic.POSE_CONNECTIONS,\n",
    "                              mp_drawing.DrawingSpec(color = (0, 0, 255), thickness = 1, circle_radius = 1),\n",
    "                              mp_drawing.DrawingSpec(color = (0, 0, 255), thickness = 1, circle_radius = 1))\n",
    "    \n",
    "def keypoint_extraction(results):\n",
    "    pose = np.array([[res.x, res.y, res.z, res.visibility] for res in results.pose_landmarks.landmark]).flatten() if results.pose_landmarks else np.zeros(132) # 132 as there are 33 keypoints and 4 \"values\" 4 * 33\n",
    "\n",
    "    return pose"
   ]
  },
  {
   "cell_type": "code",
   "execution_count": 5,
   "metadata": {},
   "outputs": [],
   "source": [
    "difficulty = loadmat('/PATH_TO_DATASET/Diving/diving_difficulty_level.mat')\n",
    "scores = loadmat('/PATH_TO_DATASET/Diving/diving_overall_scores.mat')\n",
    "training = loadmat('/PATH_TO_DATASET/Diving/split_300_70/training_idx.mat')\n",
    "testing = loadmat('/PATH_TO_DATASET/Diving/split_300_70/testing_idx.mat')"
   ]
  },
  {
   "cell_type": "code",
   "execution_count": 6,
   "metadata": {},
   "outputs": [
    {
     "name": "stdout",
     "output_type": "stream",
     "text": [
      "Difficulty:  dict_keys(['__header__', '__version__', '__globals__', 'difficulty_level'])\n",
      "Scores:  dict_keys(['__header__', '__version__', '__globals__', 'overall_scores'])\n",
      "Training:  dict_keys(['__header__', '__version__', '__globals__', 'training_idx'])\n",
      "Testing:  dict_keys(['__header__', '__version__', '__globals__', 'testing_idx'])\n"
     ]
    }
   ],
   "source": [
    "print('Difficulty: ', difficulty.keys())\n",
    "print('Scores: ',scores.keys())\n",
    "print('Training: ',training.keys())\n",
    "print('Testing: ',testing.keys())"
   ]
  },
  {
   "cell_type": "code",
   "execution_count": 7,
   "metadata": {},
   "outputs": [
    {
     "name": "stdout",
     "output_type": "stream",
     "text": [
      "Scores: \n",
      " [[ 76.5 ]\n",
      " [ 72.  ]\n",
      " [ 83.25]\n",
      " [ 76.5 ]\n",
      " [ 80.  ]\n",
      " [ 86.4 ]\n",
      " [ 81.6 ]\n",
      " [ 97.2 ]\n",
      " [ 91.8 ]\n",
      " [ 97.2 ]\n",
      " [ 91.2 ]\n",
      " [ 91.2 ]\n",
      " [ 86.4 ]\n",
      " [ 88.8 ]\n",
      " [ 82.5 ]\n",
      " [ 88.2 ]\n",
      " [ 83.25]\n",
      " [ 75.2 ]\n",
      " [ 92.5 ]\n",
      " [ 86.4 ]\n",
      " [ 86.4 ]\n",
      " [ 86.4 ]\n",
      " [ 94.05]\n",
      " [ 94.5 ]\n",
      " [ 81.6 ]\n",
      " [ 82.8 ]\n",
      " [ 98.4 ]\n",
      " [ 86.4 ]\n",
      " [ 66.5 ]\n",
      " [ 83.25]\n",
      " [ 89.1 ]\n",
      " [ 77.55]\n",
      " [ 92.75]\n",
      " [ 99.9 ]\n",
      " [ 91.8 ]\n",
      " [ 92.4 ]\n",
      " [ 79.2 ]\n",
      " [ 79.2 ]\n",
      " [ 81.  ]\n",
      " [ 96.9 ]\n",
      " [ 97.2 ]\n",
      " [ 79.2 ]\n",
      " [ 81.  ]\n",
      " [ 64.8 ]\n",
      " [ 98.05]\n",
      " [ 90.75]\n",
      " [ 68.45]\n",
      " [ 93.6 ]\n",
      " [ 74.25]\n",
      " [ 56.1 ]\n",
      " [ 89.1 ]\n",
      " [ 82.5 ]\n",
      " [ 77.55]\n",
      " [ 84.15]\n",
      " [ 91.8 ]\n",
      " [ 88.2 ]\n",
      " [ 97.2 ]\n",
      " [ 91.8 ]\n",
      " [ 91.8 ]\n",
      " [ 94.35]\n",
      " [ 95.4 ]\n",
      " [ 64.8 ]\n",
      " [ 87.4 ]\n",
      " [ 97.2 ]\n",
      " [ 91.8 ]\n",
      " [ 97.2 ]\n",
      " [ 91.8 ]\n",
      " [ 92.5 ]\n",
      " [ 90.75]\n",
      " [102.6 ]\n",
      " [ 90.  ]\n",
      " [100.8 ]\n",
      " [ 88.2 ]\n",
      " [ 76.5 ]\n",
      " [ 81.6 ]\n",
      " [ 81.  ]\n",
      " [ 81.6 ]\n",
      " [ 68.8 ]\n",
      " [ 76.8 ]\n",
      " [ 72.  ]\n",
      " [ 72.  ]\n",
      " [ 75.  ]\n",
      " [ 76.8 ]\n",
      " [ 78.4 ]\n",
      " [ 88.8 ]\n",
      " [ 85.8 ]\n",
      " [ 91.8 ]\n",
      " [ 76.8 ]\n",
      " [ 81.6 ]\n",
      " [ 89.6 ]\n",
      " [ 86.4 ]\n",
      " [ 88.2 ]\n",
      " [ 37.4 ]\n",
      " [ 86.4 ]\n",
      " [ 86.95]\n",
      " [ 63.  ]\n",
      " [ 86.4 ]\n",
      " [ 86.4 ]\n",
      " [ 75.2 ]\n",
      " [ 85.8 ]\n",
      " [ 83.2 ]\n",
      " [ 77.7 ]\n",
      " [ 87.45]\n",
      " [ 91.2 ]\n",
      " [ 86.4 ]\n",
      " [ 90.65]\n",
      " [ 94.05]\n",
      " [ 85.75]\n",
      " [ 94.35]\n",
      " [ 86.4 ]\n",
      " [ 72.  ]\n",
      " [ 84.  ]\n",
      " [ 79.2 ]\n",
      " [ 69.3 ]\n",
      " [ 88.8 ]\n",
      " [ 81.6 ]\n",
      " [ 55.8 ]\n",
      " [ 86.4 ]\n",
      " [ 83.25]\n",
      " [ 82.8 ]\n",
      " [ 86.1 ]\n",
      " [ 36.3 ]\n",
      " [ 79.2 ]\n",
      " [ 89.25]\n",
      " [102.6 ]\n",
      " [ 94.05]\n",
      " [ 85.8 ]\n",
      " [ 81.6 ]\n",
      " [ 89.1 ]\n",
      " [ 88.8 ]\n",
      " [ 81.  ]\n",
      " [ 78.4 ]\n",
      " [ 84.15]\n",
      " [ 79.2 ]\n",
      " [ 83.2 ]\n",
      " [ 90.75]\n",
      " [ 89.1 ]\n",
      " [ 89.1 ]\n",
      " [ 81.  ]\n",
      " [ 86.1 ]\n",
      " [ 86.4 ]\n",
      " [ 91.8 ]\n",
      " [ 94.35]\n",
      " [102.6 ]\n",
      " [ 82.8 ]\n",
      " [ 79.2 ]\n",
      " [ 89.1 ]\n",
      " [ 91.8 ]\n",
      " [ 91.8 ]\n",
      " [ 80.85]\n",
      " [ 36.75]\n",
      " [ 79.2 ]\n",
      " [ 64.35]\n",
      " [ 74.25]\n",
      " [ 84.15]\n",
      " [ 89.1 ]\n",
      " [ 74.25]\n",
      " [ 89.1 ]\n",
      " [ 86.4 ]\n",
      " [ 74.25]\n",
      " [ 75.6 ]\n",
      " [ 94.35]\n",
      " [ 93.6 ]\n",
      " [ 90.  ]\n",
      " [ 84.6 ]\n",
      " [ 89.1 ]\n",
      " [ 93.6 ]\n",
      " [ 79.2 ]\n",
      " [ 91.8 ]\n",
      " [ 97.2 ]\n",
      " [ 86.4 ]\n",
      " [ 70.2 ]\n",
      " [ 90.  ]\n",
      " [ 79.2 ]\n",
      " [ 79.8 ]\n",
      " [ 88.8 ]\n",
      " [ 88.8 ]\n",
      " [ 81.  ]\n",
      " [ 93.6 ]\n",
      " [ 97.2 ]\n",
      " [ 88.  ]\n",
      " [ 86.4 ]\n",
      " [ 75.2 ]\n",
      " [ 72.  ]\n",
      " [ 72.  ]\n",
      " [ 73.5 ]\n",
      " [ 66.  ]\n",
      " [ 77.4 ]\n",
      " [ 61.5 ]\n",
      " [ 81.6 ]\n",
      " [ 72.  ]\n",
      " [ 67.2 ]\n",
      " [ 89.1 ]\n",
      " [ 73.5 ]\n",
      " [ 76.5 ]\n",
      " [ 81.6 ]\n",
      " [ 72.5 ]\n",
      " [ 76.8 ]\n",
      " [ 59.4 ]\n",
      " [ 81.6 ]\n",
      " [ 81.4 ]\n",
      " [ 76.8 ]\n",
      " [ 58.5 ]\n",
      " [ 78.4 ]\n",
      " [ 81.  ]\n",
      " [ 86.4 ]\n",
      " [ 81.6 ]\n",
      " [ 72.  ]\n",
      " [ 73.8 ]\n",
      " [ 51.2 ]\n",
      " [ 76.5 ]\n",
      " [ 66.  ]\n",
      " [ 91.8 ]\n",
      " [ 74.25]\n",
      " [ 67.5 ]\n",
      " [ 88.2 ]\n",
      " [ 39.6 ]\n",
      " [ 72.  ]\n",
      " [ 79.2 ]\n",
      " [ 72.  ]\n",
      " [ 86.4 ]\n",
      " [ 83.25]\n",
      " [ 67.2 ]\n",
      " [ 86.95]\n",
      " [ 81.7 ]\n",
      " [ 79.2 ]\n",
      " [ 74.25]\n",
      " [ 72.  ]\n",
      " [ 76.5 ]\n",
      " [ 76.8 ]\n",
      " [ 62.4 ]\n",
      " [ 68.45]\n",
      " [ 85.8 ]\n",
      " [ 81.6 ]\n",
      " [ 21.6 ]\n",
      " [ 71.75]\n",
      " [ 73.6 ]\n",
      " [ 99.75]\n",
      " [ 88.8 ]\n",
      " [ 76.8 ]\n",
      " [ 78.4 ]\n",
      " [ 70.95]\n",
      " [ 59.2 ]\n",
      " [ 66.  ]\n",
      " [100.8 ]\n",
      " [ 75.9 ]\n",
      " [ 83.25]\n",
      " [ 52.5 ]\n",
      " [ 76.8 ]\n",
      " [ 87.45]\n",
      " [ 64.8 ]\n",
      " [ 57.6 ]\n",
      " [ 52.8 ]\n",
      " [ 82.5 ]\n",
      " [ 75.9 ]\n",
      " [ 80.  ]\n",
      " [ 81.6 ]\n",
      " [ 64.35]\n",
      " [ 81.6 ]\n",
      " [ 72.6 ]\n",
      " [ 55.8 ]\n",
      " [ 29.7 ]\n",
      " [ 77.9 ]\n",
      " [ 77.7 ]\n",
      " [ 92.8 ]\n",
      " [ 37.95]\n",
      " [ 88.8 ]\n",
      " [ 94.05]\n",
      " [ 92.75]\n",
      " [ 74.4 ]\n",
      " [ 89.25]\n",
      " [ 54.45]\n",
      " [ 39.6 ]\n",
      " [ 94.35]\n",
      " [ 84.15]\n",
      " [ 92.5 ]\n",
      " [ 73.6 ]\n",
      " [ 74.25]\n",
      " [ 68.8 ]\n",
      " [ 37.95]\n",
      " [ 64.  ]\n",
      " [ 84.6 ]\n",
      " [ 70.4 ]\n",
      " [ 89.1 ]\n",
      " [ 37.7 ]\n",
      " [ 77.4 ]\n",
      " [ 98.4 ]\n",
      " [ 69.3 ]\n",
      " [ 74.25]\n",
      " [ 41.85]\n",
      " [ 41.25]\n",
      " [ 39.6 ]\n",
      " [ 67.5 ]\n",
      " [ 74.25]\n",
      " [ 81.  ]\n",
      " [ 79.2 ]\n",
      " [ 95.2 ]\n",
      " [ 77.7 ]\n",
      " [ 44.55]\n",
      " [ 86.4 ]\n",
      " [ 91.8 ]\n",
      " [ 72.  ]\n",
      " [ 83.25]\n",
      " [ 54.45]\n",
      " [ 75.6 ]\n",
      " [ 77.55]\n",
      " [ 34.65]\n",
      " [ 91.8 ]\n",
      " [ 84.15]\n",
      " [ 47.25]\n",
      " [ 66.  ]\n",
      " [ 56.1 ]\n",
      " [ 74.25]\n",
      " [ 81.  ]\n",
      " [ 85.8 ]\n",
      " [ 89.1 ]\n",
      " [ 72.  ]\n",
      " [ 48.6 ]\n",
      " [ 84.15]\n",
      " [ 64.35]\n",
      " [ 66.  ]\n",
      " [ 69.75]\n",
      " [ 37.95]\n",
      " [ 42.9 ]\n",
      " [ 49.5 ]\n",
      " [ 96.35]\n",
      " [ 85.8 ]\n",
      " [ 79.2 ]\n",
      " [ 79.2 ]\n",
      " [ 80.85]\n",
      " [ 81.  ]\n",
      " [ 99.9 ]\n",
      " [ 89.1 ]\n",
      " [ 61.05]\n",
      " [ 39.6 ]\n",
      " [ 61.5 ]\n",
      " [ 66.  ]\n",
      " [ 64.35]\n",
      " [ 81.  ]\n",
      " [ 86.4 ]\n",
      " [ 74.25]\n",
      " [ 86.4 ]\n",
      " [ 51.15]\n",
      " [ 73.6 ]\n",
      " [ 67.3 ]\n",
      " [ 94.35]\n",
      " [ 84.6 ]\n",
      " [ 81.  ]\n",
      " [ 68.8 ]\n",
      " [ 86.4 ]\n",
      " [ 66.6 ]\n",
      " [ 86.4 ]\n",
      " [ 84.6 ]\n",
      " [ 72.  ]\n",
      " [ 60.45]\n",
      " [ 66.6 ]\n",
      " [ 69.3 ]\n",
      " [ 84.6 ]\n",
      " [ 79.8 ]\n",
      " [ 86.4 ]\n",
      " [ 93.6 ]\n",
      " [ 72.6 ]\n",
      " [ 70.2 ]\n",
      " [ 97.2 ]\n",
      " [ 81.  ]\n",
      " [ 64.35]\n",
      " [ 84.15]\n",
      " [ 75.2 ]\n",
      " [ 46.8 ]\n",
      " [ 70.2 ]]\n",
      "370\n",
      "Difficulty: \n",
      " [[3. ]\n",
      " [3.2]\n",
      " [3.7]\n",
      " [3. ]\n",
      " [3.2]\n",
      " [3.2]\n",
      " [3.2]\n",
      " [3.6]\n",
      " [3.6]\n",
      " [3.6]\n",
      " [3.2]\n",
      " [3.2]\n",
      " [3.6]\n",
      " [3.7]\n",
      " [3.3]\n",
      " [3.6]\n",
      " [3.7]\n",
      " [3.2]\n",
      " [3.7]\n",
      " [3.2]\n",
      " [3.2]\n",
      " [3.2]\n",
      " [3.3]\n",
      " [3.5]\n",
      " [3.2]\n",
      " [3.6]\n",
      " [4.1]\n",
      " [3.2]\n",
      " [3.5]\n",
      " [3.7]\n",
      " [3.3]\n",
      " [3.3]\n",
      " [3.5]\n",
      " [3.7]\n",
      " [3.6]\n",
      " [3.3]\n",
      " [3.3]\n",
      " [3.3]\n",
      " [3.6]\n",
      " [3.4]\n",
      " [3.6]\n",
      " [3.3]\n",
      " [3.6]\n",
      " [3.6]\n",
      " [3.7]\n",
      " [3.3]\n",
      " [3.7]\n",
      " [3.6]\n",
      " [3.3]\n",
      " [3.3]\n",
      " [3.3]\n",
      " [3.3]\n",
      " [3.3]\n",
      " [3.3]\n",
      " [3.6]\n",
      " [3.6]\n",
      " [3.6]\n",
      " [3.6]\n",
      " [3.6]\n",
      " [3.7]\n",
      " [3.6]\n",
      " [3.6]\n",
      " [3.8]\n",
      " [3.6]\n",
      " [3.6]\n",
      " [3.6]\n",
      " [3.6]\n",
      " [3.7]\n",
      " [3.3]\n",
      " [3.6]\n",
      " [3.6]\n",
      " [3.6]\n",
      " [3.6]\n",
      " [3. ]\n",
      " [3.2]\n",
      " [3.6]\n",
      " [3.2]\n",
      " [3.2]\n",
      " [3.2]\n",
      " [3. ]\n",
      " [3. ]\n",
      " [3. ]\n",
      " [3.2]\n",
      " [3.2]\n",
      " [3.7]\n",
      " [3.3]\n",
      " [3.6]\n",
      " [3.2]\n",
      " [3.2]\n",
      " [3.2]\n",
      " [3.2]\n",
      " [3.6]\n",
      " [3.4]\n",
      " [3.2]\n",
      " [3.7]\n",
      " [3. ]\n",
      " [3.6]\n",
      " [3.6]\n",
      " [3.2]\n",
      " [3.3]\n",
      " [3.2]\n",
      " [3.7]\n",
      " [3.3]\n",
      " [3.8]\n",
      " [3.2]\n",
      " [3.7]\n",
      " [3.3]\n",
      " [3.5]\n",
      " [3.7]\n",
      " [3.2]\n",
      " [3. ]\n",
      " [3.5]\n",
      " [3.3]\n",
      " [3.3]\n",
      " [3.7]\n",
      " [3.2]\n",
      " [3.6]\n",
      " [3.2]\n",
      " [3.7]\n",
      " [3.6]\n",
      " [4.1]\n",
      " [3.3]\n",
      " [3.3]\n",
      " [3.5]\n",
      " [3.6]\n",
      " [3.3]\n",
      " [3.3]\n",
      " [3.4]\n",
      " [3.3]\n",
      " [3.7]\n",
      " [3.6]\n",
      " [3.2]\n",
      " [3. ]\n",
      " [3.3]\n",
      " [3.2]\n",
      " [3.3]\n",
      " [3.3]\n",
      " [3.3]\n",
      " [3.6]\n",
      " [4.1]\n",
      " [3.6]\n",
      " [3.6]\n",
      " [3.7]\n",
      " [3.6]\n",
      " [3.6]\n",
      " [3.3]\n",
      " [3.3]\n",
      " [3.6]\n",
      " [3.6]\n",
      " [3.3]\n",
      " [3.5]\n",
      " [3.3]\n",
      " [3.3]\n",
      " [3.3]\n",
      " [3.3]\n",
      " [3.3]\n",
      " [3.3]\n",
      " [3.3]\n",
      " [3.6]\n",
      " [3.3]\n",
      " [3.6]\n",
      " [3.7]\n",
      " [3.6]\n",
      " [3.6]\n",
      " [3.6]\n",
      " [3.3]\n",
      " [3.6]\n",
      " [3.3]\n",
      " [3.6]\n",
      " [3.6]\n",
      " [3.6]\n",
      " [3.6]\n",
      " [3.6]\n",
      " [3.6]\n",
      " [3.8]\n",
      " [3.7]\n",
      " [3.7]\n",
      " [3.6]\n",
      " [3.6]\n",
      " [3.6]\n",
      " [3.2]\n",
      " [3.2]\n",
      " [3.2]\n",
      " [3.2]\n",
      " [3.2]\n",
      " [3. ]\n",
      " [3. ]\n",
      " [3.6]\n",
      " [3. ]\n",
      " [3.2]\n",
      " [3. ]\n",
      " [3.2]\n",
      " [3.3]\n",
      " [3. ]\n",
      " [3. ]\n",
      " [3.2]\n",
      " [2.9]\n",
      " [3.2]\n",
      " [3.6]\n",
      " [3.2]\n",
      " [3.7]\n",
      " [3.2]\n",
      " [3. ]\n",
      " [3.2]\n",
      " [3.6]\n",
      " [3.2]\n",
      " [3.2]\n",
      " [3. ]\n",
      " [3.6]\n",
      " [3.2]\n",
      " [3. ]\n",
      " [3.3]\n",
      " [3.4]\n",
      " [3.3]\n",
      " [3. ]\n",
      " [3.6]\n",
      " [3.3]\n",
      " [3.2]\n",
      " [3.3]\n",
      " [3.2]\n",
      " [3.2]\n",
      " [3.7]\n",
      " [3.2]\n",
      " [3.7]\n",
      " [3.8]\n",
      " [3.6]\n",
      " [3.3]\n",
      " [3. ]\n",
      " [3. ]\n",
      " [3.2]\n",
      " [3.2]\n",
      " [3.7]\n",
      " [3.3]\n",
      " [3.2]\n",
      " [3.6]\n",
      " [3.5]\n",
      " [3.2]\n",
      " [3.5]\n",
      " [3.7]\n",
      " [3.2]\n",
      " [3.2]\n",
      " [3.3]\n",
      " [3.2]\n",
      " [3. ]\n",
      " [3.6]\n",
      " [3.3]\n",
      " [3.7]\n",
      " [3. ]\n",
      " [3.2]\n",
      " [3.3]\n",
      " [3.6]\n",
      " [3.6]\n",
      " [3.3]\n",
      " [3.3]\n",
      " [3.3]\n",
      " [3.2]\n",
      " [3.2]\n",
      " [3.3]\n",
      " [3.2]\n",
      " [3.3]\n",
      " [3.6]\n",
      " [3.3]\n",
      " [4.1]\n",
      " [3.7]\n",
      " [3.2]\n",
      " [3.3]\n",
      " [3.7]\n",
      " [3.3]\n",
      " [3.5]\n",
      " [3.1]\n",
      " [3.5]\n",
      " [3.3]\n",
      " [3.3]\n",
      " [3.7]\n",
      " [3.3]\n",
      " [3.7]\n",
      " [3.2]\n",
      " [3.3]\n",
      " [3.2]\n",
      " [3.3]\n",
      " [3.2]\n",
      " [3.6]\n",
      " [3.2]\n",
      " [3.3]\n",
      " [2.9]\n",
      " [3.6]\n",
      " [4.1]\n",
      " [3.3]\n",
      " [3.3]\n",
      " [2.7]\n",
      " [3.3]\n",
      " [3.3]\n",
      " [3. ]\n",
      " [3.3]\n",
      " [3.6]\n",
      " [3.3]\n",
      " [3.4]\n",
      " [3.7]\n",
      " [3.3]\n",
      " [3.6]\n",
      " [3.6]\n",
      " [3.2]\n",
      " [3.7]\n",
      " [3.3]\n",
      " [3.6]\n",
      " [3.3]\n",
      " [3.3]\n",
      " [3.6]\n",
      " [3.3]\n",
      " [3.5]\n",
      " [3.3]\n",
      " [3.3]\n",
      " [3.3]\n",
      " [3.6]\n",
      " [3.3]\n",
      " [3.3]\n",
      " [3.2]\n",
      " [3.6]\n",
      " [3.3]\n",
      " [3.3]\n",
      " [3.3]\n",
      " [3.1]\n",
      " [3.3]\n",
      " [3.3]\n",
      " [3.3]\n",
      " [4.1]\n",
      " [3.3]\n",
      " [3.3]\n",
      " [3.3]\n",
      " [3.3]\n",
      " [3.6]\n",
      " [3.7]\n",
      " [3.3]\n",
      " [3.3]\n",
      " [3.6]\n",
      " [3. ]\n",
      " [3.3]\n",
      " [3.3]\n",
      " [3.6]\n",
      " [3.6]\n",
      " [3.3]\n",
      " [3.6]\n",
      " [3.3]\n",
      " [3.2]\n",
      " [3.2]\n",
      " [3.7]\n",
      " [3.6]\n",
      " [3.6]\n",
      " [3.2]\n",
      " [3.6]\n",
      " [3.7]\n",
      " [3.6]\n",
      " [3.6]\n",
      " [3.2]\n",
      " [3.1]\n",
      " [3.7]\n",
      " [3.3]\n",
      " [3.6]\n",
      " [3.8]\n",
      " [3.6]\n",
      " [3.6]\n",
      " [3.3]\n",
      " [3.6]\n",
      " [3.6]\n",
      " [3.6]\n",
      " [3.3]\n",
      " [3.3]\n",
      " [3.2]\n",
      " [3.6]\n",
      " [3.6]]\n",
      "370\n",
      "Training: \n",
      " [[  2   3   5   7   8   9  10  11  12  13  14  15  16  18  19  20  23  24\n",
      "   25  27  28  29  30  31  32  34  35  36  37  39  40  41  42  43  44  45\n",
      "   47  48  49  50  51  52  53  54  55  57  58  59  60  61  62  63  64  65\n",
      "   66  67  68  69  70  71  73  74  75  76  79  80  81  82  83  84  85  86\n",
      "   87  88  89  90  91  92  94  95  96  97  98  99 100 101 104 105 106 108\n",
      "  109 110 111 113 114 115 116 117 118 120 121 122 123 124 126 127 128 129\n",
      "  130 131 132 137 138 139 141 143 144 145 146 147 148 149 150 151 152 153\n",
      "  154 155 156 157 158 161 162 163 164 165 168 169 171 172 176 177 178 180\n",
      "  181 182 183 185 186 187 189 190 191 192 193 194 195 197 198 199 200 201\n",
      "  202 203 205 207 209 211 213 216 217 218 219 222 223 224 225 226 227 228\n",
      "  229 230 231 233 234 236 237 240 242 243 244 245 246 247 248 249 250 251\n",
      "  252 253 254 256 257 258 259 260 261 262 263 264 266 267 268 269 270 271\n",
      "  272 273 274 275 276 278 279 280 282 283 284 285 286 287 288 289 290 292\n",
      "  294 295 296 297 299 300 301 302 303 304 305 306 307 308 309 310 311 312\n",
      "  313 314 315 316 317 318 319 320 321 322 325 326 327 328 329 330 331 332\n",
      "  333 334 335 336 338 339 340 341 342 344 346 347 349 350 351 352 354 355\n",
      "  356 357 358 359 361 362 363 364 365 367 368 369]]\n",
      "1\n",
      "Testing: \n",
      " [[ 21 133 170  17 210 112 215 345 293  46 174  33 214 166 277 323 179  78\n",
      "    4 196 265 167 175 159 142  93 291 208 135 337 188 239 107 298 136 343\n",
      "  220 134   6 184 125 241  56 281   1 103  77 140 173 360  22 206 160 255\n",
      "  366 235 119 221 102  38 232 370 324  26  72 353 204 348 238 212]]\n",
      "1\n"
     ]
    }
   ],
   "source": [
    "print('Scores: \\n', scores[\"overall_scores\"])\n",
    "print(len(scores[\"overall_scores\"]))\n",
    "\n",
    "print('Difficulty: \\n', difficulty[\"difficulty_level\"])\n",
    "print(len(difficulty[\"difficulty_level\"]))\n",
    "\n",
    "# In the paper 80/20 split was used... We will do the same.\n",
    "print('Training: \\n', training['training_idx'])\n",
    "print(len(training['training_idx']))\n",
    "\n",
    "print('Testing: \\n', testing['testing_idx'])\n",
    "print(len(testing['testing_idx']))"
   ]
  },
  {
   "cell_type": "code",
   "execution_count": 7,
   "metadata": {},
   "outputs": [
    {
     "name": "stdout",
     "output_type": "stream",
     "text": [
      "<class 'list'>\n",
      "300\n",
      "70\n",
      "370\n"
     ]
    }
   ],
   "source": [
    "training_file_list = []\n",
    "testing_file_list = []\n",
    "file_list = []\n",
    "\n",
    "for file in os.listdir(DATA_DIR):\n",
    "    file_list.append(os.path.join(DATA_DIR,file))\n",
    "\n",
    "\n",
    "score_dict = [{'id': file_name, 'score': score} for file_name, score in zip(file_list, scores['overall_scores'])]\n",
    "print(type(score_dict))\n",
    "\n",
    "for _ in training['training_idx']:\n",
    "    for num in _:\n",
    "        if num < 10:\n",
    "            file_name = '00' + str(num) + '.avi'\n",
    "            dir_name = os.path.join(DATA_DIR, file_name)\n",
    "            training_file_list.append(dir_name)\n",
    "        elif num > 9 and num < 100:\n",
    "            file_name = '0' + str(num) + '.avi'\n",
    "            dir_name = os.path.join(DATA_DIR, file_name)\n",
    "            training_file_list.append(dir_name)\n",
    "        else:\n",
    "            file_name = str(num) + '.avi'\n",
    "            dir_name = os.path.join(DATA_DIR, file_name)\n",
    "            training_file_list.append(dir_name)\n",
    "\n",
    "#print(training_file_list)\n",
    "print(len(training_file_list))\n",
    "\n",
    "for _ in testing['testing_idx']:\n",
    "    for num in _:\n",
    "        if num < 10:\n",
    "            file_name = '00' + str(num) + '.avi'\n",
    "            dir_name = os.path.join(DATA_DIR, file_name)\n",
    "            testing_file_list.append(dir_name)\n",
    "        elif num > 9 and num < 100:\n",
    "            file_name = '0' + str(num) + '.avi'\n",
    "            dir_name = os.path.join(DATA_DIR, file_name)\n",
    "            testing_file_list.append(dir_name)\n",
    "        else:\n",
    "            file_name = str(num) + '.avi'\n",
    "            dir_name = os.path.join(DATA_DIR, file_name)\n",
    "            testing_file_list.append(dir_name)\n",
    "\n",
    "#print(testing_file_list)\n",
    "print(len(testing_file_list))\n",
    "\n",
    "print(len(score_dict))"
   ]
  },
  {
   "cell_type": "code",
   "execution_count": 8,
   "metadata": {},
   "outputs": [],
   "source": [
    "'''\n",
    "' Return the score for the specified video.\n",
    "' file_name - name of current file.\n",
    "' score_dict - dictionary that holds (id, score).\n",
    "'''\n",
    "def get_diving_score(file_name, score_dict):\n",
    "    for item in score_dict:\n",
    "        if item['id'] == file_name:\n",
    "            score_for_dive = item['score']\n",
    "\n",
    "    return score_for_dive"
   ]
  },
   ],
   "source": [
    "sequence_length = 120\n",
    "data_list = []\n",
    "score_list = np.empty(0, dtype = np.float32)\n",
    "\n",
    "\n",
    "for vid in training_file_list:\n",
    "    keypoint_list = []\n",
    "    cap = cv2.VideoCapture(vid)\n",
    "    with mp_holistic.Holistic(min_detection_confidence = 0.2, min_tracking_confidence = 0.2) as holistic:\n",
    "        for frame_num in range(sequence_length):\n",
    "            ret, frame = cap.read()\n",
    "\n",
    "            if cv2.waitKey(10) & 0xFF == ord('q') or ret == False:\n",
    "                cap.release()\n",
    "                cv2.destroyAllWindows()\n",
    "                break\n",
    "\n",
    "            image, results = mediapipe_detection(frame, holistic)\n",
    "\n",
    "            draw_pose_landmarks(image, results)\n",
    "\n",
    "            if frame_num == 0:\n",
    "                cv2.imshow('Starting', image)\n",
    "                cv2.waitKey(500)\n",
    "            else:\n",
    "                cv2.imshow('Diving Video', image)\n",
    "\n",
    "            #if results.pose_landmarks is not None:\n",
    "            keypoints = keypoint_extraction(results)\n",
    "            keypoint_list.append(keypoints)\n",
    "        \n",
    "        # Get score for current video\n",
    "        score = get_diving_score(vid, score_dict)\n",
    "        # Keep scores numpy array for train_test_split\n",
    "        score_list = np.append(score_list, score)\n",
    "        data_list.append(np.array(keypoint_list))\n",
    "        print(np.array(keypoint_list).shape)\n",
    "        print(vid)\n",
    "\n",
    "    cap.release()\n",
    "    cv2.destroyAllWindows()"
   ]
  },
  {
   "cell_type": "markdown",
   "metadata": {},
   "source": [
    "# Data Preporation"
   ]
  },
  {
   "cell_type": "code",
   "execution_count": 10,
   "metadata": {},
   "outputs": [
    {
     "name": "stdout",
     "output_type": "stream",
     "text": [
      "300\n",
      "300\n"
     ]
    }
   ],
   "source": [
    "print(len(data_list))\n",
    "print(len(score_list))"
   ]
  },
  {
   "cell_type": "code",
   "execution_count": 11,
   "metadata": {},
   "outputs": [],
   "source": [
    "X = np.array(data_list)\n",
    "y = score_list"
   ]
  },
  {
   "cell_type": "code",
   "execution_count": 13,
   "metadata": {},
   "outputs": [
    {
     "data": {
      "text/plain": [
       "(300, 120, 132)"
      ]
     },
     "execution_count": 13,
     "metadata": {},
     "output_type": "execute_result"
    }
   ],
   "source": [
    "X.shape"
   ]
  },
  {
   "cell_type": "code",
   "execution_count": 14,
   "metadata": {},
   "outputs": [
    {
     "data": {
      "text/plain": [
       "(300,)"
      ]
     },
     "execution_count": 14,
     "metadata": {},
     "output_type": "execute_result"
    }
   ],
   "source": [
    "y.shape # (videos_length,)"
   ]
  },
  {
   "cell_type": "code",
   "execution_count": 15,
   "metadata": {},
   "outputs": [],
   "source": [
    "X_train, X_test, y_train, y_test = train_test_split(X, y, test_size = 0.05)"
   ]
  },
  {
   "cell_type": "code",
   "execution_count": 16,
   "metadata": {},
   "outputs": [
    {
     "name": "stdout",
     "output_type": "stream",
     "text": [
      "(285, 120, 132)\n",
      "(15, 120, 132)\n",
      "(285,)\n",
      "(15,)\n"
     ]
    }
   ],
   "source": [
    "print(X_train.shape)\n",
    "print(X_test.shape)\n",
    "print(y_train.shape)\n",
    "print(y_test.shape)"
   ]
  },
  {
   "cell_type": "code",
   "execution_count": 17,
   "metadata": {},
   "outputs": [
    {
     "data": {
      "text/plain": [
       "array([93.6 , 71.75, 82.8 , 74.25, 79.2 , 81.  , 85.8 , 81.  , 67.2 ,\n",
       "       86.4 , 41.85, 79.2 , 98.05, 91.8 , 61.05])"
      ]
     },
     "execution_count": 17,
     "metadata": {},
     "output_type": "execute_result"
    }
   ],
   "source": [
    "y_test"
   ]
  },
  {
   "cell_type": "code",
   "execution_count": 18,
   "metadata": {},
   "outputs": [
    {
     "data": {
      "image/png": "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",
      "text/plain": [
       "<Figure size 1000x600 with 1 Axes>"
      ]
     },
     "metadata": {},
     "output_type": "display_data"
    }
   ],
   "source": [
    "plt.figure(figsize = (10, 6))\n",
    "plt.hist(y_train, bins = 30, color = 'skyblue', edgecolor = 'black')\n",
    "plt.title('Distribution of y_train')\n",
    "plt.xlabel('y_train values')\n",
    "plt.ylabel('Frequency')\n",
    "plt.grid(True)\n",
    "plt.show()"
   ]
  },
  {
   "cell_type": "markdown",
   "metadata": {},
   "source": [
    "# Model Creation"
   ]
  },
  {
   "cell_type": "code",
   "execution_count": null,
   "metadata": {},
   "outputs": [],
   "source": [
    "model = Sequential()\n",
    "\n",
    "model.add(Input(shape = (120, 132)))\n",
    "model.add(LSTM(128, return_sequences = True, activation = 'tanh'))\n",
    "model.add(LayerNormalization())\n",
    "model.add(Dropout(0.35))\n",
    "model.add(TimeDistributed(Dense(128)))\n",
    "model.add(LeakyReLU(alpha = 0.3))\n",
    "model.add(LayerNormalization())\n",
    "model.add(LSTM(128, return_sequences = True, activation = 'tanh'))\n",
    "model.add(LayerNormalization())\n",
    "model.add(Dropout(0.35))\n",
    "model.add(LSTM(64, return_sequences = False, activation = 'tanh'))\n",
    "model.add(LayerNormalization())\n",
    "model.add(Dropout(0.35))\n",
    "model.add(Dense(128, kernel_regularizer = regularizers.l2(1e-5)))\n",
    "model.add(LeakyReLU(alpha = 0.3))\n",
    "model.add(LayerNormalization())\n",
    "model.add(Dropout(0.35))\n",
    "model.add(Dense(128))\n",
    "model.add(LeakyReLU(alpha = 0.3))\n",
    "model.add(LayerNormalization())\n",
    "model.add(Dropout(0.35))\n",
    "model.add(Dense(64))\n",
    "model.add(LeakyReLU(alpha = 0.3))\n",
    "model.add(LayerNormalization())\n",
    "model.add(Dense(32))\n",
    "model.add(LeakyReLU(alpha = 0.3))\n",
    "model.add(LayerNormalization())\n",
    "model.add(Dense(1))\n",
    "\n",
    "model.compile(optimizer = RMSprop(learning_rate = 1e-3), loss = MeanAbsoluteError(), metrics = ['R2Score', 'mse', 'RootMeanSquaredError'])"
   ]
  },
  {
   "cell_type": "code",
   "execution_count": 27,
   "metadata": {},
   "outputs": [
    {
     "data": {
      "text/html": [
       "<pre style=\"white-space:pre;overflow-x:auto;line-height:normal;font-family:Menlo,'DejaVu Sans Mono',consolas,'Courier New',monospace\"><span style=\"font-weight: bold\">Model: \"sequential_1\"</span>\n",
       "</pre>\n"
      ],
      "text/plain": [
       "\u001b[1mModel: \"sequential_1\"\u001b[0m\n"
      ]
     },
     "metadata": {},
     "output_type": "display_data"
    },
    {
     "data": {
      "text/html": [
       "<pre style=\"white-space:pre;overflow-x:auto;line-height:normal;font-family:Menlo,'DejaVu Sans Mono',consolas,'Courier New',monospace\">┏━━━━━━━━━━━━━━━━━━━━━━━━━━━━━━━━━┳━━━━━━━━━━━━━━━━━━━━━━━━┳━━━━━━━━━━━━━━━┓\n",
       "┃<span style=\"font-weight: bold\"> Layer (type)                    </span>┃<span style=\"font-weight: bold\"> Output Shape           </span>┃<span style=\"font-weight: bold\">       Param # </span>┃\n",
       "┡━━━━━━━━━━━━━━━━━━━━━━━━━━━━━━━━━╇━━━━━━━━━━━━━━━━━━━━━━━━╇━━━━━━━━━━━━━━━┩\n",
       "│ lstm_3 (<span style=\"color: #0087ff; text-decoration-color: #0087ff\">LSTM</span>)                   │ (<span style=\"color: #00d7ff; text-decoration-color: #00d7ff\">None</span>, <span style=\"color: #00af00; text-decoration-color: #00af00\">120</span>, <span style=\"color: #00af00; text-decoration-color: #00af00\">256</span>)       │       <span style=\"color: #00af00; text-decoration-color: #00af00\">398,336</span> │\n",
       "├─────────────────────────────────┼────────────────────────┼───────────────┤\n",
       "│ layer_normalization_8           │ (<span style=\"color: #00d7ff; text-decoration-color: #00d7ff\">None</span>, <span style=\"color: #00af00; text-decoration-color: #00af00\">120</span>, <span style=\"color: #00af00; text-decoration-color: #00af00\">256</span>)       │           <span style=\"color: #00af00; text-decoration-color: #00af00\">512</span> │\n",
       "│ (<span style=\"color: #0087ff; text-decoration-color: #0087ff\">LayerNormalization</span>)            │                        │               │\n",
       "├─────────────────────────────────┼────────────────────────┼───────────────┤\n",
       "│ dropout_5 (<span style=\"color: #0087ff; text-decoration-color: #0087ff\">Dropout</span>)             │ (<span style=\"color: #00d7ff; text-decoration-color: #00d7ff\">None</span>, <span style=\"color: #00af00; text-decoration-color: #00af00\">120</span>, <span style=\"color: #00af00; text-decoration-color: #00af00\">256</span>)       │             <span style=\"color: #00af00; text-decoration-color: #00af00\">0</span> │\n",
       "├─────────────────────────────────┼────────────────────────┼───────────────┤\n",
       "│ time_distributed_1              │ (<span style=\"color: #00d7ff; text-decoration-color: #00d7ff\">None</span>, <span style=\"color: #00af00; text-decoration-color: #00af00\">120</span>, <span style=\"color: #00af00; text-decoration-color: #00af00\">128</span>)       │        <span style=\"color: #00af00; text-decoration-color: #00af00\">32,896</span> │\n",
       "│ (<span style=\"color: #0087ff; text-decoration-color: #0087ff\">TimeDistributed</span>)               │                        │               │\n",
       "├─────────────────────────────────┼────────────────────────┼───────────────┤\n",
       "│ leaky_re_lu_5 (<span style=\"color: #0087ff; text-decoration-color: #0087ff\">LeakyReLU</span>)       │ (<span style=\"color: #00d7ff; text-decoration-color: #00d7ff\">None</span>, <span style=\"color: #00af00; text-decoration-color: #00af00\">120</span>, <span style=\"color: #00af00; text-decoration-color: #00af00\">128</span>)       │             <span style=\"color: #00af00; text-decoration-color: #00af00\">0</span> │\n",
       "├─────────────────────────────────┼────────────────────────┼───────────────┤\n",
       "│ layer_normalization_9           │ (<span style=\"color: #00d7ff; text-decoration-color: #00d7ff\">None</span>, <span style=\"color: #00af00; text-decoration-color: #00af00\">120</span>, <span style=\"color: #00af00; text-decoration-color: #00af00\">128</span>)       │           <span style=\"color: #00af00; text-decoration-color: #00af00\">256</span> │\n",
       "│ (<span style=\"color: #0087ff; text-decoration-color: #0087ff\">LayerNormalization</span>)            │                        │               │\n",
       "├─────────────────────────────────┼────────────────────────┼───────────────┤\n",
       "│ lstm_4 (<span style=\"color: #0087ff; text-decoration-color: #0087ff\">LSTM</span>)                   │ (<span style=\"color: #00d7ff; text-decoration-color: #00d7ff\">None</span>, <span style=\"color: #00af00; text-decoration-color: #00af00\">120</span>, <span style=\"color: #00af00; text-decoration-color: #00af00\">128</span>)       │       <span style=\"color: #00af00; text-decoration-color: #00af00\">131,584</span> │\n",
       "├─────────────────────────────────┼────────────────────────┼───────────────┤\n",
       "│ layer_normalization_10          │ (<span style=\"color: #00d7ff; text-decoration-color: #00d7ff\">None</span>, <span style=\"color: #00af00; text-decoration-color: #00af00\">120</span>, <span style=\"color: #00af00; text-decoration-color: #00af00\">128</span>)       │           <span style=\"color: #00af00; text-decoration-color: #00af00\">256</span> │\n",
       "│ (<span style=\"color: #0087ff; text-decoration-color: #0087ff\">LayerNormalization</span>)            │                        │               │\n",
       "├─────────────────────────────────┼────────────────────────┼───────────────┤\n",
       "│ dropout_6 (<span style=\"color: #0087ff; text-decoration-color: #0087ff\">Dropout</span>)             │ (<span style=\"color: #00d7ff; text-decoration-color: #00d7ff\">None</span>, <span style=\"color: #00af00; text-decoration-color: #00af00\">120</span>, <span style=\"color: #00af00; text-decoration-color: #00af00\">128</span>)       │             <span style=\"color: #00af00; text-decoration-color: #00af00\">0</span> │\n",
       "├─────────────────────────────────┼────────────────────────┼───────────────┤\n",
       "│ lstm_5 (<span style=\"color: #0087ff; text-decoration-color: #0087ff\">LSTM</span>)                   │ (<span style=\"color: #00d7ff; text-decoration-color: #00d7ff\">None</span>, <span style=\"color: #00af00; text-decoration-color: #00af00\">64</span>)             │        <span style=\"color: #00af00; text-decoration-color: #00af00\">49,408</span> │\n",
       "├─────────────────────────────────┼────────────────────────┼───────────────┤\n",
       "│ layer_normalization_11          │ (<span style=\"color: #00d7ff; text-decoration-color: #00d7ff\">None</span>, <span style=\"color: #00af00; text-decoration-color: #00af00\">64</span>)             │           <span style=\"color: #00af00; text-decoration-color: #00af00\">128</span> │\n",
       "│ (<span style=\"color: #0087ff; text-decoration-color: #0087ff\">LayerNormalization</span>)            │                        │               │\n",
       "├─────────────────────────────────┼────────────────────────┼───────────────┤\n",
       "│ dropout_7 (<span style=\"color: #0087ff; text-decoration-color: #0087ff\">Dropout</span>)             │ (<span style=\"color: #00d7ff; text-decoration-color: #00d7ff\">None</span>, <span style=\"color: #00af00; text-decoration-color: #00af00\">64</span>)             │             <span style=\"color: #00af00; text-decoration-color: #00af00\">0</span> │\n",
       "├─────────────────────────────────┼────────────────────────┼───────────────┤\n",
       "│ dense_7 (<span style=\"color: #0087ff; text-decoration-color: #0087ff\">Dense</span>)                 │ (<span style=\"color: #00d7ff; text-decoration-color: #00d7ff\">None</span>, <span style=\"color: #00af00; text-decoration-color: #00af00\">256</span>)            │        <span style=\"color: #00af00; text-decoration-color: #00af00\">16,640</span> │\n",
       "├─────────────────────────────────┼────────────────────────┼───────────────┤\n",
       "│ leaky_re_lu_6 (<span style=\"color: #0087ff; text-decoration-color: #0087ff\">LeakyReLU</span>)       │ (<span style=\"color: #00d7ff; text-decoration-color: #00d7ff\">None</span>, <span style=\"color: #00af00; text-decoration-color: #00af00\">256</span>)            │             <span style=\"color: #00af00; text-decoration-color: #00af00\">0</span> │\n",
       "├─────────────────────────────────┼────────────────────────┼───────────────┤\n",
       "│ layer_normalization_12          │ (<span style=\"color: #00d7ff; text-decoration-color: #00d7ff\">None</span>, <span style=\"color: #00af00; text-decoration-color: #00af00\">256</span>)            │           <span style=\"color: #00af00; text-decoration-color: #00af00\">512</span> │\n",
       "│ (<span style=\"color: #0087ff; text-decoration-color: #0087ff\">LayerNormalization</span>)            │                        │               │\n",
       "├─────────────────────────────────┼────────────────────────┼───────────────┤\n",
       "│ dropout_8 (<span style=\"color: #0087ff; text-decoration-color: #0087ff\">Dropout</span>)             │ (<span style=\"color: #00d7ff; text-decoration-color: #00d7ff\">None</span>, <span style=\"color: #00af00; text-decoration-color: #00af00\">256</span>)            │             <span style=\"color: #00af00; text-decoration-color: #00af00\">0</span> │\n",
       "├─────────────────────────────────┼────────────────────────┼───────────────┤\n",
       "│ dense_8 (<span style=\"color: #0087ff; text-decoration-color: #0087ff\">Dense</span>)                 │ (<span style=\"color: #00d7ff; text-decoration-color: #00d7ff\">None</span>, <span style=\"color: #00af00; text-decoration-color: #00af00\">128</span>)            │        <span style=\"color: #00af00; text-decoration-color: #00af00\">32,896</span> │\n",
       "├─────────────────────────────────┼────────────────────────┼───────────────┤\n",
       "│ leaky_re_lu_7 (<span style=\"color: #0087ff; text-decoration-color: #0087ff\">LeakyReLU</span>)       │ (<span style=\"color: #00d7ff; text-decoration-color: #00d7ff\">None</span>, <span style=\"color: #00af00; text-decoration-color: #00af00\">128</span>)            │             <span style=\"color: #00af00; text-decoration-color: #00af00\">0</span> │\n",
       "├─────────────────────────────────┼────────────────────────┼───────────────┤\n",
       "│ layer_normalization_13          │ (<span style=\"color: #00d7ff; text-decoration-color: #00d7ff\">None</span>, <span style=\"color: #00af00; text-decoration-color: #00af00\">128</span>)            │           <span style=\"color: #00af00; text-decoration-color: #00af00\">256</span> │\n",
       "│ (<span style=\"color: #0087ff; text-decoration-color: #0087ff\">LayerNormalization</span>)            │                        │               │\n",
       "├─────────────────────────────────┼────────────────────────┼───────────────┤\n",
       "│ dropout_9 (<span style=\"color: #0087ff; text-decoration-color: #0087ff\">Dropout</span>)             │ (<span style=\"color: #00d7ff; text-decoration-color: #00d7ff\">None</span>, <span style=\"color: #00af00; text-decoration-color: #00af00\">128</span>)            │             <span style=\"color: #00af00; text-decoration-color: #00af00\">0</span> │\n",
       "├─────────────────────────────────┼────────────────────────┼───────────────┤\n",
       "│ dense_9 (<span style=\"color: #0087ff; text-decoration-color: #0087ff\">Dense</span>)                 │ (<span style=\"color: #00d7ff; text-decoration-color: #00d7ff\">None</span>, <span style=\"color: #00af00; text-decoration-color: #00af00\">64</span>)             │         <span style=\"color: #00af00; text-decoration-color: #00af00\">8,256</span> │\n",
       "├─────────────────────────────────┼────────────────────────┼───────────────┤\n",
       "│ leaky_re_lu_8 (<span style=\"color: #0087ff; text-decoration-color: #0087ff\">LeakyReLU</span>)       │ (<span style=\"color: #00d7ff; text-decoration-color: #00d7ff\">None</span>, <span style=\"color: #00af00; text-decoration-color: #00af00\">64</span>)             │             <span style=\"color: #00af00; text-decoration-color: #00af00\">0</span> │\n",
       "├─────────────────────────────────┼────────────────────────┼───────────────┤\n",
       "│ layer_normalization_14          │ (<span style=\"color: #00d7ff; text-decoration-color: #00d7ff\">None</span>, <span style=\"color: #00af00; text-decoration-color: #00af00\">64</span>)             │           <span style=\"color: #00af00; text-decoration-color: #00af00\">128</span> │\n",
       "│ (<span style=\"color: #0087ff; text-decoration-color: #0087ff\">LayerNormalization</span>)            │                        │               │\n",
       "├─────────────────────────────────┼────────────────────────┼───────────────┤\n",
       "│ dense_10 (<span style=\"color: #0087ff; text-decoration-color: #0087ff\">Dense</span>)                │ (<span style=\"color: #00d7ff; text-decoration-color: #00d7ff\">None</span>, <span style=\"color: #00af00; text-decoration-color: #00af00\">32</span>)             │         <span style=\"color: #00af00; text-decoration-color: #00af00\">2,080</span> │\n",
       "├─────────────────────────────────┼────────────────────────┼───────────────┤\n",
       "│ leaky_re_lu_9 (<span style=\"color: #0087ff; text-decoration-color: #0087ff\">LeakyReLU</span>)       │ (<span style=\"color: #00d7ff; text-decoration-color: #00d7ff\">None</span>, <span style=\"color: #00af00; text-decoration-color: #00af00\">32</span>)             │             <span style=\"color: #00af00; text-decoration-color: #00af00\">0</span> │\n",
       "├─────────────────────────────────┼────────────────────────┼───────────────┤\n",
       "│ layer_normalization_15          │ (<span style=\"color: #00d7ff; text-decoration-color: #00d7ff\">None</span>, <span style=\"color: #00af00; text-decoration-color: #00af00\">32</span>)             │            <span style=\"color: #00af00; text-decoration-color: #00af00\">64</span> │\n",
       "│ (<span style=\"color: #0087ff; text-decoration-color: #0087ff\">LayerNormalization</span>)            │                        │               │\n",
       "├─────────────────────────────────┼────────────────────────┼───────────────┤\n",
       "│ dense_11 (<span style=\"color: #0087ff; text-decoration-color: #0087ff\">Dense</span>)                │ (<span style=\"color: #00d7ff; text-decoration-color: #00d7ff\">None</span>, <span style=\"color: #00af00; text-decoration-color: #00af00\">1</span>)              │            <span style=\"color: #00af00; text-decoration-color: #00af00\">33</span> │\n",
       "└─────────────────────────────────┴────────────────────────┴───────────────┘\n",
       "</pre>\n"
      ],
      "text/plain": [
       "┏━━━━━━━━━━━━━━━━━━━━━━━━━━━━━━━━━┳━━━━━━━━━━━━━━━━━━━━━━━━┳━━━━━━━━━━━━━━━┓\n",
       "┃\u001b[1m \u001b[0m\u001b[1mLayer (type)                   \u001b[0m\u001b[1m \u001b[0m┃\u001b[1m \u001b[0m\u001b[1mOutput Shape          \u001b[0m\u001b[1m \u001b[0m┃\u001b[1m \u001b[0m\u001b[1m      Param #\u001b[0m\u001b[1m \u001b[0m┃\n",
       "┡━━━━━━━━━━━━━━━━━━━━━━━━━━━━━━━━━╇━━━━━━━━━━━━━━━━━━━━━━━━╇━━━━━━━━━━━━━━━┩\n",
       "│ lstm_3 (\u001b[38;5;33mLSTM\u001b[0m)                   │ (\u001b[38;5;45mNone\u001b[0m, \u001b[38;5;34m120\u001b[0m, \u001b[38;5;34m256\u001b[0m)       │       \u001b[38;5;34m398,336\u001b[0m │\n",
       "├─────────────────────────────────┼────────────────────────┼───────────────┤\n",
       "│ layer_normalization_8           │ (\u001b[38;5;45mNone\u001b[0m, \u001b[38;5;34m120\u001b[0m, \u001b[38;5;34m256\u001b[0m)       │           \u001b[38;5;34m512\u001b[0m │\n",
       "│ (\u001b[38;5;33mLayerNormalization\u001b[0m)            │                        │               │\n",
       "├─────────────────────────────────┼────────────────────────┼───────────────┤\n",
       "│ dropout_5 (\u001b[38;5;33mDropout\u001b[0m)             │ (\u001b[38;5;45mNone\u001b[0m, \u001b[38;5;34m120\u001b[0m, \u001b[38;5;34m256\u001b[0m)       │             \u001b[38;5;34m0\u001b[0m │\n",
       "├─────────────────────────────────┼────────────────────────┼───────────────┤\n",
       "│ time_distributed_1              │ (\u001b[38;5;45mNone\u001b[0m, \u001b[38;5;34m120\u001b[0m, \u001b[38;5;34m128\u001b[0m)       │        \u001b[38;5;34m32,896\u001b[0m │\n",
       "│ (\u001b[38;5;33mTimeDistributed\u001b[0m)               │                        │               │\n",
       "├─────────────────────────────────┼────────────────────────┼───────────────┤\n",
       "│ leaky_re_lu_5 (\u001b[38;5;33mLeakyReLU\u001b[0m)       │ (\u001b[38;5;45mNone\u001b[0m, \u001b[38;5;34m120\u001b[0m, \u001b[38;5;34m128\u001b[0m)       │             \u001b[38;5;34m0\u001b[0m │\n",
       "├─────────────────────────────────┼────────────────────────┼───────────────┤\n",
       "│ layer_normalization_9           │ (\u001b[38;5;45mNone\u001b[0m, \u001b[38;5;34m120\u001b[0m, \u001b[38;5;34m128\u001b[0m)       │           \u001b[38;5;34m256\u001b[0m │\n",
       "│ (\u001b[38;5;33mLayerNormalization\u001b[0m)            │                        │               │\n",
       "├─────────────────────────────────┼────────────────────────┼───────────────┤\n",
       "│ lstm_4 (\u001b[38;5;33mLSTM\u001b[0m)                   │ (\u001b[38;5;45mNone\u001b[0m, \u001b[38;5;34m120\u001b[0m, \u001b[38;5;34m128\u001b[0m)       │       \u001b[38;5;34m131,584\u001b[0m │\n",
       "├─────────────────────────────────┼────────────────────────┼───────────────┤\n",
       "│ layer_normalization_10          │ (\u001b[38;5;45mNone\u001b[0m, \u001b[38;5;34m120\u001b[0m, \u001b[38;5;34m128\u001b[0m)       │           \u001b[38;5;34m256\u001b[0m │\n",
       "│ (\u001b[38;5;33mLayerNormalization\u001b[0m)            │                        │               │\n",
       "├─────────────────────────────────┼────────────────────────┼───────────────┤\n",
       "│ dropout_6 (\u001b[38;5;33mDropout\u001b[0m)             │ (\u001b[38;5;45mNone\u001b[0m, \u001b[38;5;34m120\u001b[0m, \u001b[38;5;34m128\u001b[0m)       │             \u001b[38;5;34m0\u001b[0m │\n",
       "├─────────────────────────────────┼────────────────────────┼───────────────┤\n",
       "│ lstm_5 (\u001b[38;5;33mLSTM\u001b[0m)                   │ (\u001b[38;5;45mNone\u001b[0m, \u001b[38;5;34m64\u001b[0m)             │        \u001b[38;5;34m49,408\u001b[0m │\n",
       "├─────────────────────────────────┼────────────────────────┼───────────────┤\n",
       "│ layer_normalization_11          │ (\u001b[38;5;45mNone\u001b[0m, \u001b[38;5;34m64\u001b[0m)             │           \u001b[38;5;34m128\u001b[0m │\n",
       "│ (\u001b[38;5;33mLayerNormalization\u001b[0m)            │                        │               │\n",
       "├─────────────────────────────────┼────────────────────────┼───────────────┤\n",
       "│ dropout_7 (\u001b[38;5;33mDropout\u001b[0m)             │ (\u001b[38;5;45mNone\u001b[0m, \u001b[38;5;34m64\u001b[0m)             │             \u001b[38;5;34m0\u001b[0m │\n",
       "├─────────────────────────────────┼────────────────────────┼───────────────┤\n",
       "│ dense_7 (\u001b[38;5;33mDense\u001b[0m)                 │ (\u001b[38;5;45mNone\u001b[0m, \u001b[38;5;34m256\u001b[0m)            │        \u001b[38;5;34m16,640\u001b[0m │\n",
       "├─────────────────────────────────┼────────────────────────┼───────────────┤\n",
       "│ leaky_re_lu_6 (\u001b[38;5;33mLeakyReLU\u001b[0m)       │ (\u001b[38;5;45mNone\u001b[0m, \u001b[38;5;34m256\u001b[0m)            │             \u001b[38;5;34m0\u001b[0m │\n",
       "├─────────────────────────────────┼────────────────────────┼───────────────┤\n",
       "│ layer_normalization_12          │ (\u001b[38;5;45mNone\u001b[0m, \u001b[38;5;34m256\u001b[0m)            │           \u001b[38;5;34m512\u001b[0m │\n",
       "│ (\u001b[38;5;33mLayerNormalization\u001b[0m)            │                        │               │\n",
       "├─────────────────────────────────┼────────────────────────┼───────────────┤\n",
       "│ dropout_8 (\u001b[38;5;33mDropout\u001b[0m)             │ (\u001b[38;5;45mNone\u001b[0m, \u001b[38;5;34m256\u001b[0m)            │             \u001b[38;5;34m0\u001b[0m │\n",
       "├─────────────────────────────────┼────────────────────────┼───────────────┤\n",
       "│ dense_8 (\u001b[38;5;33mDense\u001b[0m)                 │ (\u001b[38;5;45mNone\u001b[0m, \u001b[38;5;34m128\u001b[0m)            │        \u001b[38;5;34m32,896\u001b[0m │\n",
       "├─────────────────────────────────┼────────────────────────┼───────────────┤\n",
       "│ leaky_re_lu_7 (\u001b[38;5;33mLeakyReLU\u001b[0m)       │ (\u001b[38;5;45mNone\u001b[0m, \u001b[38;5;34m128\u001b[0m)            │             \u001b[38;5;34m0\u001b[0m │\n",
       "├─────────────────────────────────┼────────────────────────┼───────────────┤\n",
       "│ layer_normalization_13          │ (\u001b[38;5;45mNone\u001b[0m, \u001b[38;5;34m128\u001b[0m)            │           \u001b[38;5;34m256\u001b[0m │\n",
       "│ (\u001b[38;5;33mLayerNormalization\u001b[0m)            │                        │               │\n",
       "├─────────────────────────────────┼────────────────────────┼───────────────┤\n",
       "│ dropout_9 (\u001b[38;5;33mDropout\u001b[0m)             │ (\u001b[38;5;45mNone\u001b[0m, \u001b[38;5;34m128\u001b[0m)            │             \u001b[38;5;34m0\u001b[0m │\n",
       "├─────────────────────────────────┼────────────────────────┼───────────────┤\n",
       "│ dense_9 (\u001b[38;5;33mDense\u001b[0m)                 │ (\u001b[38;5;45mNone\u001b[0m, \u001b[38;5;34m64\u001b[0m)             │         \u001b[38;5;34m8,256\u001b[0m │\n",
       "├─────────────────────────────────┼────────────────────────┼───────────────┤\n",
       "│ leaky_re_lu_8 (\u001b[38;5;33mLeakyReLU\u001b[0m)       │ (\u001b[38;5;45mNone\u001b[0m, \u001b[38;5;34m64\u001b[0m)             │             \u001b[38;5;34m0\u001b[0m │\n",
       "├─────────────────────────────────┼────────────────────────┼───────────────┤\n",
       "│ layer_normalization_14          │ (\u001b[38;5;45mNone\u001b[0m, \u001b[38;5;34m64\u001b[0m)             │           \u001b[38;5;34m128\u001b[0m │\n",
       "│ (\u001b[38;5;33mLayerNormalization\u001b[0m)            │                        │               │\n",
       "├─────────────────────────────────┼────────────────────────┼───────────────┤\n",
       "│ dense_10 (\u001b[38;5;33mDense\u001b[0m)                │ (\u001b[38;5;45mNone\u001b[0m, \u001b[38;5;34m32\u001b[0m)             │         \u001b[38;5;34m2,080\u001b[0m │\n",
       "├─────────────────────────────────┼────────────────────────┼───────────────┤\n",
       "│ leaky_re_lu_9 (\u001b[38;5;33mLeakyReLU\u001b[0m)       │ (\u001b[38;5;45mNone\u001b[0m, \u001b[38;5;34m32\u001b[0m)             │             \u001b[38;5;34m0\u001b[0m │\n",
       "├─────────────────────────────────┼────────────────────────┼───────────────┤\n",
       "│ layer_normalization_15          │ (\u001b[38;5;45mNone\u001b[0m, \u001b[38;5;34m32\u001b[0m)             │            \u001b[38;5;34m64\u001b[0m │\n",
       "│ (\u001b[38;5;33mLayerNormalization\u001b[0m)            │                        │               │\n",
       "├─────────────────────────────────┼────────────────────────┼───────────────┤\n",
       "│ dense_11 (\u001b[38;5;33mDense\u001b[0m)                │ (\u001b[38;5;45mNone\u001b[0m, \u001b[38;5;34m1\u001b[0m)              │            \u001b[38;5;34m33\u001b[0m │\n",
       "└─────────────────────────────────┴────────────────────────┴───────────────┘\n"
      ]
     },
     "metadata": {},
     "output_type": "display_data"
    },
    {
     "data": {
      "text/html": [
       "<pre style=\"white-space:pre;overflow-x:auto;line-height:normal;font-family:Menlo,'DejaVu Sans Mono',consolas,'Courier New',monospace\"><span style=\"font-weight: bold\"> Total params: </span><span style=\"color: #00af00; text-decoration-color: #00af00\">674,241</span> (2.57 MB)\n",
       "</pre>\n"
      ],
      "text/plain": [
       "\u001b[1m Total params: \u001b[0m\u001b[38;5;34m674,241\u001b[0m (2.57 MB)\n"
      ]
     },
     "metadata": {},
     "output_type": "display_data"
    },
    {
     "data": {
      "text/html": [
       "<pre style=\"white-space:pre;overflow-x:auto;line-height:normal;font-family:Menlo,'DejaVu Sans Mono',consolas,'Courier New',monospace\"><span style=\"font-weight: bold\"> Trainable params: </span><span style=\"color: #00af00; text-decoration-color: #00af00\">674,241</span> (2.57 MB)\n",
       "</pre>\n"
      ],
      "text/plain": [
       "\u001b[1m Trainable params: \u001b[0m\u001b[38;5;34m674,241\u001b[0m (2.57 MB)\n"
      ]
     },
     "metadata": {},
     "output_type": "display_data"
    },
    {
     "data": {
      "text/html": [
       "<pre style=\"white-space:pre;overflow-x:auto;line-height:normal;font-family:Menlo,'DejaVu Sans Mono',consolas,'Courier New',monospace\"><span style=\"font-weight: bold\"> Non-trainable params: </span><span style=\"color: #00af00; text-decoration-color: #00af00\">0</span> (0.00 B)\n",
       "</pre>\n"
      ],
      "text/plain": [
       "\u001b[1m Non-trainable params: \u001b[0m\u001b[38;5;34m0\u001b[0m (0.00 B)\n"
      ]
     },
     "metadata": {},
     "output_type": "display_data"
    }
   ],
   "source": [
    "model.summary()"
   ]
  },
  {
   "cell_type": "code",
   "execution_count": 28,
   "metadata": {},
   "outputs": [
    {
     "name": "stdout",
     "output_type": "stream",
     "text": [
      "Epoch 1/200\n",
      "\u001b[1m57/57\u001b[0m \u001b[32m━━━━━━━━━━━━━━━━━━━━\u001b[0m\u001b[37m\u001b[0m \u001b[1m9s\u001b[0m 90ms/step - R2Score: -36.9231 - RootMeanSquaredError: 73.8613 - loss: 72.5692 - mse: 5461.8062 - val_R2Score: -24.8761 - val_RootMeanSquaredError: 69.1688 - val_loss: 67.8202 - val_mse: 4784.3247 - learning_rate: 0.0010\n",
      "Epoch 2/200\n",
      "\u001b[1m57/57\u001b[0m \u001b[32m━━━━━━━━━━━━━━━━━━━━\u001b[0m\u001b[37m\u001b[0m \u001b[1m4s\u001b[0m 69ms/step - R2Score: -32.1235 - RootMeanSquaredError: 69.7527 - loss: 68.5928 - mse: 4866.4692 - val_R2Score: -22.5209 - val_RootMeanSquaredError: 65.9459 - val_loss: 64.5298 - val_mse: 4348.8608 - learning_rate: 0.0010\n",
      "Epoch 3/200\n",
      "\u001b[1m57/57\u001b[0m \u001b[32m━━━━━━━━━━━━━━━━━━━━\u001b[0m\u001b[37m\u001b[0m \u001b[1m4s\u001b[0m 71ms/step - R2Score: -23.9565 - RootMeanSquaredError: 65.7738 - loss: 64.4060 - mse: 4328.2695 - val_R2Score: -19.9896 - val_RootMeanSquaredError: 62.2964 - val_loss: 60.7953 - val_mse: 3880.8386 - learning_rate: 0.0010\n",
      "Epoch 4/200\n",
      "\u001b[1m57/57\u001b[0m \u001b[32m━━━━━━━━━━━━━━━━━━━━\u001b[0m\u001b[37m\u001b[0m \u001b[1m4s\u001b[0m 70ms/step - R2Score: -27.3680 - RootMeanSquaredError: 63.3075 - loss: 61.9796 - mse: 4013.9358 - val_R2Score: -17.3395 - val_RootMeanSquaredError: 58.2310 - val_loss: 56.6222 - val_mse: 3390.8506 - learning_rate: 0.0010\n",
      "Epoch 5/200\n",
      "\u001b[1m57/57\u001b[0m \u001b[32m━━━━━━━━━━━━━━━━━━━━\u001b[0m\u001b[37m\u001b[0m \u001b[1m4s\u001b[0m 75ms/step - R2Score: -16.0117 - RootMeanSquaredError: 57.4271 - loss: 55.5558 - mse: 3299.7078 - val_R2Score: -14.6345 - val_RootMeanSquaredError: 53.7653 - val_loss: 52.0184 - val_mse: 2890.7061 - learning_rate: 0.0010\n",
      "Epoch 6/200\n",
      "\u001b[1m57/57\u001b[0m \u001b[32m━━━━━━━━━━━━━━━━━━━━\u001b[0m\u001b[37m\u001b[0m \u001b[1m6s\u001b[0m 112ms/step - R2Score: -17.2079 - RootMeanSquaredError: 54.4729 - loss: 52.7419 - mse: 2973.4900 - val_R2Score: -11.9508 - val_RootMeanSquaredError: 48.9338 - val_loss: 47.0077 - val_mse: 2394.5198 - learning_rate: 0.0010\n",
      "Epoch 7/200\n",
      "\u001b[1m57/57\u001b[0m \u001b[32m━━━━━━━━━━━━━━━━━━━━\u001b[0m\u001b[37m\u001b[0m \u001b[1m4s\u001b[0m 66ms/step - R2Score: -15.1067 - RootMeanSquaredError: 48.8046 - loss: 47.1263 - mse: 2382.8438 - val_R2Score: -9.3391 - val_RootMeanSquaredError: 43.7223 - val_loss: 41.5551 - val_mse: 1911.6388 - learning_rate: 0.0010\n",
      "Epoch 8/200\n",
      "\u001b[1m57/57\u001b[0m \u001b[32m━━━━━━━━━━━━━━━━━━━━\u001b[0m\u001b[37m\u001b[0m \u001b[1m4s\u001b[0m 72ms/step - R2Score: -9.8150 - RootMeanSquaredError: 42.2328 - loss: 40.2592 - mse: 1784.3461 - val_R2Score: -6.9380 - val_RootMeanSquaredError: 38.3105 - val_loss: 35.9057 - val_mse: 1467.6914 - learning_rate: 0.0010\n",
      "Epoch 9/200\n",
      "\u001b[1m57/57\u001b[0m \u001b[32m━━━━━━━━━━━━━━━━━━━━\u001b[0m\u001b[37m\u001b[0m \u001b[1m4s\u001b[0m 70ms/step - R2Score: -7.5632 - RootMeanSquaredError: 37.0135 - loss: 34.9047 - mse: 1370.7300 - val_R2Score: -4.7549 - val_RootMeanSquaredError: 32.6196 - val_loss: 30.5619 - val_mse: 1064.0353 - learning_rate: 0.0010\n",
      "Epoch 10/200\n",
      "\u001b[1m57/57\u001b[0m \u001b[32m━━━━━━━━━━━━━━━━━━━━\u001b[0m\u001b[37m\u001b[0m \u001b[1m4s\u001b[0m 72ms/step - R2Score: -8.8328 - RootMeanSquaredError: 31.2792 - loss: 29.3936 - mse: 980.0812 - val_R2Score: -2.9337 - val_RootMeanSquaredError: 26.9689 - val_loss: 25.0497 - val_mse: 727.3204 - learning_rate: 0.0010\n",
      "Epoch 11/200\n",
      "\u001b[1m57/57\u001b[0m \u001b[32m━━━━━━━━━━━━━━━━━━━━\u001b[0m\u001b[37m\u001b[0m \u001b[1m4s\u001b[0m 70ms/step - R2Score: -2.1641 - RootMeanSquaredError: 26.1039 - loss: 23.7971 - mse: 682.6009 - val_R2Score: -1.4937 - val_RootMeanSquaredError: 21.4726 - val_loss: 19.3560 - val_mse: 461.0736 - learning_rate: 0.0010\n",
      "Epoch 12/200\n",
      "\u001b[1m57/57\u001b[0m \u001b[32m━━━━━━━━━━━━━━━━━━━━\u001b[0m\u001b[37m\u001b[0m \u001b[1m4s\u001b[0m 69ms/step - R2Score: -1.3500 - RootMeanSquaredError: 20.4538 - loss: 18.4616 - mse: 418.8971 - val_R2Score: -0.5423 - val_RootMeanSquaredError: 16.8868 - val_loss: 14.6611 - val_mse: 285.1653 - learning_rate: 0.0010\n",
      "Epoch 13/200\n",
      "\u001b[1m57/57\u001b[0m \u001b[32m━━━━━━━━━━━━━━━━━━━━\u001b[0m\u001b[37m\u001b[0m \u001b[1m4s\u001b[0m 69ms/step - R2Score: -0.4518 - RootMeanSquaredError: 16.6543 - loss: 14.2661 - mse: 278.2144 - val_R2Score: -0.0816 - val_RootMeanSquaredError: 14.1416 - val_loss: 11.3693 - val_mse: 199.9860 - learning_rate: 0.0010\n",
      "Epoch 14/200\n",
      "\u001b[1m57/57\u001b[0m \u001b[32m━━━━━━━━━━━━━━━━━━━━\u001b[0m\u001b[37m\u001b[0m \u001b[1m7s\u001b[0m 118ms/step - R2Score: -0.0605 - RootMeanSquaredError: 14.4847 - loss: 11.4263 - mse: 210.1979 - val_R2Score: -3.2794e-04 - val_RootMeanSquaredError: 13.5998 - val_loss: 9.9913 - val_mse: 184.9539 - learning_rate: 0.0010\n",
      "Epoch 15/200\n",
      "\u001b[1m57/57\u001b[0m \u001b[32m━━━━━━━━━━━━━━━━━━━━\u001b[0m\u001b[37m\u001b[0m \u001b[1m3s\u001b[0m 57ms/step - R2Score: -0.0070 - RootMeanSquaredError: 14.2330 - loss: 11.0219 - mse: 202.8987 - val_R2Score: -0.0452 - val_RootMeanSquaredError: 13.9014 - val_loss: 9.7084 - val_mse: 193.2486 - learning_rate: 0.0010\n",
      "Epoch 16/200\n",
      "\u001b[1m57/57\u001b[0m \u001b[32m━━━━━━━━━━━━━━━━━━━━\u001b[0m\u001b[37m\u001b[0m \u001b[1m3s\u001b[0m 56ms/step - R2Score: -0.0441 - RootMeanSquaredError: 14.0519 - loss: 10.6059 - mse: 197.9990 - val_R2Score: -0.0418 - val_RootMeanSquaredError: 13.8787 - val_loss: 9.6862 - val_mse: 192.6178 - learning_rate: 0.0010\n",
      "Epoch 17/200\n",
      "\u001b[1m57/57\u001b[0m \u001b[32m━━━━━━━━━━━━━━━━━━━━\u001b[0m\u001b[37m\u001b[0m \u001b[1m4s\u001b[0m 61ms/step - R2Score: -0.0266 - RootMeanSquaredError: 13.1188 - loss: 9.6421 - mse: 173.8464 - val_R2Score: -0.0542 - val_RootMeanSquaredError: 13.9613 - val_loss: 9.7635 - val_mse: 194.9169 - learning_rate: 0.0010\n",
      "Epoch 18/200\n",
      "\u001b[1m57/57\u001b[0m \u001b[32m━━━━━━━━━━━━━━━━━━━━\u001b[0m\u001b[37m\u001b[0m \u001b[1m4s\u001b[0m 71ms/step - R2Score: -0.0914 - RootMeanSquaredError: 15.1335 - loss: 11.0184 - mse: 230.5436 - val_R2Score: -0.0557 - val_RootMeanSquaredError: 13.9712 - val_loss: 9.7722 - val_mse: 195.1942 - learning_rate: 0.0010\n",
      "Epoch 19/200\n",
      "\u001b[1m57/57\u001b[0m \u001b[32m━━━━━━━━━━━━━━━━━━━━\u001b[0m\u001b[37m\u001b[0m \u001b[1m4s\u001b[0m 68ms/step - R2Score: -0.0552 - RootMeanSquaredError: 13.8397 - loss: 9.7979 - mse: 192.6195 - val_R2Score: -0.0503 - val_RootMeanSquaredError: 13.9353 - val_loss: 9.7402 - val_mse: 194.1928 - learning_rate: 0.0010\n",
      "Epoch 20/200\n",
      "\u001b[1m57/57\u001b[0m \u001b[32m━━━━━━━━━━━━━━━━━━━━\u001b[0m\u001b[37m\u001b[0m \u001b[1m4s\u001b[0m 71ms/step - R2Score: -0.0573 - RootMeanSquaredError: 14.3007 - loss: 10.3773 - mse: 204.7864 - val_R2Score: -0.0658 - val_RootMeanSquaredError: 14.0376 - val_loss: 9.8276 - val_mse: 197.0531 - learning_rate: 0.0010\n",
      "Epoch 21/200\n",
      "\u001b[1m57/57\u001b[0m \u001b[32m━━━━━━━━━━━━━━━━━━━━\u001b[0m\u001b[37m\u001b[0m \u001b[1m0s\u001b[0m 66ms/step - R2Score: -0.0330 - RootMeanSquaredError: 14.0227 - loss: 10.7095 - mse: 197.7078\n",
      "Epoch 21: ReduceLROnPlateau reducing learning rate to 0.0007000000332482159.\n",
      "\u001b[1m57/57\u001b[0m \u001b[32m━━━━━━━━━━━━━━━━━━━━\u001b[0m\u001b[37m\u001b[0m \u001b[1m4s\u001b[0m 68ms/step - R2Score: -0.0331 - RootMeanSquaredError: 14.0264 - loss: 10.7030 - mse: 197.7931 - val_R2Score: -0.0194 - val_RootMeanSquaredError: 13.7289 - val_loss: 9.7141 - val_mse: 188.4834 - learning_rate: 0.0010\n",
      "Epoch 22/200\n",
      "\u001b[1m57/57\u001b[0m \u001b[32m━━━━━━━━━━━━━━━━━━━━\u001b[0m\u001b[37m\u001b[0m \u001b[1m4s\u001b[0m 72ms/step - R2Score: -0.0294 - RootMeanSquaredError: 14.0605 - loss: 10.3886 - mse: 198.0371 - val_R2Score: -0.0476 - val_RootMeanSquaredError: 13.9172 - val_loss: 9.7201 - val_mse: 193.6881 - learning_rate: 7.0000e-04\n",
      "Epoch 23/200\n",
      "\u001b[1m57/57\u001b[0m \u001b[32m━━━━━━━━━━━━━━━━━━━━\u001b[0m\u001b[37m\u001b[0m \u001b[1m6s\u001b[0m 112ms/step - R2Score: -0.1606 - RootMeanSquaredError: 14.7006 - loss: 10.4512 - mse: 220.9456 - val_R2Score: -4.2265 - val_RootMeanSquaredError: 31.0861 - val_loss: 16.7710 - val_mse: 966.3485 - learning_rate: 7.0000e-04\n",
      "Epoch 24/200\n",
      "\u001b[1m57/57\u001b[0m \u001b[32m━━━━━━━━━━━━━━━━━━━━\u001b[0m\u001b[37m\u001b[0m \u001b[1m4s\u001b[0m 65ms/step - R2Score: -0.0237 - RootMeanSquaredError: 13.2827 - loss: 9.8542 - mse: 179.6196 - val_R2Score: -0.0383 - val_RootMeanSquaredError: 13.8558 - val_loss: 9.6637 - val_mse: 191.9832 - learning_rate: 7.0000e-04\n",
      "Epoch 25/200\n",
      "\u001b[1m57/57\u001b[0m \u001b[32m━━━━━━━━━━━━━━━━━━━━\u001b[0m\u001b[37m\u001b[0m \u001b[1m4s\u001b[0m 71ms/step - R2Score: -0.0422 - RootMeanSquaredError: 14.3590 - loss: 10.3437 - mse: 207.5268 - val_R2Score: -0.0383 - val_RootMeanSquaredError: 13.8558 - val_loss: 9.9909 - val_mse: 191.9822 - learning_rate: 7.0000e-04\n",
      "Epoch 26/200\n",
      "\u001b[1m57/57\u001b[0m \u001b[32m━━━━━━━━━━━━━━━━━━━━\u001b[0m\u001b[37m\u001b[0m \u001b[1m4s\u001b[0m 71ms/step - R2Score: -0.0621 - RootMeanSquaredError: 14.3421 - loss: 10.3822 - mse: 207.6284 - val_R2Score: -0.0365 - val_RootMeanSquaredError: 13.8431 - val_loss: 9.6639 - val_mse: 191.6327 - learning_rate: 7.0000e-04\n",
      "Epoch 27/200\n",
      "\u001b[1m57/57\u001b[0m \u001b[32m━━━━━━━━━━━━━━━━━━━━\u001b[0m\u001b[37m\u001b[0m \u001b[1m4s\u001b[0m 72ms/step - R2Score: -0.1747 - RootMeanSquaredError: 17.1290 - loss: 12.2540 - mse: 296.8651 - val_R2Score: -0.0422 - val_RootMeanSquaredError: 13.8816 - val_loss: 9.6906 - val_mse: 192.6989 - learning_rate: 7.0000e-04\n",
      "Epoch 28/200\n",
      "\u001b[1m57/57\u001b[0m \u001b[32m━━━━━━━━━━━━━━━━━━━━\u001b[0m\u001b[37m\u001b[0m \u001b[1m4s\u001b[0m 70ms/step - R2Score: -0.2142 - RootMeanSquaredError: 14.5682 - loss: 10.5327 - mse: 218.2830 - val_R2Score: -0.0509 - val_RootMeanSquaredError: 13.9392 - val_loss: 9.7432 - val_mse: 194.3022 - learning_rate: 7.0000e-04\n",
      "Epoch 29/200\n",
      "\u001b[1m57/57\u001b[0m \u001b[32m━━━━━━━━━━━━━━━━━━━━\u001b[0m\u001b[37m\u001b[0m \u001b[1m0s\u001b[0m 73ms/step - R2Score: -0.0354 - RootMeanSquaredError: 14.5471 - loss: 10.8448 - mse: 212.8230\n",
      "Epoch 29: ReduceLROnPlateau reducing learning rate to 0.0004900000232737511.\n",
      "\u001b[1m57/57\u001b[0m \u001b[32m━━━━━━━━━━━━━━━━━━━━\u001b[0m\u001b[37m\u001b[0m \u001b[1m4s\u001b[0m 75ms/step - R2Score: -0.0352 - RootMeanSquaredError: 14.5406 - loss: 10.8363 - mse: 212.6147 - val_R2Score: -0.0607 - val_RootMeanSquaredError: 14.0040 - val_loss: 9.7976 - val_mse: 196.1131 - learning_rate: 7.0000e-04\n",
      "Epoch 30/200\n",
      "\u001b[1m57/57\u001b[0m \u001b[32m━━━━━━━━━━━━━━━━━━━━\u001b[0m\u001b[37m\u001b[0m \u001b[1m4s\u001b[0m 65ms/step - R2Score: -0.4911 - RootMeanSquaredError: 16.0424 - loss: 10.6079 - mse: 265.7655 - val_R2Score: -0.0630 - val_RootMeanSquaredError: 14.0194 - val_loss: 9.8099 - val_mse: 196.5424 - learning_rate: 4.9000e-04\n",
      "Epoch 31/200\n",
      "\u001b[1m57/57\u001b[0m \u001b[32m━━━━━━━━━━━━━━━━━━━━\u001b[0m\u001b[37m\u001b[0m \u001b[1m7s\u001b[0m 118ms/step - R2Score: -0.1083 - RootMeanSquaredError: 13.7664 - loss: 9.9055 - mse: 194.5296 - val_R2Score: -0.0244 - val_RootMeanSquaredError: 13.7623 - val_loss: 9.6442 - val_mse: 189.4015 - learning_rate: 4.9000e-04\n",
      "Epoch 32/200\n",
      "\u001b[1m57/57\u001b[0m \u001b[32m━━━━━━━━━━━━━━━━━━━━\u001b[0m\u001b[37m\u001b[0m \u001b[1m4s\u001b[0m 69ms/step - R2Score: -0.0891 - RootMeanSquaredError: 14.8448 - loss: 10.9681 - mse: 222.0855 - val_R2Score: 0.0099 - val_RootMeanSquaredError: 13.5304 - val_loss: 9.4575 - val_mse: 183.0709 - learning_rate: 4.9000e-04\n",
      "Epoch 33/200\n",
      "\u001b[1m57/57\u001b[0m \u001b[32m━━━━━━━━━━━━━━━━━━━━\u001b[0m\u001b[37m\u001b[0m \u001b[1m4s\u001b[0m 75ms/step - R2Score: -0.0502 - RootMeanSquaredError: 14.4352 - loss: 10.8527 - mse: 209.5730 - val_R2Score: 0.0564 - val_RootMeanSquaredError: 13.2082 - val_loss: 9.2371 - val_mse: 174.4563 - learning_rate: 4.9000e-04\n",
      "Epoch 34/200\n",
      "\u001b[1m57/57\u001b[0m \u001b[32m━━━━━━━━━━━━━━━━━━━━\u001b[0m\u001b[37m\u001b[0m \u001b[1m4s\u001b[0m 72ms/step - R2Score: 0.0653 - RootMeanSquaredError: 13.8445 - loss: 10.2239 - mse: 192.1544 - val_R2Score: 0.0071 - val_RootMeanSquaredError: 13.5491 - val_loss: 9.3518 - val_mse: 183.5774 - learning_rate: 4.9000e-04\n",
      "Epoch 35/200\n",
      "\u001b[1m57/57\u001b[0m \u001b[32m━━━━━━━━━━━━━━━━━━━━\u001b[0m\u001b[37m\u001b[0m \u001b[1m4s\u001b[0m 72ms/step - R2Score: 0.0567 - RootMeanSquaredError: 13.7568 - loss: 10.6585 - mse: 190.2910 - val_R2Score: -0.0049 - val_RootMeanSquaredError: 13.6306 - val_loss: 9.4372 - val_mse: 185.7926 - learning_rate: 4.9000e-04\n",
      "Epoch 36/200\n",
      "\u001b[1m57/57\u001b[0m \u001b[32m━━━━━━━━━━━━━━━━━━━━\u001b[0m\u001b[37m\u001b[0m \u001b[1m4s\u001b[0m 68ms/step - R2Score: -0.1770 - RootMeanSquaredError: 16.4273 - loss: 11.6162 - mse: 272.9719 - val_R2Score: 0.0418 - val_RootMeanSquaredError: 13.3100 - val_loss: 9.2001 - val_mse: 177.1564 - learning_rate: 4.9000e-04\n",
      "Epoch 37/200\n",
      "\u001b[1m57/57\u001b[0m \u001b[32m━━━━━━━━━━━━━━━━━━━━\u001b[0m\u001b[37m\u001b[0m \u001b[1m4s\u001b[0m 73ms/step - R2Score: 0.0071 - RootMeanSquaredError: 13.6149 - loss: 9.9985 - mse: 186.0496 - val_R2Score: 0.2119 - val_RootMeanSquaredError: 12.0711 - val_loss: 9.2684 - val_mse: 145.7121 - learning_rate: 4.9000e-04\n",
      "Epoch 38/200\n",
      "\u001b[1m57/57\u001b[0m \u001b[32m━━━━━━━━━━━━━━━━━━━━\u001b[0m\u001b[37m\u001b[0m \u001b[1m4s\u001b[0m 67ms/step - R2Score: -0.0985 - RootMeanSquaredError: 13.9007 - loss: 9.6042 - mse: 197.4852 - val_R2Score: 0.0716 - val_RootMeanSquaredError: 13.1016 - val_loss: 9.2221 - val_mse: 171.6529 - learning_rate: 4.9000e-04\n",
      "Epoch 39/200\n",
      "\u001b[1m57/57\u001b[0m \u001b[32m━━━━━━━━━━━━━━━━━━━━\u001b[0m\u001b[37m\u001b[0m \u001b[1m7s\u001b[0m 119ms/step - R2Score: 0.0352 - RootMeanSquaredError: 13.2980 - loss: 9.7632 - mse: 177.4263 - val_R2Score: 0.1861 - val_RootMeanSquaredError: 12.2672 - val_loss: 8.9598 - val_mse: 150.4846 - learning_rate: 4.9000e-04\n",
      "Epoch 40/200\n",
      "\u001b[1m57/57\u001b[0m \u001b[32m━━━━━━━━━━━━━━━━━━━━\u001b[0m\u001b[37m\u001b[0m \u001b[1m4s\u001b[0m 71ms/step - R2Score: 0.0671 - RootMeanSquaredError: 12.8813 - loss: 9.7943 - mse: 168.0232 - val_R2Score: 0.1504 - val_RootMeanSquaredError: 12.5331 - val_loss: 9.1275 - val_mse: 157.0790 - learning_rate: 4.9000e-04\n",
      "Epoch 41/200\n",
      "\u001b[1m57/57\u001b[0m \u001b[32m━━━━━━━━━━━━━━━━━━━━\u001b[0m\u001b[37m\u001b[0m \u001b[1m4s\u001b[0m 73ms/step - R2Score: -0.0132 - RootMeanSquaredError: 13.9180 - loss: 10.0270 - mse: 197.7041 - val_R2Score: 0.1630 - val_RootMeanSquaredError: 12.4398 - val_loss: 8.8372 - val_mse: 154.7484 - learning_rate: 4.9000e-04\n",
      "Epoch 42/200\n",
      "\u001b[1m57/57\u001b[0m \u001b[32m━━━━━━━━━━━━━━━━━━━━\u001b[0m\u001b[37m\u001b[0m \u001b[1m4s\u001b[0m 68ms/step - R2Score: 0.0460 - RootMeanSquaredError: 14.0969 - loss: 10.6726 - mse: 201.2109 - val_R2Score: 0.1112 - val_RootMeanSquaredError: 12.8195 - val_loss: 9.3172 - val_mse: 164.3401 - learning_rate: 4.9000e-04\n",
      "Epoch 43/200\n",
      "\u001b[1m57/57\u001b[0m \u001b[32m━━━━━━━━━━━━━━━━━━━━\u001b[0m\u001b[37m\u001b[0m \u001b[1m4s\u001b[0m 76ms/step - R2Score: -0.0093 - RootMeanSquaredError: 12.8841 - loss: 9.8312 - mse: 168.1430 - val_R2Score: -0.0347 - val_RootMeanSquaredError: 13.8311 - val_loss: 9.4972 - val_mse: 191.3006 - learning_rate: 4.9000e-04\n",
      "Epoch 44/200\n",
      "\u001b[1m57/57\u001b[0m \u001b[32m━━━━━━━━━━━━━━━━━━━━\u001b[0m\u001b[37m\u001b[0m \u001b[1m4s\u001b[0m 68ms/step - R2Score: 0.0289 - RootMeanSquaredError: 13.3588 - loss: 10.0863 - mse: 179.0585 - val_R2Score: 0.1148 - val_RootMeanSquaredError: 12.7930 - val_loss: 9.1695 - val_mse: 163.6617 - learning_rate: 4.9000e-04\n",
      "Epoch 45/200\n",
      "\u001b[1m57/57\u001b[0m \u001b[32m━━━━━━━━━━━━━━━━━━━━\u001b[0m\u001b[37m\u001b[0m \u001b[1m4s\u001b[0m 68ms/step - R2Score: 0.0666 - RootMeanSquaredError: 13.4797 - loss: 10.2539 - mse: 182.2496 - val_R2Score: 0.1132 - val_RootMeanSquaredError: 12.8050 - val_loss: 9.1054 - val_mse: 163.9681 - learning_rate: 4.9000e-04\n",
      "Epoch 46/200\n",
      "\u001b[1m57/57\u001b[0m \u001b[32m━━━━━━━━━━━━━━━━━━━━\u001b[0m\u001b[37m\u001b[0m \u001b[1m0s\u001b[0m 67ms/step - R2Score: -0.0171 - RootMeanSquaredError: 13.7813 - loss: 9.8010 - mse: 191.8153  \n",
      "Epoch 46: ReduceLROnPlateau reducing learning rate to 0.00034300000406801696.\n",
      "\u001b[1m57/57\u001b[0m \u001b[32m━━━━━━━━━━━━━━━━━━━━\u001b[0m\u001b[37m\u001b[0m \u001b[1m4s\u001b[0m 69ms/step - R2Score: -0.0197 - RootMeanSquaredError: 13.8045 - loss: 9.8095 - mse: 192.4550 - val_R2Score: 0.1495 - val_RootMeanSquaredError: 12.5398 - val_loss: 9.6343 - val_mse: 157.2463 - learning_rate: 4.9000e-04\n",
      "Epoch 47/200\n",
      "\u001b[1m57/57\u001b[0m \u001b[32m━━━━━━━━━━━━━━━━━━━━\u001b[0m\u001b[37m\u001b[0m \u001b[1m7s\u001b[0m 119ms/step - R2Score: -0.1607 - RootMeanSquaredError: 14.5101 - loss: 10.0227 - mse: 212.4223 - val_R2Score: 0.1642 - val_RootMeanSquaredError: 12.4314 - val_loss: 9.1567 - val_mse: 154.5390 - learning_rate: 3.4300e-04\n",
      "Epoch 48/200\n",
      "\u001b[1m57/57\u001b[0m \u001b[32m━━━━━━━━━━━━━━━━━━━━\u001b[0m\u001b[37m\u001b[0m \u001b[1m4s\u001b[0m 70ms/step - R2Score: 0.0956 - RootMeanSquaredError: 12.4873 - loss: 9.4388 - mse: 157.1831 - val_R2Score: 0.1822 - val_RootMeanSquaredError: 12.2965 - val_loss: 9.0301 - val_mse: 151.2048 - learning_rate: 3.4300e-04\n",
      "Epoch 49/200\n",
      "\u001b[1m57/57\u001b[0m \u001b[32m━━━━━━━━━━━━━━━━━━━━\u001b[0m\u001b[37m\u001b[0m \u001b[1m4s\u001b[0m 66ms/step - R2Score: 0.0422 - RootMeanSquaredError: 13.4129 - loss: 9.9106 - mse: 180.2892 - val_R2Score: 0.1323 - val_RootMeanSquaredError: 12.6660 - val_loss: 9.4742 - val_mse: 160.4266 - learning_rate: 3.4300e-04\n",
      "Epoch 50/200\n",
      "\u001b[1m57/57\u001b[0m \u001b[32m━━━━━━━━━━━━━━━━━━━━\u001b[0m\u001b[37m\u001b[0m \u001b[1m4s\u001b[0m 68ms/step - R2Score: -0.1920 - RootMeanSquaredError: 14.0474 - loss: 9.8027 - mse: 199.0914 - val_R2Score: 0.1801 - val_RootMeanSquaredError: 12.3127 - val_loss: 9.2031 - val_mse: 151.6020 - learning_rate: 3.4300e-04\n",
      "Epoch 51/200\n",
      "\u001b[1m56/57\u001b[0m \u001b[32m━━━━━━━━━━━━━━━━━━━\u001b[0m\u001b[37m━\u001b[0m \u001b[1m0s\u001b[0m 69ms/step - R2Score: 0.0433 - RootMeanSquaredError: 13.0406 - loss: 9.3499 - mse: 173.1854\n",
      "Epoch 51: ReduceLROnPlateau reducing learning rate to 0.00024009999469853935.\n",
      "\u001b[1m57/57\u001b[0m \u001b[32m━━━━━━━━━━━━━━━━━━━━\u001b[0m\u001b[37m\u001b[0m \u001b[1m4s\u001b[0m 70ms/step - R2Score: 0.0434 - RootMeanSquaredError: 13.0614 - loss: 9.3635 - mse: 173.6311 - val_R2Score: 0.1023 - val_RootMeanSquaredError: 12.8831 - val_loss: 9.7244 - val_mse: 165.9748 - learning_rate: 3.4300e-04\n",
      "Epoch 52/200\n",
      "\u001b[1m57/57\u001b[0m \u001b[32m━━━━━━━━━━━━━━━━━━━━\u001b[0m\u001b[37m\u001b[0m \u001b[1m4s\u001b[0m 66ms/step - R2Score: 0.1589 - RootMeanSquaredError: 12.3899 - loss: 9.3398 - mse: 155.1356 - val_R2Score: 0.1295 - val_RootMeanSquaredError: 12.6866 - val_loss: 9.1998 - val_mse: 160.9486 - learning_rate: 2.4010e-04\n",
      "Epoch 53/200\n",
      "\u001b[1m57/57\u001b[0m \u001b[32m━━━━━━━━━━━━━━━━━━━━\u001b[0m\u001b[37m\u001b[0m \u001b[1m4s\u001b[0m 73ms/step - R2Score: 0.0876 - RootMeanSquaredError: 13.8112 - loss: 10.3106 - mse: 191.3491 - val_R2Score: 0.1081 - val_RootMeanSquaredError: 12.8415 - val_loss: 9.1285 - val_mse: 164.9045 - learning_rate: 2.4010e-04\n",
      "Epoch 54/200\n",
      "\u001b[1m57/57\u001b[0m \u001b[32m━━━━━━━━━━━━━━━━━━━━\u001b[0m\u001b[37m\u001b[0m \u001b[1m4s\u001b[0m 66ms/step - R2Score: 0.0822 - RootMeanSquaredError: 13.8035 - loss: 10.0465 - mse: 191.7855 - val_R2Score: 0.1021 - val_RootMeanSquaredError: 12.8849 - val_loss: 9.0305 - val_mse: 166.0197 - learning_rate: 2.4010e-04\n",
      "Epoch 55/200\n",
      "\u001b[1m57/57\u001b[0m \u001b[32m━━━━━━━━━━━━━━━━━━━━\u001b[0m\u001b[37m\u001b[0m \u001b[1m7s\u001b[0m 115ms/step - R2Score: 0.0747 - RootMeanSquaredError: 12.7510 - loss: 9.5310 - mse: 164.3602 - val_R2Score: 0.1147 - val_RootMeanSquaredError: 12.7943 - val_loss: 9.7374 - val_mse: 163.6929 - learning_rate: 2.4010e-04\n",
      "Epoch 56/200\n",
      "\u001b[1m56/57\u001b[0m \u001b[32m━━━━━━━━━━━━━━━━━━━\u001b[0m\u001b[37m━\u001b[0m \u001b[1m0s\u001b[0m 67ms/step - R2Score: 0.1388 - RootMeanSquaredError: 13.0895 - loss: 9.5570 - mse: 172.4542\n",
      "Epoch 56: ReduceLROnPlateau reducing learning rate to 0.00016806999628897755.\n",
      "\u001b[1m57/57\u001b[0m \u001b[32m━━━━━━━━━━━━━━━━━━━━\u001b[0m\u001b[37m\u001b[0m \u001b[1m4s\u001b[0m 68ms/step - R2Score: 0.1383 - RootMeanSquaredError: 13.0889 - loss: 9.5617 - mse: 172.3995 - val_R2Score: 0.1142 - val_RootMeanSquaredError: 12.7979 - val_loss: 9.3721 - val_mse: 163.7872 - learning_rate: 2.4010e-04\n",
      "Epoch 57/200\n",
      "\u001b[1m57/57\u001b[0m \u001b[32m━━━━━━━━━━━━━━━━━━━━\u001b[0m\u001b[37m\u001b[0m \u001b[1m4s\u001b[0m 71ms/step - R2Score: 0.0860 - RootMeanSquaredError: 12.8937 - loss: 9.7250 - mse: 166.7758 - val_R2Score: 0.1213 - val_RootMeanSquaredError: 12.7463 - val_loss: 9.3633 - val_mse: 162.4675 - learning_rate: 1.6807e-04\n",
      "Epoch 58/200\n",
      "\u001b[1m57/57\u001b[0m \u001b[32m━━━━━━━━━━━━━━━━━━━━\u001b[0m\u001b[37m\u001b[0m \u001b[1m4s\u001b[0m 65ms/step - R2Score: 0.0240 - RootMeanSquaredError: 13.1575 - loss: 9.5255 - mse: 173.7640 - val_R2Score: 0.1194 - val_RootMeanSquaredError: 12.7601 - val_loss: 9.6396 - val_mse: 162.8193 - learning_rate: 1.6807e-04\n",
      "Epoch 59/200\n",
      "\u001b[1m57/57\u001b[0m \u001b[32m━━━━━━━━━━━━━━━━━━━━\u001b[0m\u001b[37m\u001b[0m \u001b[1m4s\u001b[0m 72ms/step - R2Score: 0.0906 - RootMeanSquaredError: 13.5436 - loss: 9.9006 - mse: 183.6746 - val_R2Score: 0.1101 - val_RootMeanSquaredError: 12.8274 - val_loss: 9.3035 - val_mse: 164.5417 - learning_rate: 1.6807e-04\n",
      "Epoch 60/200\n",
      "\u001b[1m57/57\u001b[0m \u001b[32m━━━━━━━━━━━━━━━━━━━━\u001b[0m\u001b[37m\u001b[0m \u001b[1m4s\u001b[0m 69ms/step - R2Score: 0.1548 - RootMeanSquaredError: 12.6536 - loss: 9.4309 - mse: 161.8317 - val_R2Score: 0.1354 - val_RootMeanSquaredError: 12.6432 - val_loss: 9.1856 - val_mse: 159.8507 - learning_rate: 1.6807e-04\n",
      "Epoch 61/200\n",
      "\u001b[1m57/57\u001b[0m \u001b[32m━━━━━━━━━━━━━━━━━━━━\u001b[0m\u001b[37m\u001b[0m \u001b[1m0s\u001b[0m 73ms/step - R2Score: 0.1612 - RootMeanSquaredError: 12.2368 - loss: 9.1450 - mse: 150.3767\n",
      "Epoch 61: ReduceLROnPlateau reducing learning rate to 0.00011764899536501615.\n",
      "\u001b[1m57/57\u001b[0m \u001b[32m━━━━━━━━━━━━━━━━━━━━\u001b[0m\u001b[37m\u001b[0m \u001b[1m6s\u001b[0m 77ms/step - R2Score: 0.1604 - RootMeanSquaredError: 12.2519 - loss: 9.1511 - mse: 150.7486 - val_R2Score: 0.1434 - val_RootMeanSquaredError: 12.5851 - val_loss: 9.1021 - val_mse: 158.3836 - learning_rate: 1.6807e-04\n"
     ]
    }
   ],
   "source": [
    "early_stopping = EarlyStopping(monitor = 'val_loss', patience = 20, restore_best_weights = True)\n",
    "reduce_lr = ReduceLROnPlateau(monitor = 'val_loss', factor = 0.7, patience = 5, min_lr = 1e-5, verbose = 1)\n",
    "history = model.fit(X_train, y_train, validation_data = (X_test, y_test), epochs = 200, batch_size = 5, callbacks = [early_stopping, reduce_lr])"
   ]
  },
  {
   "cell_type": "code",
   "execution_count": 29,
   "metadata": {},
   "outputs": [
    {
     "data": {
      "image/png": "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",
      "text/plain": [
       "<Figure size 1000x600 with 1 Axes>"
      ]
     },
     "metadata": {},
     "output_type": "display_data"
    },
    {
     "data": {
      "image/png": "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",
      "text/plain": [
       "<Figure size 1000x600 with 1 Axes>"
      ]
     },
     "metadata": {},
     "output_type": "display_data"
    },
    {
     "data": {
      "image/png": "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",
      "text/plain": [
       "<Figure size 1000x600 with 1 Axes>"
      ]
     },
     "metadata": {},
     "output_type": "display_data"
    },
    {
     "data": {
      "image/png": "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",
      "text/plain": [
       "<Figure size 1000x600 with 1 Axes>"
      ]
     },
     "metadata": {},
     "output_type": "display_data"
    }
   ],
   "source": [
    "plt.figure(figsize = (10, 6))\n",
    "\n",
    "train_rmse = history.history['RootMeanSquaredError']\n",
    "val_rmse = history.history['val_RootMeanSquaredError']\n",
    "\n",
    "plt.plot(train_rmse, label = 'Training RMSE Loss')\n",
    "plt.plot(val_rmse, label = 'Validation RMSE Loss')\n",
    "plt.title('LSTM RMSE Loss Over Epochs')\n",
    "plt.xlabel('Epoch')\n",
    "plt.ylabel('RMSE Loss')\n",
    "plt.legend()\n",
    "plt.grid(True)\n",
    "plt.show()\n",
    "\n",
    "train_loss = history.history['loss']\n",
    "val_loss = history.history['val_loss']\n",
    "\n",
    "plt.figure(figsize = (10, 6))\n",
    "\n",
    "plt.plot(train_loss, label = 'Training MAE Loss')\n",
    "plt.plot(val_loss, label = 'Validation MAE Loss')\n",
    "plt.title('LSTM MAE Loss Over Epochs')\n",
    "plt.xlabel('Epoch')\n",
    "plt.ylabel('MAE Loss')\n",
    "plt.legend()\n",
    "plt.grid(True)\n",
    "plt.show()\n",
    "\n",
    "train_R2Score = history.history['R2Score']\n",
    "val_R2Score = history.history['val_R2Score']\n",
    "\n",
    "plt.figure(figsize = (10, 6))\n",
    "\n",
    "plt.plot(train_R2Score, label = 'Training R2Score Loss')\n",
    "plt.plot(val_R2Score, label = 'Validation R2Score Loss')\n",
    "plt.title('LSTM R2Score Loss Over Epochs')\n",
    "plt.xlabel('Epoch')\n",
    "plt.ylabel('R2Score Loss')\n",
    "plt.legend()\n",
    "plt.grid(True)\n",
    "plt.show()\n",
    "\n",
    "train_mse = history.history['mse']\n",
    "val_mse = history.history['val_mse']\n",
    "\n",
    "plt.figure(figsize = (10, 6))\n",
    "\n",
    "plt.plot(train_mse, label = 'Training MSE Loss')\n",
    "plt.plot(val_mse, label = 'Validation MSE Loss')\n",
    "plt.title('LSTM MSE Loss Over Epochs')\n",
    "plt.xlabel('Epoch')\n",
    "plt.ylabel('MSE Loss')\n",
    "plt.legend()\n",
    "plt.grid(True)\n",
    "plt.show()"
   ]
  },
  {
   "cell_type": "code",
   "execution_count": 22,
   "metadata": {},
   "outputs": [
    {
     "data": {
      "text/plain": [
       "array([85.8])"
      ]
     },
     "execution_count": 22,
     "metadata": {},
     "output_type": "execute_result"
    }
   ],
   "source": [
    "y_train[:1]"
   ]
  },
  {
   "cell_type": "code",
   "execution_count": 30,
   "metadata": {},
   "outputs": [
    {
     "name": "stdout",
     "output_type": "stream",
     "text": [
      "\u001b[1m1/1\u001b[0m \u001b[32m━━━━━━━━━━━━━━━━━━━━\u001b[0m\u001b[37m\u001b[0m \u001b[1m1s\u001b[0m 785ms/step\n"
     ]
    }
   ],
   "source": [
    "ypred = model.predict(X_test).flatten()\n",
    "\n",
    "ytrue = y_test.flatten()\n",
    "yhat = np.round(ypred, 2)"
   ]
  },
  {
   "cell_type": "code",
   "execution_count": 31,
   "metadata": {},
   "outputs": [
    {
     "data": {
      "text/plain": [
       "array([83.29, 77.69, 83.31, 83.36, 75.4 , 82.05, 81.62, 83.36, 79.9 ,\n",
       "       83.34, 78.4 , 83.29, 83.23, 83.31, 76.63], dtype=float32)"
      ]
     },
     "execution_count": 31,
     "metadata": {},
     "output_type": "execute_result"
    }
   ],
   "source": [
    "yhat"
   ]
  },
  {
   "cell_type": "code",
   "execution_count": 32,
   "metadata": {},
   "outputs": [
    {
     "name": "stdout",
     "output_type": "stream",
     "text": [
      "    y_true  y_hat  absolute_error\n",
      "0    93.60  83.29           10.31\n",
      "1    71.75  77.69            5.94\n",
      "2    82.80  83.31            0.51\n",
      "3    74.25  83.36            9.11\n",
      "4    79.20  75.40            3.80\n",
      "5    81.00  82.05            1.05\n",
      "6    85.80  81.62            4.18\n",
      "7    81.00  83.36            2.36\n",
      "8    67.20  79.90           12.70\n",
      "9    86.40  83.34            3.06\n",
      "10   41.85  78.40           36.55\n",
      "11   79.20  83.29            4.09\n",
      "12   98.05  83.23           14.82\n",
      "13   91.80  83.31            8.49\n",
      "14   61.05  76.63           15.58\n"
     ]
    }
   ],
   "source": [
    "import pandas as pd\n",
    "pd.set_option(\"display.float_format\", \"{:.2f}\".format)\n",
    "df = pd.DataFrame({'y_true': ytrue, 'y_hat': yhat, 'absolute_error': np.round(abs(ytrue - yhat), 2)})\n",
    "print(df)"
   ]
  },
  {
   "cell_type": "code",
   "execution_count": 53,
   "metadata": {},
   "outputs": [
    {
     "name": "stdout",
     "output_type": "stream",
     "text": [
      "r2 score:  0.1995305471745884\n",
      "MAE score:  5.664666849772136\n",
      "MSE score:  49.73393199707554\n",
      "RMSE score:  7.052228867320993\n",
      "Media Absolute Error:  4.249996948242185\n"
     ]
    }
   ],
   "source": [
    "mae = mean_absolute_error(ytrue, yhat)\n",
    "mse = mean_squared_error(ytrue, yhat)\n",
    "rmse = np.sqrt(mse)\n",
    "r2 = r2_score(ytrue, yhat)\n",
    "medae = median_absolute_error(ytrue, yhat)\n",
    "\n",
    "print('r2 score: ', r2)\n",
    "print('MAE score: ', mae)\n",
    "print('MSE score: ', mse)\n",
    "print('RMSE score: ', rmse)\n",
    "print('Media Absolute Error: ', medae)"
   ]
  },
  {
   "cell_type": "code",
   "execution_count": 281,
   "metadata": {},
   "outputs": [
    {
     "name": "stdout",
     "output_type": "stream",
     "text": [
      "MAE baseline: 10.1549\n",
      "MSE Baseline:  159.7\n",
      "RMSE Baseline:  12.6372\n",
      "R2 Baseline 0.0\n"
     ]
    }
   ],
   "source": [
    "mean_pred = np.mean(ytrue)\n",
    "y_pred_baseline = np.full_like(ytrue, fill_value = mean_pred)\n",
    "\n",
    "mae = mean_absolute_error(ytrue, y_pred_baseline)\n",
    "mse = mean_squared_error(ytrue, y_pred_baseline)\n",
    "rmse = np.sqrt(mse)\n",
    "r2 = r2_score(ytrue, y_pred_baseline)\n",
    "\n",
    "\n",
    "print('MAE baseline:', np.round(mae, 4))\n",
    "print('MSE Baseline: ', np.round(mse, 4))\n",
    "print('RMSE Baseline: ', np.round(rmse, 4))\n",
    "print('R2 Baseline', np.round(r2, 4))"
   ]
  },
  {
   "cell_type": "code",
   "execution_count": null,
   "metadata": {},
   "outputs": [],
   "source": [
    "model.save(f'./model_checkpoint/lstm-aqa-test.keras')"
   ]
  },
  {
   "cell_type": "code",
   "execution_count": 66,
   "metadata": {},
   "outputs": [
    {
     "data": {
      "image/png": "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",
      "text/plain": [
       "<Figure size 1000x600 with 1 Axes>"
      ]
     },
     "metadata": {},
     "output_type": "display_data"
    }
   ],
   "source": [
    "plt.figure(figsize=(10, 6))\n",
    "plt.scatter(df['y_true'], df['y_hat'], color = 'blue', alpha = 0.5)\n",
    "plt.plot([df['y_true'].min(), df['y_true'].max()], [df['y_true'].min(), df['y_true'].max()], color = 'red', linestyle = '--')\n",
    "plt.xlabel('True Values')\n",
    "plt.ylabel('Predicted Values')\n",
    "plt.title('True vs Predicted Values')\n",
    "plt.show()"
   ]
  },
  {
   "cell_type": "code",
   "execution_count": 65,
   "metadata": {},
   "outputs": [
    {
     "data": {
      "image/png": "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",
      "text/plain": [
       "<Figure size 640x480 with 1 Axes>"
      ]
     },
     "metadata": {},
     "output_type": "display_data"
    }
   ],
   "source": [
    "errors = y_test - yhat\n",
    "plt.hist(errors, bins = 20, color = 'orange', edgecolor = 'black')\n",
    "plt.title('Distribution of Prediction Errors')\n",
    "plt.xlabel('Prediction Error')\n",
    "plt.ylabel('Count')\n",
    "plt.grid(True)\n",
    "plt.show()"
   ]
  },
  {
   "cell_type": "markdown",
   "metadata": {},
   "source": [
    "# CatBoost Regression Model"
   ]
  },
  {
   "cell_type": "code",
   "execution_count": 12,
   "metadata": {},
   "outputs": [],
   "source": [
    "X_train_cat, X_test_cat, y_train_cat, y_test_cat = train_test_split(X, y, test_size = 0.05)"
   ]
  },
  {
   "cell_type": "code",
   "execution_count": 26,
   "metadata": {},
   "outputs": [
    {
     "data": {
      "text/plain": [
       "(285, 120, 132)"
      ]
     },
     "execution_count": 26,
     "metadata": {},
     "output_type": "execute_result"
    }
   ],
   "source": [
    "X_train_cat.shape"
   ]
  },
  {
   "cell_type": "code",
   "execution_count": 14,
   "metadata": {},
   "outputs": [],
   "source": [
    "X_train_cat_flat = X_train_cat.reshape(X_train_cat.shape[0], -1)\n",
    "X_test_cat_flat = X_test_cat.reshape(X_test_cat.shape[0], -1)"
   ]
  },
  {
   "cell_type": "code",
   "execution_count": 27,
   "metadata": {},
   "outputs": [
    {
     "data": {
      "text/plain": [
       "(285, 15840)"
      ]
     },
     "execution_count": 27,
     "metadata": {},
     "output_type": "execute_result"
    }
   ],
   "source": [
    "X_train_cat_flat.shape"
   ]
  },
  {
   "cell_type": "code",
   "execution_count": 15,
   "metadata": {},
   "outputs": [],
   "source": [
    "cat_model = CatBoostRegressor(\n",
    "    iterations = 200,\n",
    "    learning_rate = 1e-3,\n",
    "    eval_metric = 'MAE',\n",
    "    custom_metric = ['RMSE', 'R2'],\n",
    "    l2_leaf_reg = 5,\n",
    "    depth = 5,\n",
    "    grow_policy = 'Lossguide',\n",
    "    verbose = 10\n",
    ")"
   ]
  },
  {
   "cell_type": "code",
   "execution_count": 17,
   "metadata": {},
   "outputs": [],
   "source": [
    "train_pool = Pool(X_train_cat_flat, y_train_cat)\n",
    "val_pool = Pool(X_test_cat_flat, y_test_cat)"
   ]
  },
  {
   "cell_type": "code",
   "execution_count": 18,
   "metadata": {},
   "outputs": [
    {
     "name": "stdout",
     "output_type": "stream",
     "text": [
      "0:\tlearn: 10.7725878\ttest: 6.8789896\tbest: 6.8789896 (0)\ttotal: 420ms\tremaining: 1m 23s\n",
      "10:\tlearn: 10.7499003\ttest: 6.8775904\tbest: 6.8752874 (6)\ttotal: 3.65s\tremaining: 1m 2s\n",
      "20:\tlearn: 10.7281924\ttest: 6.8738381\tbest: 6.8708832 (18)\ttotal: 6.68s\tremaining: 57s\n",
      "30:\tlearn: 10.7058475\ttest: 6.8677008\tbest: 6.8671142 (28)\ttotal: 9.8s\tremaining: 53.4s\n",
      "40:\tlearn: 10.6844387\ttest: 6.8655150\tbest: 6.8641792 (38)\ttotal: 13s\tremaining: 50.3s\n",
      "50:\tlearn: 10.6620373\ttest: 6.8611302\tbest: 6.8597081 (48)\ttotal: 16.7s\tremaining: 48.8s\n",
      "60:\tlearn: 10.6387265\ttest: 6.8508882\tbest: 6.8508882 (60)\ttotal: 20.6s\tremaining: 47s\n",
      "70:\tlearn: 10.6143008\ttest: 6.8422608\tbest: 6.8418674 (69)\ttotal: 24.1s\tremaining: 43.8s\n",
      "80:\tlearn: 10.5915231\ttest: 6.8385936\tbest: 6.8376401 (78)\ttotal: 28.1s\tremaining: 41.3s\n",
      "90:\tlearn: 10.5690117\ttest: 6.8407398\tbest: 6.8376401 (78)\ttotal: 31.6s\tremaining: 37.9s\n",
      "100:\tlearn: 10.5477728\ttest: 6.8329965\tbest: 6.8329965 (100)\ttotal: 36.1s\tremaining: 35.4s\n",
      "110:\tlearn: 10.5265150\ttest: 6.8267966\tbest: 6.8267966 (110)\ttotal: 40.1s\tremaining: 32.2s\n",
      "120:\tlearn: 10.5060060\ttest: 6.8226877\tbest: 6.8217688 (117)\ttotal: 44.5s\tremaining: 29s\n",
      "130:\tlearn: 10.4858534\ttest: 6.8207100\tbest: 6.8183000 (128)\ttotal: 47.7s\tremaining: 25.1s\n",
      "140:\tlearn: 10.4643700\ttest: 6.8118397\tbest: 6.8118397 (140)\ttotal: 51s\tremaining: 21.3s\n",
      "150:\tlearn: 10.4417114\ttest: 6.8036244\tbest: 6.8032711 (148)\ttotal: 53.9s\tremaining: 17.5s\n",
      "160:\tlearn: 10.4198292\ttest: 6.7995912\tbest: 6.7989149 (159)\ttotal: 57.2s\tremaining: 13.9s\n",
      "170:\tlearn: 10.4001172\ttest: 6.7974246\tbest: 6.7963004 (169)\ttotal: 1m\tremaining: 10.2s\n",
      "180:\tlearn: 10.3793744\ttest: 6.7993215\tbest: 6.7963004 (169)\ttotal: 1m 3s\tremaining: 6.64s\n",
      "190:\tlearn: 10.3595965\ttest: 6.7964584\tbest: 6.7937978 (187)\ttotal: 1m 6s\tremaining: 3.14s\n",
      "199:\tlearn: 10.3424386\ttest: 6.7934132\tbest: 6.7925284 (196)\ttotal: 1m 9s\tremaining: 0us\n",
      "\n",
      "bestTest = 6.792528394\n",
      "bestIteration = 196\n",
      "\n",
      "Shrink model to first 197 iterations.\n"
     ]
    },
    {
     "data": {
      "text/plain": [
       "<catboost.core.CatBoostRegressor at 0x7f0a8b718530>"
      ]
     },
     "execution_count": 18,
     "metadata": {},
     "output_type": "execute_result"
    }
   ],
   "source": [
    "cat_model.fit(train_pool, eval_set = val_pool)"
   ]
  },
  {
   "cell_type": "code",
   "execution_count": 22,
   "metadata": {},
   "outputs": [
    {
     "name": "stdout",
     "output_type": "stream",
     "text": [
      "    y_true  y_hat  absolute_error\n",
      "0    91.80  78.97           12.83\n",
      "1    74.25  78.49            4.24\n",
      "2    89.10  79.43            9.67\n",
      "3    76.50  78.72            2.22\n",
      "4    81.60  78.47            3.13\n",
      "5    77.40  79.16            1.76\n",
      "6    79.20  78.61            0.59\n",
      "7    61.50  78.63           17.13\n",
      "8    88.80  79.06            9.74\n",
      "9    81.60  78.90            2.70\n",
      "10   88.80  79.27            9.53\n",
      "11   82.50  78.88            3.62\n",
      "12   94.05  79.20           14.85\n",
      "13   76.80  79.68            2.88\n",
      "14   85.80  78.80            7.00\n"
     ]
    }
   ],
   "source": [
    "ypred_cat = cat_model.predict(X_test_cat_flat).flatten()\n",
    "\n",
    "ytrue_cat = y_test_cat.flatten()\n",
    "yhat_cat = np.round(ypred_cat, 2)\n",
    "\n",
    "pd.set_option(\"display.float_format\", \"{:.2f}\".format)\n",
    "df_cat = pd.DataFrame({'y_true': ytrue_cat, 'y_hat': yhat_cat, 'absolute_error': np.round(abs(ytrue_cat - yhat_cat), 2)})\n",
    "print(df_cat)"
   ]
  },
  {
   "cell_type": "code",
   "execution_count": 23,
   "metadata": {},
   "outputs": [
    {
     "data": {
      "image/png": "iVBORw0KGgoAAAANSUhEUgAAA0kAAAIjCAYAAADWYVDIAAAAOnRFWHRTb2Z0d2FyZQBNYXRwbG90bGliIHZlcnNpb24zLjEwLjEsIGh0dHBzOi8vbWF0cGxvdGxpYi5vcmcvc2/+5QAAAAlwSFlzAAAPYQAAD2EBqD+naQAAc95JREFUeJzt3Xt8zvX/x/HntbGD2eY42zRsc9aUU0IO5UwiIiLkkLMkRHI+RZJQpCIlhVDJN4qi1HIoh+R8Jsewg9PY9vn98fm5bBk2tn2u69rjfrtdt12fw3XttetzXbuu5/V+f95vm2EYhgAAAAAAkiQ3qwsAAAAAAEdCSAIAAACAJAhJAAAAAJAEIQkAAAAAkiAkAQAAAEAShCQAAAAASIKQBAAAAABJEJIAAAAAIAlCEgAAAAAkQUgCAMAihw8fls1m08cff2xfN3LkSNlsNuuK+o+UaswsNptNI0eOzPTfCwCEJABO78CBA+rWrZvCwsLk5eUlPz8/VatWTe+8846uXLmS5vt77733UvxAuHbtWtlstmSXPHny6NFHH9Vnn32WDn/J/Rs/fry++uqru+5Xq1atW/6WlC6u/gG1Y8eOyf5ePz8/PfTQQ3rrrbcUFxdndXlpcrvnbWbo27evbDab9u/ff9t9hg4dKpvNpu3bt2diZQBwb7JZXQAA3I8VK1aoZcuW8vT0VPv27fXggw/q2rVrWr9+vQYOHKi///5bs2fPTtN9vvfee8qXL586duyY4va+ffuqUqVKkqRz585p4cKFateunaKiotSrV6/7/ZPuy/jx4/XMM8+oWbNmd9xv6NCh6tKli31506ZNmjZtml577TWVKlXKvr5s2bIZVarD8PT01IcffihJioqK0pIlSzRgwABt2rRJX3zxRabX8/rrr2vw4MFpvt3dnrcZqW3btpo+fboWLFig4cOHp7jP559/roiIiCzxnALg/AhJAJzWoUOH1Lp1axUuXFg//vijgoKC7Nt69eql/fv3a8WKFen+e6tXr65nnnnGvtyjRw+FhYVpwYIFloek1Kpbt26yZS8vL02bNk1169ZVrVq1bnu7S5cuycfHJ4Ory1zZsmVTu3bt7Ms9e/ZU5cqVtXDhQk2ZMkXBwcG33MYwDF29elXe3t4ZUk+2bM719ly5cmUVLVpUn3/+eYohKTIyUocOHdIbb7xhQXUAkHZ0twPgtCZNmqSLFy/qo48+ShaQbihatKheeukl+/LcuXP1xBNPKCAgQJ6enipdurRmzpyZ7DZFihTR33//rXXr1tm7YN0pNEiSh4eHcufOfcsH2/j4eI0ZM0bh4eHy9PRUkSJF9Nprr6XYjeu9995TmTJl5OnpqeDgYPXq1UtRUVHJ9tm3b59atGihwMBAeXl56YEHHlDr1q0VHR0tyTx/49KlS5o3b5699vtpVbhxbszOnTv13HPPKXfu3Hrsscckmd31UnpcOnbsqCJFiiRbl5iYqKlTp6pMmTLy8vJSgQIF1K1bN124cOGOv3/y5Mmy2Ww6cuTILduGDBkiDw8P+33c7bFJCzc3N/vfdvjwYUnm8+LJJ5/UqlWrVLFiRXl7e+v999+XZLY+9evXTyEhIfL09FTRokU1ceJEJSYmJrvfqKgodezYUf7+/sqVK5c6dOhwyzGWbn9O0vz58/XII48oR44cyp07t2rUqKHvv//eXt+dnrfpXWNK2rZtq927d+vPP/+8ZduCBQtks9nUpk0bXbt2TcOHD1eFChXk7+8vHx8fVa9eXT/99NNdf0dKzy/pzo9ZhQoV5O3trTx58qh169Y6duxYsn3S87kDwHU411dVAJDE8uXLFRYWpqpVq6Zq/5kzZ6pMmTJ66qmnlC1bNi1fvlw9e/ZUYmKivQVo6tSp6tOnj3LmzKmhQ4dKkgoUKJDsfmJjY/Xvv/9Kks6fP68FCxZox44d+uijj5Lt16VLF82bN0/PPPOMXnnlFW3YsEETJkzQrl27tGzZMvt+I0eO1KhRo1SnTh316NFDe/bs0cyZM7Vp0yb9+uuvyp49u65du6b69esrLi5Offr0UWBgoP755x99++23ioqKkr+/vz799FN16dJFjzzyiF588UVJUnh4+L09uEm0bNlSxYoV0/jx42UYRppv361bN3388cd64YUX1LdvXx06dEgzZszQli1b7H9fSlq1aqVBgwZp0aJFGjhwYLJtixYtUr169ZQ7d+5UPTZpdeDAAUlS3rx57ev27NmjNm3aqFu3buratatKlCihy5cvq2bNmvrnn3/UrVs3FSpUSL/99puGDBmikydPaurUqZLMlqemTZtq/fr16t69u0qVKqVly5apQ4cOqapn1KhRGjlypKpWrarRo0fLw8NDGzZs0I8//qh69erd8XmbWTW2bdtWo0aN0oIFC1S+fHn7+oSEBC1atEjVq1dXoUKF9O+//+rDDz9UmzZt1LVrV8XGxuqjjz5S/fr1tXHjRj388MOp+n13M27cOA0bNkytWrVSly5ddPbsWU2fPl01atTQli1blCtXrgx57gBwEQYAOKHo6GhDktG0adNU3+by5cu3rKtfv74RFhaWbF2ZMmWMmjVr3rLvTz/9ZEi65eLm5maMGzcu2b5bt241JBldunRJtn7AgAGGJOPHH380DMMwzpw5Y3h4eBj16tUzEhIS7PvNmDHDkGTMmTPHMAzD2LJliyHJWLx48R3/Rh8fH6NDhw533CclixcvNiQZP/30k33diBEjDElGmzZtbtm/Zs2aKT5GHTp0MAoXLmxf/uWXXwxJxmeffZZsv5UrV6a4/r+qVKliVKhQIdm6jRs3GpKMTz75xDCM1D82KenQoYPh4+NjnD171jh79qyxf/9+Y/z48YbNZjPKli1r369w4cKGJGPlypXJbj9mzBjDx8fH2Lt3b7L1gwcPNtzd3Y2jR48ahmEYX331lSHJmDRpkn2f+Ph4o3r16oYkY+7cufb1Nx73G/bt22e4ubkZTz/9dLLniGEYRmJiov367Z63GVHj7VSqVMl44IEHktV541i///779vuMi4tLdrsLFy4YBQoUMDp16pRsvSRjxIgR9uX/Pr9u+O9jdvjwYcPd3f2W1+Vff/1lZMuWzb7+fp47AFwb3e0AOKWYmBhJkq+vb6pvk/T8kejoaP3777+qWbOmDh48mKauNcOHD9cPP/ygH374QQsXLlSbNm00dOhQvfPOO/Z9/ve//0mS+vfvn+y2r7zyiiTZz5VavXq1rl27pn79+snN7ea/5K5du8rPz8++341vtFetWqXLly+nutb00L1793u+7eLFi+Xv76+6devq33//tV8qVKignDlz3rWL1bPPPqs//vjD3rIjSQsXLpSnp6eaNm0q6f4fm0uXLil//vzKnz+/ihYtqtdee01VqlRJ1tonSaGhoapfv/4tf1/16tWVO3fuZH9fnTp1lJCQoJ9//lmS+XzIli2bevToYb+tu7u7+vTpc9f6vvrqKyUmJmr48OHJniOSUjVUeGbUeEO7du10/Phx+31KZlc7Dw8PtWzZ0n6fHh4eksyumOfPn1d8fLwqVqyYYle9e7F06VIlJiaqVatWyf7mwMBAFStWzP68s/J1BcCx0d0OgFPy8/OTZHZ9S61ff/1VI0aMUGRk5C0fiKKjo1PdtSYiIkJ16tSxL7dq1UrR0dEaPHiwnnvuOeXPn19HjhyRm5ubihYtmuy2gYGBypUrl/08mxs/S5QokWw/Dw8PhYWF2beHhoaqf//+mjJlij777DNVr15dTz31lNq1a5fhXYJCQ0Pv+bb79u1TdHS0AgICUtx+5syZO96+ZcuW6t+/vxYuXKjXXntNhmFo8eLFatiwof05cL+PjZeXl5YvXy7JHOkuNDRUDzzwwC37pfQ47Nu3T9u3b1f+/Pnv+PcdOXJEQUFBypkzZ7Lt/z3uKTlw4IDc3NxUunTpu+6bksyo8YbWrVurf//+WrBggWrVqqWrV69q2bJlatiwoXLnzm3fb968eXrrrbe0e/duXb9+3b7+fp5rSe3bt0+GYahYsWIpbr/RxdPK1xUAx0ZIAuCU/Pz8FBwcrB07dqRq/wMHDqh27doqWbKkpkyZopCQEHl4eOh///uf3n777VtOYE+r2rVr69tvv9XGjRvVuHFj+/r0nBT0rbfeUseOHfX111/r+++/V9++fTVhwgT9/vvvKX6oTy8pjeBms9lSPD8pISEh2XJiYqICAgJuO4/U7T643xAcHKzq1atr0aJFeu211/T777/r6NGjmjhxYrL97uexcXd3TxZ6byelxyExMVF169bVoEGDUrxN8eLF73q/GS0zawwICFDdunW1ZMkSvfvuu1q+fLliY2PVtm1b+z7z589Xx44d1axZMw0cOFABAQFyd3fXhAkTkrUYpuR2r6eUnnc2m03fffed3N3db9k/aRC06nUFwLERkgA4rSeffFKzZ89WZGSkqlSpcsd9ly9frri4OH3zzTcqVKiQfX1K3b3uJdjEx8dLki5evChJKly4sBITE7Vv375k8w6dPn1aUVFRKly4sH0/yRwUICwszL7ftWvXdOjQoVs+vEdERCgiIkKvv/66fvvtN1WrVk2zZs3S2LFj77n2e5E7d24dPHjwlvX/HYkuPDxcq1evVrVq1e55uOxnn31WPXv21J49e7Rw4ULlyJFDTZo0uWW/uz02GSE8PFwXL168a8gqXLiw1qxZo4sXLyb7gL5nz55U/Y7ExETt3LnzjoMa3O7YZ0aNSbVt21YrV67Ud999pwULFsjPzy/Z8fryyy8VFhampUuXJqt5xIgRd73v3LlzpzjaXkrPO8MwFBoamqoQaMVzB4Bj45wkAE5r0KBB8vHxUZcuXXT69Olbth84cMB+ntCNb5OTtn5ER0dr7ty5t9zOx8cn1cMe3/Dtt99Kkh566CFJUqNGjSTJPnLYDVOmTJEke2tTnTp15OHhoWnTpiWr7aOPPlJ0dLR9v5iYGHsQuyEiIkJubm7JhhS/l9rvRXh4uHbv3q2zZ8/a123btk2//vprsv1atWqlhIQEjRkz5pb7iI+PT1WtLVq0kLu7uz7//HMtXrxYTz75ZLK5mlL72GSEVq1aKTIyUqtWrbplW1RUlL2uRo0aKT4+PtmQ8wkJCZo+ffpdf0ezZs3k5uam0aNH39LimfQ5c7tjnxk1/rfeHDly6L333tN3332n5s2by8vLy749pdfihg0bFBkZedf7Dg8PV3R0tLZv325fd/LkyVvOH2vevLnc3d01atSoW1o8DcPQuXPnJFn73AHg2GhJAuC0wsPDtWDBAj377LMqVaqU2rdvrwcffFDXrl3Tb7/9psWLF9vnCapXr548PDzUpEkTdevWTRcvXtQHH3yggIAAnTx5Mtn9VqhQQTNnztTYsWNVtGhRBQQE6IknnrBv/+WXX3T16lVJ5hDg33zzjdatW6fWrVurZMmSksyw1KFDB82ePVtRUVGqWbOmNm7cqHnz5qlZs2Z6/PHHJZndzYYMGaJRo0apQYMGeuqpp7Rnzx699957qlSpkn2S0x9//FG9e/dWy5YtVbx4ccXHx+vTTz+Vu7u7WrRokaz21atX2ydBDQ0NVeXKldP9se/UqZOmTJmi+vXrq3Pnzjpz5oxmzZqlMmXK2AfVkKSaNWuqW7dumjBhgrZu3ap69eope/bs2rdvnxYvXqx33nkn2cS8KQkICNDjjz+uKVOmKDY2Vs8++2yy7al9bDLCwIED9c033+jJJ59Ux44dVaFCBV26dEl//fWXvvzySx0+fFj58uVTkyZNVK1aNQ0ePFiHDx9W6dKltXTp0lQNGFK0aFENHTpUY8aMUfXq1dW8eXN5enpq06ZNCg4O1oQJEyTd/nmbGTUmlTNnTjVr1kwLFiyQpGRd7SSzBXjp0qV6+umn1bhxYx06dEizZs1S6dKl7S2xt9O6dWu9+uqrevrpp9W3b19dvnxZM2fOVPHixZMN+hAeHq6xY8dqyJAhOnz4sJo1ayZfX18dOnRIy5Yt04svvqgBAwZY+twB4OCsGlYPANLL3r17ja5duxpFihQxPDw8DF9fX6NatWrG9OnTjatXr9r3++abb4yyZcsaXl5eRpEiRYyJEycac+bMMSQZhw4dsu936tQpo3Hjxoavr68hyT6sckpDgHt4eBglS5Y0xo0bZ1y7di1ZXdevXzdGjRplhIaGGtmzZzdCQkKMIUOGJKvphhkzZhglS5Y0smfPbhQoUMDo0aOHceHCBfv2gwcPGp06dTLCw8MNLy8vI0+ePMbjjz9urF69Otn97N6926hRo4bh7e1tSEr1cOB3GgL87NmzKd5m/vz5RlhYmOHh4WE8/PDDxqpVq247RPPs2bONChUqGN7e3oavr68RERFhDBo0yDhx4kSq6vvggw8MSYavr69x5cqVZNtS+9ik5MYQ4HdTuHBho3Hjxilui42NNYYMGWIULVrU8PDwMPLly2dUrVrVmDx5crLnxLlz54znn3/e8PPzM/z9/Y3nn3/ePgT1nYYAv2HOnDlGuXLlDE9PTyN37txGzZo1jR9++MG+/XbP24yo8W5WrFhhSDKCgoJSHLZ8/PjxRuHChQ1PT0+jXLlyxrfffpvic0f/GQLcMAzj+++/Nx588EHDw8PDKFGihDF//vzbPmZLliwxHnvsMcPHx8fw8fExSpYsafTq1cvYs2ePYRj399wB4NpshnEPMwMCAAAAgIvinCQAAAAASIKQBAAAAABJEJIAAAAAIAlCEgAAAAAkQUgCAAAAgCQISQAAAACQhMtPJpuYmKgTJ07I19dXNpvN6nIAAAAAWMQwDMXGxio4OFhubrdvL3L5kHTixAmFhIRYXQYAAAAAB3Hs2DE98MADt93u8iHJ19dXkvlA+Pn5WVwNAAAAAKvExMQoJCTEnhFux+VD0o0udn5+foQkAAAAAHc9DYeBGwAAAAAgCUISAAAAACRhaUiKjY1Vv379VLhwYXl7e6tq1aratGmTfXvHjh1ls9mSXRo0aGBhxQAAAABcnaXnJHXp0kU7duzQp59+quDgYM2fP1916tTRzp07VbBgQUlSgwYNNHfuXPttPD09rSoXAAAAQBZgWUi6cuWKlixZoq+//lo1atSQJI0cOVLLly/XzJkzNXbsWElmKAoMDEz1/cbFxSkuLs6+HBMTk76FAwAAAHBplnW3i4+PV0JCgry8vJKt9/b21vr16+3La9euVUBAgEqUKKEePXro3Llzd7zfCRMmyN/f335hjiQAAAAAaWEzDMOw6pdXrVpVHh4eWrBggQoUKKDPP/9cHTp0UNGiRbVnzx598cUXypEjh0JDQ3XgwAG99tprypkzpyIjI+Xu7p7ifabUkhQSEqLo6GiGAAcAAACysJiYGPn7+981G1gakg4cOKBOnTrp559/lru7u8qXL6/ixYvrjz/+0K5du27Z/+DBgwoPD9fq1atVu3btVP2O1D4QAAAAAFxbarOBpaPbhYeHa926dbp48aKOHTumjRs36vr16woLC0tx/7CwMOXLl0/79+/P5EoBAAAAZBUOMU+Sj4+PgoKCdOHCBa1atUpNmzZNcb/jx4/r3LlzCgoKyuQKAQAAAGQVlg4BvmrVKhmGoRIlSmj//v0aOHCgSpYsqRdeeEEXL17UqFGj1KJFCwUGBurAgQMaNGiQihYtqvr161tZNgAAAAAXZmlLUnR0tHr16qWSJUuqffv2euyxx7Rq1Splz55d7u7u2r59u5566ikVL15cnTt3VoUKFfTLL78wVxIAAACADGPpwA2ZgYEbAAAAAEhOMnADAAAAADgaQhIAAAAAJEFIAgAAAIAkCEkAAAAAMkZiohQXZ3UVaUZIAgAAAJD+Nm+WqlSRhg2zupI0IyQBAAAASF9Ll0qPPCJt3CjNmSPFxlpdUZoQkgAAAACkr3r1pIIFpeefl3bskHx9ra4oTbJZXQAAAAAAJxcZKc2dK82aJbm5STlzSn/9JeXKZXVl94SWJAAAAAD35swZqVMnqWpV6YMPpE8+ubnNSQOSREgCAAAAkFbx8dK0aVLx4mYLkmSGpUaNrK0rndDdDgAAAEDq/fyz1Lu32Z1OksqXl959V3r0UWvrSke0JAEAAABIHcOQXnnFDEh58pjnIG3c6FIBSaIlCQAAAMCdXL9uTgrr6SnZbNL06WYXu/Hjpbx5ra4uQ9CSBAAAACBlP/0kPfywGYhuePRR6f33XTYgSYQkAAAAAP91/Lj07LPSE09IO3eaLUdXr1pdVaYhJAEAAAAwXbsmTZwolSwpLVpkznnUu7e0bZvk5WV1dZmGc5IAAAAASJs3S23bSnv3msvVqkkzZpjd7bIYWpIAAAAASPnySUePSgUKSPPmSb/8kiUDkkRIAgAAALKmq1elr7++uVykiLm8Z4/Uvr05kl0WRUgCAAAAspoVK6QHH5SaNZN+/fXm+nr1JH9/y8pyFIQkAAAAIKs4eFB66inpySelAwek4GApNtbqqhwOIQkAAABwdZcvSyNGSKVLS8uXS9mySQMHSrt3Sw0aWF2dw2F0OwAAAMCVGYZUu7b0++/mcp060vTp5jDfSBEtSQAAAIArs9mknj2lkBDpyy+l778nIN0FIQkAAABwJZcuSa+9Ji1ceHNdu3Zm17oWLbL0qHWpRXc7AAAAwBUYhtlS1L+/dPy4FBRkDtDg42MGoxw5rK7QadCSBAAAADi7XbukunWlVq3MgFSkiDRzJsHoHhGSAAAAAGcVG2uOUle2rLRmjeTpaY5it3On1LQpXevuEd3tAAAAAGe1das0ebJ5/amnpLfflsLCLC3JFRCSAAAAAGdy4YKUO7d5vXp1afBg82ejRtbW5ULobgcAAAA4g6go6aWXpMKFpaNHb66fMIGAlM4ISQAAAIAjS0yU5s2TSpSQpk0zz0P68kurq3JpdLcDAAAAHNWWLVLv3tJvv5nLJUpI06ebI9khw9CSBAAAADiiV16RKlY0A5KPjzRpkrR9OwEpE9CSBAAAADgib2+zq13r1uYIdgULWl1RlkFIAgAAABzBpk2Sh4f00EPm8pAhZqtRzZrW1pUF0d0OAAAAsNK//0ovvihVrix17Wq2HklmFzsCkiUISQAAAIAVEhKkmTOl4sWlDz6QDEMqWVK6fNnqyrI8utsBAAAAmS0yUurVyxy9TpLKlpXefVd67DFr64IkQhIAAACQudatk2rVMq/7+0tjx0rdu0vZ+GjuKDgSAAAAQGaqXt08/6hMGWnCBCkgwOqK8B+ckwQAAABkpJ9/lho3li5dMpfd3MzWpI8+IiA5KEISAAAAkBFOnJDatTNHqPvf/8y5jm7w9LSuLtwVIQkAAABIT9evS2+9JZUoIX32mWSzSd26Sb17W10ZUolzkgAAAID08tNPZhjaudNcrlxZmjFDqljR2rqQJrQkAQAAAOnlvffMgJQvn3nO0W+/EZCcEC1JAAAAwL26ds2c/DVXLnP5rbekggWlESOk3LktLQ33jpYkAAAA4F58/70UEWFOCntDoULS1KkEJCdHSxIAAACQFkeOSC+/LC1bZi7HxEjnz0t58lhbF9INLUkAAABAaly9Ko0ZI5UqZQYkd3epXz9p924CkouhJQkAAAC4mx07pGbNpAMHzOWaNc1R6x580NKykDFoSQIAAADupnBhc4CG4GDp88/Nob4JSC6LkAQAAAD81+XL0vvvS4ZhLvv6St9+a3ata93anCAWLsvSkBQbG6t+/fqpcOHC8vb2VtWqVbVp0yb7dsMwNHz4cAUFBcnb21t16tTRvn37LKwYAAAALs0wpK++kkqXlrp3lz799Oa28uXNsASXZ2lI6tKli3744Qd9+umn+uuvv1SvXj3VqVNH//zzjyRp0qRJmjZtmmbNmqUNGzbIx8dH9evX19WrV60sGwAAAK5o716pYUPp6afNEexCQhiQIYuyGcaNNsTMdeXKFfn6+urrr79W48aN7esrVKighg0basyYMQoODtYrr7yiAQMGSJKio6NVoEABffzxx2rdunWqfk9MTIz8/f0VHR0tPz+/DPlbAAAA4MQuXZLGjjUngr1+XfLwkAYOlIYMkXx8rK4O6Si12cCy0e3i4+OVkJAgLy+vZOu9vb21fv16HTp0SKdOnVKdOnXs2/z9/VW5cmVFRkbeNiTFxcUpLi7OvhwTE5MxfwAAAABcw7PPSitWmNcbNpTeeUcqVszammApy7rb+fr6qkqVKhozZoxOnDihhIQEzZ8/X5GRkTp58qROnTolSSpQoECy2xUoUMC+LSUTJkyQv7+//RISEpKhfwcAAACc3JAhUmioeS7SihUEJFh7TtKnn34qwzBUsGBBeXp6atq0aWrTpo3c3O69rCFDhig6Otp+OXbsWDpWDAAAAKcWGysNGCCNH39zXbVq5vlITZsyah0kWRySwsPDtW7dOl28eFHHjh3Txo0bdf36dYWFhSkwMFCSdPr06WS3OX36tH1bSjw9PeXn55fsAgAAgCzOMKQFC6QSJcxzj8aMkZJ+zsxm2VkocEAOMU+Sj4+PgoKCdOHCBa1atUpNmzZVaGioAgMDtWbNGvt+MTEx2rBhg6pUqWJhtQAAAHAqf/0l1aoltW0rnTwpFS0qLV0q/ee0DuAGSyPzqlWrZBiGSpQoof3792vgwIEqWbKkXnjhBdlsNvXr109jx45VsWLFFBoaqmHDhik4OFjNmjWzsmwAAAA4g+hoafhw6d13pYQEydtbev116ZVXJE9Pq6uDA7M0JEVHR2vIkCE6fvy48uTJoxYtWmjcuHHKnj27JGnQoEG6dOmSXnzxRUVFRemxxx7TypUrbxkRDwAAALjFuXPS+++bAalFC2nKFKlQIaurghOwbJ6kzMI8SQAAAFnIsWPmJLA3zJolhYdLdetaVxMcRmqzgUOckwQAAADcl/PnpV69zKG8IyNvru/enYCENCMkAQAAwHklJkoffmiOWvfee2bXupUrra4KTo6xDgEAAOCcNm0yW482bTKXy5SRZswwR7ID7gMtSQAAAHA+Q4ZIlSubAcnPT3r7bWnLFgIS0gUtSQAAAHA+JUqYE8Q+/7w0aZIUGGh1RXAhhCQAAAA4vshIKSZGql/fXG7fXoqIkCpUsLYuuCS62wEAAMBxnT4tdewoVa0qde4sXbxorndzIyAhwxCSAAAA4Hji46Vp08xudfPmmevq15euX7e2LmQJdLcDAACAY/n5Z6l3b+mvv8zlChWkd981B2oAMgEhCQAAAI5j506pZk3zep480vjxUpcukru7tXUhSyEkAQAAwFqGIdls5vXSpaXnnpN8faVx46S8ea2tDVkS5yQBAADAOj/+KD36qHT8+M11n34qzZpFQIJlCEkAAADIfMePS88+K9WuLW3cKI0adXObGx9RYS2egQAAAMg8cXHSG2+Yo9YtWmQGot69zQlhAQfBOUkAAADIHN9/L/XpI+3day5XqybNmCE9/LClZQH/RUsSAAAAMsePP5oBqUAB6ZNPpF9+ISDBIdGSBAAAgIxx9ap09qwUEmIuv/665OEhDRgg+flZWxtwB7QkAQAAIP19+61UpozUsqWUmGiuy5lTGj2agASHR0gCAABA+jlwQGrSxLwcPCgdOyYdOWJ1VUCaEJIAAABw/y5floYPN1uPvv1Wyp5dGjRI2rNHCg21ujogTTgnCQAAAPfn0CHp8cdvthjVrStNmyaVLGltXcA9IiQBAADg/hQqJOXNKxmG9Pbb0tNPSzab1VUB94zudgAAAEibixelcePMLnaS5O4uffmltGuX1Lw5AQlOj5YkAAAApI5hSIsXS6+8Ih0/LsXFmaPVSZx3BJdCSAIAAMDd7dwp9eljTggrmaHokUesrQnIIHS3AwAAwO3FxpqTvz70kBmQvLykkSOlv/+WnnzS6uqADEFLEgAAAG7v5Zeljz4yrzdtag7MQNc6uDhakgAAAJCcYdy8/vrrUtmy0v/+J331FQEJWQItSQAAADBFRUkjRphd7ObMMdcVKSJt3cqIdchSaEkCAADI6hITpY8/lkqUMCeBnTvXHM77BgISshhCEgAAQFb255/SY49JL7wgnTljBqXvv5dKlbK6MsAyhCQAAICsKDpa6tlTqlhRioyUfHykSZOk7dulunWtrg6wFOckAQAAZFVLl5qDNLRpI735plSwoNUVAQ6BkAQAAJBV7NghlSljnmPk7y99+KGUM6dUq5bVlQEOhe52AAAAru7ff6WuXc2hvBcsuLn+yScJSEAKCEkAAACuKiFBmjlTKl7cbDUyDHM4bwB3RHc7AAAAVxQZKfXqJW3ZYi4/9JD07rtStWrW1gU4AVqSAAAAXM2YMVLVqmZAypVLmjFD2ryZgASkEi1JAAAArqZmTXNwhhdekCZMkAICrK4IcCqEJAAAAGf388/SgQNmKJKkGjWkvXulokWtrQtwUnS3AwAAcFYnTkht25otR716SUeP3txGQALuGSEJAADA2Vy/Lk2eLJUoYQ7pbbNJ7dubcx4BuG90twMAAHAma9ZIffpIu3aZy5Urm6PWVahgbV2ACyEkAQAAOItTp6RGjaRr16T8+aWJE6UOHSQ3OgcB6YmQBAAA4MgSE2+GoMBAacgQ6dw5afRoKXdua2sDXBRfOwAAADiqVauk0qWljRtvrhs5Upo+nYAEZCBCEgAAgKM5fFh6+mmpQQNpzx6z1QhApiEkAQAAOIqrV81AVKqU9NVXkru71L+/OYIdgEzDOUkAAACOYNUqqWdP6eBBc/nxx81udWXKWFsXkAXRkgQAAOAIjh0zA1LBgtIXX5hDfROQAEvQkgQAAGCFy5elAwekiAhzuVMn6dIlqXNnJoUFLEZLEgAAQGYyDGnZMnPUusaNzWAkmcN8v/QSAQlwAIQkAACAzLJ3rzliXfPm0pEjks128xwkAA6DkAQAAJDRLl40J4F98EHp++8lDw/p9delXbtudrcD4DAsDUkJCQkaNmyYQkND5e3trfDwcI0ZM0aGYdj36dixo2w2W7JLgwYNLKwaAAAgDc6dM4f0fuMN6fp1qVEj6e+/pTFjpBw5rK4OQAosHbhh4sSJmjlzpubNm6cyZcpo8+bNeuGFF+Tv76++ffva92vQoIHmzp1rX/b09LSiXAAAgLTLm1d69FHpjz+kd96RnnzS7GYHwGFZGpJ+++03NW3aVI0bN5YkFSlSRJ9//rk2btyYbD9PT08FBgam6j7j4uIUFxdnX46JiUm/ggEAAO4mJkYaP17q08cczluSZs6UfHwkb29rawOQKpZ2t6tatarWrFmjvXv3SpK2bdum9evXq2HDhsn2W7t2rQICAlSiRAn16NFD586du+19TpgwQf7+/vZLSEhIhv4NAAAAksxR6z77TCpZUpo4URo06Oa2fPkISIATsRlJTwDKZImJiXrttdc0adIkubu7KyEhQePGjdOQIUPs+3zxxRfKkSOHQkNDdeDAAb322mvKmTOnIiMj5e7ufst9ptSSFBISoujoaPn5+WXK3wUAALKY7dul3r2lX34xl4sWlaZNk/7zxS8Aa8XExMjf3/+u2cDS7naLFi3SZ599pgULFqhMmTLaunWr+vXrp+DgYHXo0EGS1Lp1a/v+ERERKlu2rMLDw7V27VrVrl37lvv09PTknCUAAJA5oqKkESOkd9+VEhLM1qLXX5deeUXi8wjgtCwNSQMHDtTgwYPtQSgiIkJHjhzRhAkT7CHpv8LCwpQvXz7t378/xZAEAACQaaZMMVuMJOmZZ6S33pIKFbK2JgD3zdJzki5fviw3t+QluLu7KzEx8ba3OX78uM6dO6egoKCMLg8AAOBW16/fvD5woFS7tvTDD9LixQQkwEVY2pLUpEkTjRs3ToUKFVKZMmW0ZcsWTZkyRZ06dZIkXbx4UaNGjVKLFi0UGBioAwcOaNCgQSpatKjq169vZekAACCrOX9eGjrUnONo7VrJzU3y9ZVWr7a6MgDpzNKQNH36dA0bNkw9e/bUmTNnFBwcrG7dumn48OGSzFal7du3a968eYqKilJwcLDq1aunMWPGcN4RAADIHAkJ0pw50pAh5sSwkjlAQ82a1tYFIMNYOrpdZkjtCBYAAAC32LhR6tVL2rzZXC5TRpoxQ6pVy9KyANyb1GYDS89JAgAAcEgXL0pdu0qPPmoGJD8/6e23pS1bCEhAFmBpdzsAAACH5O1thiPDkNq3NyeHDQy0uioAmYSQBAAAIEm//y499JAZkNzdpQ8+kOLipGrVrK4MQCajux0AAMjaTp+WOnSQqlSR3nzz5vqKFQlIQBZFSAIAAFlTfLz0zjtS8eLSJ5+Y686etbYmAA6B7nYAACDr+flnc9S6HTvM5QoVpHfflSpXtrYuAA6BliQAAJC1vPOOOcfRjh1SnjzS++9LGzYQkADYEZIAAEDW0qSJlCOH1L27tHev9OKL5kANAPD/6G4HAABc25o10vr10ogR5nJYmHTokBQQYG1dABwWIQkAALimY8ekV16RFi82l+vVM0ewkwhIAO6I7nYAAMC1xMVJEyZIJUuaAcnNTerTRypVyurKADgJWpIAAIDrWLlS6ttX2rfPXH7sMWnGDHOSWABIJUISAABwDZcumZPCnjkjBQaaE8O2bSvZbFZXBsDJEJIAAIDzunpV8vQ0g5CPjzR5srR1qzlIg5+f1dUBcFKckwQAAJzT8uVSmTLSwoU31z3/vPTWWwQkAPeFkAQAAJzLgQPSk09KTz0lHTwoTZ0qGYbVVQFwIYQkAADgHC5floYNk0qXllaskLJnl159VVq9mvOOAKQrzkkCAACOb/VqqUsX6cgRc7luXWn6dKlECWvrAuCSaEkCAACOz93dDEiFCklLlkirVhGQAGQYQhIAAHA8Fy9K69bdXH78cenzz6Vdu6TmzeleByBDEZIAAIDjMAxp0SKpVCmpcWPp+PGb21q3lnLksK42AFkGIQkAADiGnTulOnWkZ581w1FAgHTihNVVAciCCEkAAMBaMTHSK69IDz0k/fij5OUljRol/f239MgjVlcHIAtidDsAAGCdq1elsmVvjlrXrJk0ZYoUGmppWQCyNlqSAACAdby8pDZtpKJFpe++k5YtIyABsBwhCQAAZJ6oKOmll6Q//ri5bvhwaccOqUEDy8oCgKTobgcAADJeYqI0b5706qvS2bPShg1SZKQ5lLe3t9XVAUAyhCQAAJCx/vhD6t1b+v13c7lkSWnsWOY6AuCw6G4HAAAyxvnzUo8eUqVKZkDKmVN6801p2zZzqG8AcFC0JAEAgIyxZIk0a5Z5vU0bMyAVLGhtTQCQCvfdkhQTE6OvvvpKu3btSo96AACAM7t48eb1Tp2kdu2kn36SFiwgIAFwGmkOSa1atdKMGTMkSVeuXFHFihXVqlUrlS1bVkuWLEn3AgEAgBM4e1bq0sWc8+jyZXOdu7v06adSrVqWlgYAaZXmkPTzzz+revXqkqRly5bJMAxFRUVp2rRpGjt2bLoXCAAAHFhCgvTuu1Lx4tJHH0mHDpnzHQGAE0tzSIqOjlaePHkkSStXrlSLFi2UI0cONW7cWPv27Uv3AgEAgIP67TepYkVz5LqoKOnhh6X166UWLayuDADuS5pDUkhIiCIjI3Xp0iWtXLlS9erVkyRduHBBXl5e6V4gAABwMNevSx06SNWqSVu3SrlySTNmSJs3m+sAwMmleXS7fv36qW3btsqZM6cKFSqkWv/fz/jnn39WREREetcHAAAcTfbsUmyseb1zZ2nCBCl/fmtrAoB0ZDMMw0jrjTZv3qxjx46pbt26ypkzpyRpxYoVypUrl6o52DdIMTEx8vf3V3R0tPz8/KwuBwAA57RunVSihBQYaC4fOSKdOiVVrmxtXQCQBqnNBvcUkiTp2rVrOnTokMLDw5Utm+NOt0RIAgDgPpw4IQ0YIH3+ufT889Inn1hdEQDcs9RmgzSfk3T58mV17txZOXLkUJkyZXT06FFJUp8+ffTGG2/ce8UAAMBxXLsmTZ5sth59/rlks0k5c0qJiVZXBgAZLs0haciQIdq2bZvWrl2bbKCGOnXqaOHChelaHAAAsMDq1dJDD0kDB5qTwz76qDkow3vvSW73PQ89ADi8NPeT++qrr7Rw4UI9+uijstls9vVlypTRgQMH0rU4AACQyebNkzp2NK/nzy9NmiS1b084ApClpPk/3tmzZxUQEHDL+kuXLiULTQAAwAk9/bRUsKDUt6+0d68ZmAhIALKYNP/Xq1ixolasWGFfvhGMPvzwQ1WpUiX9KgMAABlv5UrphRekG+M4+flJe/ZI77xjzn8EAFlQmrvbjR8/Xg0bNtTOnTsVHx+vd955Rzt37tRvv/2mdevWZUSNAAAgvR0+LPXrJ339tblcv77UurV53cfHqqoAwCGkuSXpscce09atWxUfH6+IiAh9//33CggIUGRkpCpUqJARNQIAgPRy9ao0erRUqpQZkNzdpf79pUaNrK4MABzGPc+T5CyYJwkAgP+3fLnZenTwoLn8+OPS9OlSmTKWlgUAmSW12SDN3e1uzIt0O4UKFUrrXQIAgIyWkCANHWoGpIIFpbfeklq1Muc/AgAkk+aQVKRIkTuOYpeQkHBfBQEAgHRy+bLZnc7T0/z57rvSihXS66+bE8MCAFKU5pC0ZcuWZMvXr1/Xli1bNGXKFI0bNy7dCgMAAPfIMKRly6SXX5ZefNFsQZKk6tXNCwDgjtLtnKQVK1bozTff1Nq1a9Pj7tIN5yQBALKUPXvMOY6+/95cLllS+usvKVuavxcFAJeT2myQbrPDlShRQps2bUqvuwMAAGlx8aI0eLAUEWEGJA8Ps1vdH38QkAAgjdL8XzMmJibZsmEYOnnypEaOHKlixYqlW2EAACCV1q2T2raV/vnHXG7UyJwMtmhRa+sCACeV5pCUK1euWwZuMAxDISEh+uKLL9KtMAAAkEoFC0pnz0qhoWY4atLE6ooAwKmlubvdTz/9pB9//NF+Wbt2rXbu3KkDBw6oSpUqabqvhIQEDRs2TKGhofL29lZ4eLjGjBmjpKdJGYah4cOHKygoSN7e3qpTp4727duX1rIBAHAdMTHSokU3l4sWlVaulHbuJCABQDpIc0tSzZo10+2XT5w4UTNnztS8efNUpkwZbd68WS+88IL8/f3Vt29fSdKkSZM0bdo0zZs3T6GhoRo2bJjq16+vnTt3ysvLK91qAQDA4RmG9Nln0sCB0unTUpEi0iOPmNsef9zS0gDAlaQqJH3zzTepvsOnnnoq1fv+9ttvatq0qRo3bizJnIPp888/18aNGyWZrUhTp07V66+/rqZNm0qSPvnkExUoUEBfffWVWrdunerfBQCAU9u2TerdW1q/3lwuVky6ds3amgDARaUqJDVr1ixVd2az2dI0mWzVqlU1e/Zs7d27V8WLF9e2bdu0fv16TZkyRZJ06NAhnTp1SnXq1LHfxt/fX5UrV1ZkZGSKISkuLk5xcXH25f8ONAEAcFyJidLRo1JsrOTrKxUqJLml2zisTioqSho+3JwINjFRypHDHLWuf39zklgAQLpLVUhKTEzMkF8+ePBgxcTEqGTJknJ3d1dCQoLGjRuntm3bSpJOnTolSSpQoECy2xUoUMC+7b8mTJigUaNGZUi9AICMs2uXOf/p7t3S1auSl5c5xc/TT0ulSlldnUUSE6Vq1cxzjSTpmWekt94y0yMAIMNY+v3cokWL9Nlnn2nBggX6888/NW/ePE2ePFnz5s275/scMmSIoqOj7Zdjx46lY8UAgIywa5c0bZq0ZYuUL59UooT5c8sWc/2uXVZXaBE3N+nll820+MMP0uLFBCQAyAT3NLvcpUuXtG7dOh09elTX/tMf+saAC6kxcOBADR482N5tLiIiQkeOHNGECRPUoUMHBQYGSpJOnz6toKAg++1Onz6thx9+OMX79PT0lCfdDwDAaSQmmi1I//4rlS4t3Zhlws/PXN65U/rqKzM4uXzXu3PnzK50depILVqY6zp1ktq3NyeHBSCJrrnIeGkOSVu2bFGjRo10+fJlXbp0SXny5NG///6rHDlyKCAgIE0h6fLly3L7zzPa3d3d3r0vNDRUgYGBWrNmjT0UxcTEaMOGDerRo0daSwcAOKCjR80udiEhNwPSDTab9MADZkvS0aPmYG4uKSFB+ugjacgQ6fx5acUKcyhvDw/zkx8BCbCjay4yQ5oz98svv6wmTZrowoUL8vb21u+//64jR46oQoUKmjx5cpruq0mTJho3bpxWrFihw4cPa9myZZoyZYqefvppSeZAEP369dPYsWP1zTff6K+//lL79u0VHByc6sEkAACOLTbW/KDj45Pydh8fc3tsbObWlWk2bJAefVTq1s0MSBER0vz5BCNkeYmJ0uHD0l9/mT8TE+mai8yT5pakrVu36v3335ebm5vc3d0VFxensLAwTZo0SR06dFDz5s1TfV/Tp0/XsGHD1LNnT505c0bBwcHq1q2bhg8fbt9n0KBBunTpkl588UVFRUXpscce08qVK5kjCQBchK+v+U3wpUtmF7v/unTJ3O7rm/m1ZaizZ82Wo48+Mpf9/KTRo6VevaRs99QbHnAZKbUWlShhvmzomutcnLVrZJr/C2fPnt3eRS4gIEBHjx5VqVKl5O/vn+ZBEnx9fTV16lRNnTr1tvvYbDaNHj1ao0ePTmupAAAnUKiQ2VVmy5bkH3wkc+7U48el8uVvP16Bs74Ba/v2mwGpQwfpjTek/z8XF8jKbrQW/fuv2Q3Xx8f8suTXX6X9+6UqVbJw11wn48xdI9McksqVK6dNmzapWLFiqlmzpoYPH65///1Xn376qR588MGMqBEA4MLc3Mw3zGPHzG+CH3jg5oei48fNrjTNmqUcfJzuDfjMGSkgwLxeu7Y0dKjUsKE5zDeAZAO5lColxcSY1z09zcD011/m/4oiRW4NSj4+0j//uHDXXCdzu7C7ZYt5DPv2ddD/0/8v1SEpISFB7u7uGj9+vGL//9k3btw4tW/fXj169FCxYsU0Z86cDCsUAOC6SpUy3zBvBJ5//jEDT/nyZkBK6Y3Uqd6AT52SXn315h8YHGyuHzvW2roAB3NjIJccOcyWo3//leLjzR6oPj5S9uzmyyk6WsqVK/ltXbFrrrO2lLvCqKWpDkkFCxZUx44d1alTJ1WsWFGS2d1u5cqVGVYcACDrKFXKfMNMzQcCp3kDjo+XZsyQRowwvxK32aTvvpM6d7awqHuX3h/YnPUDIDJObKzZ4HrmjNk67O9vBqPr16WoKHPd5cvmz6RS0zXX2ThdS3kSrjBqaapDUq9evTRv3jy9+eabqlq1qjp37qxWrVopR44cGVkfACALcXNL3RumU7wBr1sn9e4t7dhhLlesKL37rvTIIxYVdH/S+wObM38AzAxZNUD6+EinT0sXL5oNrjde356eUv78ZmvRpUvSkSOSt3fqu+Y6G6dqKU9BakYtdfSukal+Gg0bNkz79+/XmjVrFBYWpt69eysoKEhdu3bVhg0bMrJGAACScehhww1D6thRqlXLDEh580qzZ0u//+7UASk9h11mGOc727XLHMdj+HBpzBjz5xtvZK3H5b9fftzg4WGGpTJlzLmX9+41f5Yv7/jBIbX+21Lu5ye5u99sKf/3X7Ol/P+nFXVISUctTYkzdI1M88ANtWrVUq1atfTuu+/qiy++0Mcff6wqVaqoVKlS6ty5s/r3758RdQIAXMj9fkvu0MOG22zm4Aw2m9S9u3neUZ48FhSSPtK7a6PTdJW0iLO3INyvS5ekAgXMob7PnjWfFx4e0rVrZo9VPz8zJD3/vNkVzxVb2pyipfwu7nfUUkdwz0+nnDlzqkuXLlq/fr2WL1+uU6dOaeDAgelZm0tJaUI0AMiK0uNb8htvwMeOmW+4Sd14Ay5VKhPfgFevNof0vmHYMGnzZiXOeE+HY/I49f/+tHxgs+L+XIkrtCDcL19f8zuGBx+UgoKkK1fMlqIrV8zlBx80t/v7mwEhIsL86SoBSXLwlvJUujFqab585hcf0dHmKZrR0eayM3SNvOfZ6i5fvqxFixZp7ty5Wr9+vcLDwwlJt0G/awDpyZnPVUivb8nvZ9jwdHXsmNS/v/Tll1LVqtIvv5i/1NdXu7zLa9kbzv+/P73PLXCFcxUyiiu0INyvpC0Q1aqZrUdxceY5SX5+5t/v6C0Q98uhW8rT4F5GLXUkaQ5Jv/32m+bMmaPFixcrPj5ezzzzjMaMGaMaNWpkRH1OL6s3mwNIX878pUt6d7Oy9A04Lk6aMsXsSnf5sllwxYpmnyAvL5f635/0A5uvr/lN8I0Prf7+af/A5iofADMCATL5FyC7dpnBMG9e83mxa5dztEDcL1foqnZDWkYtdTSpDkmTJk3S3LlztXfvXlWsWFFvvvmm2rRpI9+s+F8sleh3DSA9OfsH74z4ltySN+CVK80He98+c7l6dXOY77JlJbne//4bH9jWrTOHYT537ua8NXnzmsMz16qV+g9srvQBML0RIE3O3gJxvxympTydpHbUUkeT6pD05ptvql27dlq8eLEefPDBjKzJZdBsDiC9uMIH74z6ljxT34C//VZq0sS8HhgoTZ4sPfdcsn/yrva/383NzH+ffWa2IgUEmB/SL182Rxbz9zfPC0nt887VPgCmJwLkTc7cApEesnpQdASpDkknTpxQ9uzZM7IWl0OzOYD04gofvF3iW/KGDaVKlczWoxEjUvxDXO1/f2KiOSbFAw+Yo46dOydduGC2JJUoYf786y+pUaPUf4DlA2DKCJDJOWsLRHrJ6kHRaqkOSQSktHOJDwQAHIIrfPB2ym/Jly+X3nnH/OntbQ419ttvZjK4DVf7338joJcpk/I5STEx9xbQ+QCYMgIkksrqQdFK9zy6He7OKT8QAHBIrvDB26m+Jd+/X+rXT1qxwlyePl0aNMi8foeAJLne//6kAd1mk3LlSr79fgI6HwBTRoAErMfLLQO5whjxAByDw80LdI9ufEterpzZbWvvXvNn+fIOMvDE5cvS66+bzSYrVpijEgweLPXsmeq7cLX//UkDekqcIaA7oxsB0hXnAQKcAS1JGYxmcwDpwalaYe7CYb8lX7pUevnlm7OY1qtnDidYokSa78qV/ve7WssYAKSGzTD++53krWJiYlJ9h34p9QOxUExMjPz9/RUdHW1pbc48+SMAx5HSPEmlSjnfB2+H9NRT5rlHhQpJU6eaD+p/R8lII1f53590+PmUArpDtAICQCqkNhukKiS5ubnJlso3ioSEhNRXmQkcJSQBQHpxlQ/elrt40Zz4J3duc/ngQenjj83udTlyWFqaIyKgA3AFqc0Gqepu99NPP9mvHz58WIMHD1bHjh1VpUoVSVJkZKTmzZunCRMm3GfZAIC74WT3+2QY0qJF0iuvSHXrSnPnmuvDwqTRo62tzYE5bDdJAMgAqWpJSqp27drq0qWL2rRpk2z9ggULNHv2bK1duzY967tvtCQBAOz+/lvq00e68eVfeLi0dauUM6elZQEAMkdqs0Gav/+JjIxUxYoVb1lfsWJFbdy4Ma13BwBAxouJkfr3lx56yAxIXl5mq9GOHQQkAMAt0hySQkJC9MEHH9yy/sMPP1RISEi6FAUAQLrZuFEqXlx6+20pIcEcJnDXLmnYMDMsAQDwH2keAvztt99WixYt9N1336ly5cqSpI0bN2rfvn1asmRJuhcIAMB9KV7cPA+pWDFzUtj69a2uCADg4NLcktSoUSPt3btXTZo00fnz53X+/Hk1adJEe/fuVaNGjTKiRgAAUi8qSnrnnZuz7ubKJf3wg/TXXwQkAECqpHngBmfDwA0AkEUkJt4cwvvsWenzz6XWra2uCgDgQDJs4AZJ+uWXX9SuXTtVrVpV//zzjyTp008/1fr16++tWgAA7scff0jVqkmdO5sBqVQpKTjY6qoAAE4qzSFpyZIlql+/vry9vfXnn38qLi5OkhQdHa3x48ene4EAANzW+fNSjx5SpUrS77+bI9VNnmwO612jhtXVAQCcVJpD0tixYzVr1ix98MEHyp49u319tWrV9Oeff6ZrcQAA3FHz5tKsWeb5R889J+3ZY04S6+FhdWUAACeW5pC0Z88e1Ujh2zl/f39FRUWlR00AANxe0lNpR46UIiKkdeukzz6jix0AIF2kOSQFBgZq//79t6xfv369wsLC0qUoAABucfas1KWL9OabN9fVqkXXOgBAuktzSOratateeuklbdiwQTabTSdOnNBnn32mAQMGqEePHhlRIwAgK0tIkN5915zv6KOPpDFjzGG+b3C7pzGIAAC4rTRPJjt48GAlJiaqdu3aunz5smrUqCFPT08NGDBAffr0yYgaAQBZ1a+/Sr17m61FkvTww2ZgypXLwqIAAK7unudJunbtmvbv36+LFy+qdOnSypkzZ3rXli6YJwkAnNDp09KgQdInn5jLuXJJ48ZJ3bpJ7u6WlgYAcF4ZNk9Sp06dFBsbKw8PD5UuXVqPPPKIcubMqUuXLqlTp073VTQAAJKk6GhzMlibTeraVdq7V+rZk4AEAMgUaW5Jcnd318mTJxUQEJBs/b///qvAwEDFx8ena4H3i5YkAHAS+/dLRYveXJ492+xe98gjlpUEAHAtqc0GqT4nKSYmRoZhyDAMxcbGysvLy74tISFB//vf/24JTgAA3NU//0gDB0oLF0obNkgVK5rrX3zR2roAAFlWqkNSrly5ZLPZZLPZVLx48Vu222w2jRo1Kl2LAwC4sGvXpHfekUaPli5eNLvW/fLLzZAEAIBFUh2SfvrpJxmGoSeeeEJLlixRnjx57Ns8PDxUuHBhBTOJHwAgNVavlvr0kXbvNperVJFmzJDKl7e2LgAAlIaQVLNmTUnSoUOHVKhQIdlstgwrCgDgwrp3l95/37yeP780aZLUvj3zHQEAHEaa35F+/PFHffnll7esX7x4sebNm5cuRQEAXFi5cmYg6tvXHLWuY0cCEgDAoaT5XWnChAnKly/fLesDAgI0fvz4dCkKAOBCvvtO+v77m8tdukh//WWej8SksAAAB5TmkHT06FGFhobesr5w4cI6evRouhQFAHABhw5JTZtKjRqZI9Vdvmyud3eXSpe2tjYAAO4gzSEpICBA27dvv2X9tm3blDdv3nQpCgDgxK5ckUaNMoPQN99I2bJJzzwjpW1aPgAALJPqgRtuaNOmjfr27StfX1/VqFFDkrRu3Tq99NJLat26dboXCABwEoYhLV8u9etntiJJ0uOPm6PW0XIEAHAiaQ5JY8aM0eHDh1W7dm1ly2bePDExUe3bt+ecJADIyv74w+xeJ0kFC0pTpkgtW5rzHwEA4ERshnFv/R/27t2rbdu2ydvbWxERESpcuHB615YuYmJi5O/vr+joaPn5+VldDgC4FsNIHoLatJGKFJGGDpVy5rSsLAAAUpLabHDPIclZEJIAIAMYhrR0qTRypDlyXVDQzfW0HAEAHFRqs0Gqutv1799fY8aMkY+Pj/r373/HfadMmZK2SgEAzmX3bnOOox9+MJcnTpSmTjWvE5AAAC4gVSFpy5Ytun79uv367dh4cwQA1xUbK40dK739tnT9uuTpKQ0aJA0ebHVlAACkK7rbAQDubvFic9S6EyfM5SefNFuPwsOtrAoAgDRJ1+52AIAsLjLSDEhhYdI775ghCQAAF5WqkNS8efNU3+HSpUvvuRgAgIOIiZEuXJBujFw6cqQUGGiei+TlZWlpAABkNLfU7OTv72+/+Pn5ac2aNdq8ebN9+x9//KE1a9bI398/wwoFAGQCw5A+/VQqXlxq185cliQ/P/P8IwISACALSFVL0ty5c+3XX331VbVq1UqzZs2Su7u7JCkhIUE9e/bknB8AcGbbtkm9e0vr15vLfn7SqVM3h/cGACCLSFVLUlJz5szRgAED7AFJktzd3dW/f3/NmTMnTfdVpEgR2Wy2Wy69evWSJNWqVeuWbd27d09ryQCAO4mKkvr0kcqXNwNSjhzShAnSX38RkAAAWVKaB26Ij4/X7t27VaJEiWTrd+/ercTExDTd16ZNm5SQkGBf3rFjh+rWrauWLVva13Xt2lWjR4+2L+fIkSOtJQMAbmfnTqlWLensWXO5VStp8mQpJMTSsgAAsFKaQ9ILL7ygzp0768CBA3rkkUckSRs2bNAbb7yhF154IU33lT9//mTLb7zxhsLDw1WzZk37uhw5cigwMDCtZQIAUqN4cXNAhnz5pOnTpdq1ra4IAADLpTkkTZ48WYGBgXrrrbd08uRJSVJQUJAGDhyoV1555Z4LuXbtmubPn6/+/fsnm5T2s88+0/z58xUYGKgmTZpo2LBhd2xNiouLU1xcnH05JibmnmsCAJdz7pw0ZYo0bJg5CEO2bNLy5Wa3Og8Pq6sDAMAh3NdksjcCSHoM2LBo0SI999xzOnr0qIKDgyVJs2fPVuHChRUcHKzt27fr1Vdf1SOPPHLHYcZHjhypUaNG3bKeyWQBZGkJCdKHH0qvvSadPy+NHSsNHWp1VQAAZKrUTiZ7TyEpPj5ea9eu1YEDB/Tcc8/J19dXJ06ckJ+fn3LmzHlPBdevX18eHh5avnz5bff58ccfVbt2be3fv1/ht5nlPaWWpJCQEEISgKxrwwapVy/pjz/M5YgIacYMqUYNa+sCACCTpTYkpbm73ZEjR9SgQQMdPXpUcXFxqlu3rnx9fTVx4kTFxcVp1qxZaS72yJEjWr169V0noq1cubIk3TEkeXp6ytPTM801AIDLOXtWGjxYujHyqJ+fNGaM1LOn2c0OAACkKM1DgL/00kuqWLGiLly4IG9vb/v6p59+WmvWrLmnIubOnauAgAA1btz4jvtt3bpVknkOFADgLvr0uRmQOnaU9u6V+vYlIAEAcBdpfqf85Zdf9Ntvv8njPyf4FilSRP/880+aC0hMTNTcuXPVoUMHZUvyxn3gwAEtWLBAjRo1Ut68ebV9+3a9/PLLqlGjhsqWLZvm3wMAWUJiouT2/99/jR0rHTkivfWWVLWqtXUBAOBE0hySEhMTk81tdMPx48fl6+ub5gJWr16to0ePqlOnTsnWe3h4aPXq1Zo6daouXbqkkJAQtWjRQq+//nqafwcAuLxTp6RBgyRPT+mDD8x1RYtKkZHW1gUAgBNK88ANzz77rPz9/TV79mz5+vpq+/btyp8/v5o2bapChQpp7ty5GVXrPUntyVkA4JSuXzcHYRgxQoqNNVuRDhyQihSxujIAABxOho1ud+zYMTVo0ECGYWjfvn2qWLGi9u3bp3z58unnn39WQEDAfRefnghJAFzW2rVS797S33+by5UqmYHp/yf6BgAAyWX4EOALFy7Utm3bdPHiRZUvX15t27ZNNpCDoyAkAXA5Z85IL70kffGFuZw3r/TGG1KnTjfPRwIAALfIkJB0/fp1lSxZUt9++61KlSqVLoVmNEISAJdz4YJUvLh07pzUvbs5QEOePFZXBQCAw8uQeZKyZ8+uq1ev3ndxAIA02rjR7E5ns0m5c0tz50rBwVL58lZXBgCAy0lzv4xevXpp4sSJio+Pz4h6AABJHT0qPfOMVLmytGTJzfVPPklAAgAgg6R5CPBNmzZpzZo1+v777xURESEfH59k25cuXZpuxQFAlhUXJ02eLI0bJ125Yp5rtGeP1VUBAJAlpDkk5cqVSy1atMiIWgAAkvTdd1LfvtL+/eZy9ermqHVMpA0AQKZIc0hytHmQAMCl9O8vvf22eT0w0GxNeu4581wkAACQKVJ9TlJiYqImTpyoatWqqVKlSho8eLCuXLmSkbUBQNbTqJGULZv0yitm97q2bQlIAABkslSHpHHjxum1115Tzpw5VbBgQb3zzjvq1atXRtYGAK7NMKRvvpHmzLm5rk4d6dAhswWJaQsAALBEqudJKlasmAYMGKBu3bpJklavXq3GjRvrypUrcnPgyQuZJwmAQ9q/3zzv6LvvpJw5pd27pYIFra4KAACXltpskOp0c/ToUTVq1Mi+XKdOHdlsNp04ceL+KgWArOTSJen116UyZcyAlD271Lu35O9vdWUAAOD/pXrghvj4eHl5eSVblz17dl2/fj3diwIAl2MY0tKl0ssvS8eOmevq15emTZOKF7e2NgAAkEyqQ5JhGOrYsaM8PT3t665evaru3bsnmyuJeZIAIAVHjkitW0vx8VLhwtLUqVLTpgzKAACAA0p1SOrQocMt69q1a5euxQCAS7l+3exOJ0lFikhDhpih6NVXpRw5LC0NAADcXqoHbnBWDNwAINMZhrRwoTRokPT111K5clZXBAAAlAEDNwAAUmHHDumJJ6Q2bcxzjyZNsroiAACQRoQkAEgP0dFS//7Sww9La9dKXl7S6NHS3LlWVwYAANIo1eckAQBuY/FiqU8f6fRpc/npp6UpU8zzkAAAgNMhJAHA/Tp71gxIxYpJ06ebQ3sDAACnRUgCgLSKijKH9H7oIXO5WzcpWzapQwcpyTQJAADAOXFOEgCkVmKiNGeOOfnr009LV66Y693dpRdfJCABAOAiCEkAkBp//CFVrSp17mx2r/Pykv75x+qqAABABiAkAcCdnDsnde8uVaokbdgg5cwpTZ4sbdsmFS1qdXUAACADcE4SANzOiRNSRIR0/ry53LatOe9RcLC1dQEAgAxFSAKA2wkOlh57TDp0SJoxQ6pRw+qKAABAJqC7HQDccOaM1LPnzfmOJHMy2D//JCABAJCF0JIEAPHx0qxZ0rBh5vDeV66Y4UiS8uSxtDQAAJD5CEkAsrb166Xevc2BGCSpXDlzOG8AAJBl0d0OQNZ08qT0/PNS9epmQMqdW3rvPWnTJqlKFaurAwAAFqIlCUDWNGWKNH++ZLNJXbpI48dL+fJZXRUAAHAAhCQAWcfVq+YksJI0dKi0c6c0YoT0yCPW1gUAABwKIQmA6/vnH2nAAOnUKenHH83Wo1y5pBUrrK4MAAA4IEISANd17Zo0dao0erR06ZIZjv74Q6pY0erKAACAA2PgBgCu6YcfpLJlpVdfNQNSlSrS5s0EJAAAcFe0JAFwLRcuSF27SkuWmMsBAdKkSeZIdm58LwQAAO6OTwwAXEvOnNLu3ZK7u/TSS9KePVKHDgQkAACQarQkAXB+q1eb8x15ekrZs0tz55rXy5a1ujIAAOCE+GoVgPM6eFBq2lSqW1d6++2b6ytVIiABAIB7RksSAOdz5Yo0caL0xhtSXJyULZu5DgAAIB0QkgA4D8OQvvlG6tdPOnzYXPfEE9L06VLp0lZWBgAAXAjd7QA4j9GjpWbNzID0wAPSokXm+UgEJAAAkI4ISQCcR5s25uh1Q4aYI9i1bGlOEAsAAJCO6G4HwDEZhjnX0V9/SaNGmeuKF5eOHZNy5bK0NAAA4NoISQAcz+7dUp8+Zlc6m0166impQgVzGwEJAABkMLrbAXAcsbHSoEFSRIQZkDw9pWHDpFKlrK4MAABkIbQkAbCeYUgLF0qvvCKdOGGua9LEnPsoPNza2gAAQJZDSAJgvehoqVcv6fx5KSxMmjZNatzY6qoAAEAWRUgCYI1Ll6QcOcxzjnLlkiZPlo4flwYOlLy8rK4OAABkYZyTBCBzGYb06admN7qvvrq5/oUXzPOPCEgAAMBihCQAmWfrVql6dal9e+n0aem996yuCAAA4BaEJAAZ78IFqXdvcxjvX381u9lNmCB9+63VlQEAANyCc5IAZKxly6Ru3aSzZ83lVq3M849CQqytCwAA4DYsbUkqUqSIbDbbLZdevXpJkq5evapevXopb968ypkzp1q0aKHTp09bWTKAtPLxMQNSqVLm3EcLFxKQAACAQ7M0JG3atEknT560X3744QdJUsuWLSVJL7/8spYvX67Fixdr3bp1OnHihJo3b25lyQDu5tw5MwzdUK+e2Zq0bZtUu7Z1dQEAAKSSzTAMw+oibujXr5++/fZb7du3TzExMcqfP78WLFigZ555RpK0e/dulSpVSpGRkXr00UdTdZ8xMTHy9/dXdHS0/Pz8MrJ8IGtLSJA++EAaOlS6fl3as0cKCrK6KgAAALvUZgOHGbjh2rVrmj9/vjp16iSbzaY//vhD169fV506dez7lCxZUoUKFVJkZORt7ycuLk4xMTHJLgAy2O+/S5UrSz16mBPCFiki/fuv1VUBAADcE4cJSV999ZWioqLUsWNHSdKpU6fk4eGhXLlyJduvQIECOnXq1G3vZ8KECfL397dfQjj3Acg4Z85InTpJVapIf/wh+flJ77wj/fmnFBFhdXUAAAD3xGFC0kcffaSGDRsqODj4vu5nyJAhio6Otl+OHTuWThUCSCY2VipTRpo711zu0EHau1fq21fKxsCZAADAeTnEJ5kjR45o9erVWrp0qX1dYGCgrl27pqioqGStSadPn1ZgYOBt78vT01Oenp4ZWS4ASfL1NSeF/eknacYMqWpVqysCAABIFw7RkjR37lwFBASocePG9nUVKlRQ9uzZtWbNGvu6PXv26OjRo6pSpYoVZQJZ28mTZmvRtm03140dK23aREACAAAuxfKWpMTERM2dO1cdOnRQtiRddPz9/dW5c2f1799fefLkkZ+fn/r06aMqVaqkemQ7AOng+nVp+nRp5Eizi93hw9LatZLNJnl7W1wcAABA+rM8JK1evVpHjx5Vp06dbtn29ttvy83NTS1atFBcXJzq16+v9957z4IqgSxq7Vqpd2/p77/N5UqVpMmTzYAEAADgohxqnqSMwDxJwD345x9pwADpiy/M5bx5pTfeMEeyc3OIXroAAABp5nTzJAFwIMuWmQHJzU3q2dMcta5LFwISAADIEizvbgfAQURFSTdGkuzeXdqyxexqV66clVUBAABkOr4WBrK6o0elZ56RKlaUrl4112XLJn30EQEJAABkSYQkIKuKi5PGjZNKlpSWLDFHrVu3zuqqAAAALEdIArKi//1PevBB6fXXpStXpOrVpT//lOrXt7oyAAAAy3FOEpCVXLkiPfustHy5uRwUZA7p3aYNw3oDAAD8P1qSgKzE21tKTDTPORowQNq9W3ruOQISAABAErQkAa7MMMxWoypVpPz5zXUzZkiXL0ulS1tbGwAAgIOiJQlwVfv2SY0bS02bSoMH31xfpAgBCQAA4A4ISYCruXRJGjrUHJjhu++k7NmlwECzVQkAAAB3RXc7wFUYhjmUd//+0rFj5rr69aVp06Tixa2tDQAAwIkQkgBXMWOG1Leveb1wYWnqVLOrHYMyAAAApAnd7QBX0a6dFBIiDRsm7dwpNWtGQAIAALgHtCQBzsgwpIULpRUrpE8+McNQ7tzS3r2Sl5fV1QEAADg1WpIAZ7Njh/TEE+YEsPPnS19/fXMbAQkAAOC+EZIAZxEdbQ7K8PDD0tq1ZiAaPVpq0MDqygAAAFwK3e0AR2cY0qefSoMGSadPm+ueflqaMsWc8wgAAADpipAEOLr4eOmNN8yAVKyYNH26ObQ3AAAAMgQhCXBEFy5IPj6Sh4c5Gey770obNkgvvyx5elpdHQAAgEvjnCTAkSQmSnPmSCVKmPMc3fD449LgwQQkAACATEBIAhzF5s1S1apS587S2bPSkiVmaAIAAECmIiQBVjt3TurWTXrkEbNLna+v9NZb0vr1khsvUQAAgMzGOUmAlf73P+n556Xz583ldu2kSZOkoCBr6wIAAMjCCEmAlcLDpdhYKSLCHJyhenWrKwIAAMjy6MsDZKYzZ6T5828ulygh/fST9OefBCQAAAAHQUgCMkN8vDRjhhmK2rc3Q9EN1apJ2WjUBQAAcBR8MgMy2vr1Uu/e0rZt5nL58pLNZm1NAAAAuC1akoCMcvKk2WpUvboZkHLnlmbOlDZulMqVs7o6AAAA3AYtSUBGiI835zw6fNhsNerSRRo/XsqXz+rKAAAAcBe0JAEZIVs2adAgqVIlc+6j2bMJSAAAAE6CkASkh3/+kdq0kb7++ua6F1+Ufv/dDEoAAABwGoQk4H5cu2ZO/lqihPTFF9Irr0gJCeY2d3fJjZcYAACAs+GcJOBe/fCD1KePtGePuVylijkhrLu7tXUBAADgvvA1N5BWR49Kzzwj1atnBqSAAOnjj82hvhm1DgAAwOkRkoC0+vtvackSs8XopZekvXulDh3oWgcAAOAi6G4HpMaxY1JIiHm9YUNpxAipRQspIsLaugAAAJDu+OobuJODB6WnnpIefFA6derm+pEjCUgAAAAuipAEpOTKFTMIlS4tLV8uXb4s/fyz1VUBAAAgE9DdDkjKMMxQ1K+fdOiQue6JJ6Tp083ABAAAAJdHSAJuSEyUnn5a+uYbc/mBB6QpU8yR7Gw2a2sDAABApqG7HXCDm5sUGiplzy4NGSLt3i21bElAAgAAyGJshmEYVheRkWJiYuTv76/o6Gj5+flZXQ4ciWGYQ3mXLGkOzCBJ0dHS6dNS8eLW1gYAAIB0l9psQEsSsqZdu8zJYFu2lHr3NgOTJPn7E5AAAACyOEISspbYWGnQIKlsWWn1asnTU6pRQ4qPt7oyAAAAOAgGbkDWYBjSF19IAwZIJ06Y65o0kd5+WwoPt7Y2AAAAOBRCErKGRYuk554zr4eFSdOmSY0bW1sTAAAAHBIhCa7LMG6OTNeihfTII2br0YABkpeXtbUBAADAYRGS4HoMQ/r0U+nDD6UffjDPO8qWTYqMNIf5BgAAAO6AT4xwLVu3StWrSx06SL/8In3wwc1tBCQAAACkAp8a4RouXDCH8q5QQfr1V8nHR3rjDenFF62uDAAAAE6G7nZwboYhzZkjDR4s/fuvue7ZZ6XJk6UHHrC2NgAAADglQhKc35dfmgGpdGlp+nTpiSesrggAAABOjJAE53PunDlqXZ485s9p06Tly6U+faTs2a2uDgAAAE6Oc5LgPBISpFmzpOLFze51NxQrJvXvT0ACAABAurA8JP3zzz9q166d8ubNK29vb0VERGjz5s327R07dpTNZkt2adCggYUVwxK//27Oc9Sjh3T+vLRpk3T1qtVVAQAAwAVZ2t3uwoULqlatmh5//HF99913yp8/v/bt26fcuXMn269BgwaaO3eufdnT0zOzS4VVzpwxW41uHH9/f2nMGDMsZaO3KAAAANKfpZ8yJ06cqJCQkGQBKDQ09Jb9PD09FRgYmJmlwRGsXSs9/bQUFWUud+xoDutdoICFRQEAAMDVWdrd7ptvvlHFihXVsmVLBQQEqFy5cvog6eSf/2/t2rUKCAhQiRIl1KNHD507d+629xkXF6eYmJhkFzipsmUld3epfHnpt9/M1iQCEgAAADKYpSHp4MGDmjlzpooVK6ZVq1apR48e6tu3r+bNm2ffp0GDBvrkk0+0Zs0aTZw4UevWrVPDhg2VkJCQ4n1OmDBB/v7+9ktISEhm/Tm4XydPSpMmmXMfSebodb/8Im3cKFWpYm1tAAAAyDJshnHjE2nm8/DwUMWKFfXbb7/Z1/Xt21ebNm1SZGRkirc5ePCgwsPDtXr1atWuXfuW7XFxcYqLi7Mvx8TEKCQkRNHR0fLz80v/PwL37/p1acYMacQIKTZWWrJEat7c6qoAAADgYmJiYuTv73/XbGBpS1JQUJBKly6dbF2pUqV09OjR294mLCxM+fLl0/79+1Pc7unpKT8/v2QXOLC1a6Vy5cwhvGNjzRHsihSxuioAAABkYZaGpGrVqmnPnj3J1u3du1eFCxe+7W2OHz+uc+fOKSgoKKPLQ0Y6flxq00Z6/HHp77+lvHmlDz6QIiPNc5AAAAAAi1gakl5++WX9/vvvGj9+vPbv368FCxZo9uzZ6tWrlyTp4sWLGjhwoH7//XcdPnxYa9asUdOmTVW0aFHVr1/fytJxPwzDHLXuiy8kNzepZ09p716pSxdzGQAAALCQpZ9IK1WqpGXLlunzzz/Xgw8+qDFjxmjq1Klq27atJMnd3V3bt2/XU089peLFi6tz586qUKGCfvnlF+ZKckY3Tn+z2aTx46WqVaXNm6V33zUHaQAAAAAcgKUDN2SG1J6chQx05Ih5zlHVqtIrr9xcbxhmYAIAAAAygVMM3AAXd/WqNHasVKqUtHSpef3SpZvbCUgAAABwQIQkZIwVK6QHH5SGDZOuXJFq1JB+/lny8bG6MgAAAOCOCElIX0eOSE89JT35pHTggBQUJC1YYA71HRFhdXUAAADAXRGSkL4uXZK++07Klk0aMEDas8cc6puudQAAAHAS2awuAE7OMKQdO262EpUuLc2caQ7S8J+JggEAAABnQEsS7t2+fVKjRtLDD0vbtt1c36ULAQkAAABOi5CEtLt0SRo61ByYYeVKyd3dnO8IAAAAcAF0t0PqGYa0ZIk559GxY+a6+vWladOk4sWtrQ0AAABIJ4QkpN6zz0qLF5vXixSRpk41R7JjUAYAAAC4ELrbIfVq1JA8PaXhw6WdO6WmTQlIAAAAcDm0JCFlhiF98YWUL59Ut665rnt3c/6jIkUsLQ0AAADISIQk3GrHDql3b2ndOiksTPr7b8nLy5z7iIAEAAAAF0d3O9wUHS3162cO6b1uneTtLb3wAl3qAAAAkKXQkgQpMVGaP18aNEg6fdpc17y5NGWKVLiwtbUBAAAAmYyQBOmXX6QOHczrJUqYQ3rXq2dtTQAAAIBFCElZVWKi5Pb/vS1r1pRatza72b38suThYWlpAAAAgJU4JymrSUyUPvpIKllSOnPm5vrPP5defZWABAAAgCyPkJSVbN4sVakideki7dsnvfOO1RUBAAAADoeQlBWcOyd16yY98oi0caPk6yu99ZY0cqTVlQEAAAAOh3OSXN0HH0iDB0vnz5vL7dpJkyZJQUHW1gUAAAA4KEKSq9u+3QxIZctKM2ZI1atbXREAAADg0AhJrubMGenyZalIEXN59GipVCnpxRelbBxuAAAA4G44J8lVxMebLUUlSkidO0uGYa7PnVvq2ZOABAAAAKQSn5xdwS+/SL17m13rJCkqyuxilzevpWUBAAAAzoiWJGd28qT0/PNSjRpmQMqdW5o50xzBjoAEAAAA3BNakpzVH39Ijz8uxcZKNpvUtas0bpyUL5/VlQEAAABOjZDkrMqWlR54wJzzaMYMqVIlqysCAAAAXALd7ZzF8eNS//7StWvmcvbs0urVUmQkAQkAAABIR4QkR3ftmjRxolSypPT229LUqTe3BQdLbhxCAAAAID3R3c6Rff+91KePtHevuVy1qlS3rrU1AQAAAC6OZghHdOSI1KKFVL++GZAKFJDmzZPWr5fKlbO6OgAAAMClEZIcUd++0tKlkru79NJL0p49Uvv25ih2AAAAADIU3e0cxfXr5mAMkjRpknT5sjRlihQRYW1dAAAAQBZDS5LVDh6UnnrKbDG6oUQJ6YcfCEgAAACABQhJVrlyRRoxQipdWlq+XJozRzp1yuqqAAAAgCyPkJTZDEP66iszHI0eLcXFSbVrS1u2SIGBVlcHAAAAZHmck5SZjh+XunaVVq40l0NCzPOOWrRgUAYAAADAQdCSlJm8vKQNG8wBGoYMkXbtkp55hoAEAAAAOBBakjJTvnzS/PlS0aJS8eJWVwMAAAAgBYSkzNaokdUVAAAAALgDutsBAAAAQBKEJAAAAABIgpAEAAAAAEkQkgAAAAAgCUISAAAAACRBSAIAAACAJAhJAAAAAJAEIQkAAAAAkiAkAQAAAEAShCQAAAAASIKQBAAAAABJEJIAAAAAIAlCEgAAAAAkYXlI+ueff9SuXTvlzZtX3t7eioiI0ObNm+3bDcPQ8OHDFRQUJG9vb9WpU0f79u2zsGIAAAAArszSkHThwgVVq1ZN2bNn13fffaedO3fqrbfeUu7cue37TJo0SdOmTdOsWbO0YcMG+fj4qH79+rp69aqFlQMAAABwVTbDMAyrfvngwYP166+/6pdffklxu2EYCg4O1iuvvKIBAwZIkqKjo1WgQAF9/PHHat269V1/R0xMjPz9/RUdHS0/P790rR8AAACA80htNrC0Jembb75RxYoV1bJlSwUEBKhcuXL64IMP7NsPHTqkU6dOqU6dOvZ1/v7+qly5siIjI1O8z7i4OMXExCS7AAAAAEBqWRqSDh48qJkzZ6pYsWJatWqVevToob59+2revHmSpFOnTkmSChQokOx2BQoUsG/7rwkTJsjf399+CQkJydg/AgAAAIBLyWblL09MTFTFihU1fvx4SVK5cuW0Y8cOzZo1Sx06dLin+xwyZIj69+9vX46OjlahQoVoUQIAAACyuBuZ4G5nHFkakoKCglS6dOlk60qVKqUlS5ZIkgIDAyVJp0+fVlBQkH2f06dP6+GHH07xPj09PeXp6WlfvvFA0KIEAAAAQJJiY2Pl7+9/2+2WhqRq1appz549ydbt3btXhQsXliSFhoYqMDBQa9assYeimJgYbdiwQT169EjV7wgODtaxY8fk6+ur2NhYhYSE6NixYwzi4ARiYmI4Xk6E4+VcOF7Oh2PmXDhezoXj5Vzu53gZhqHY2FgFBwffcT9LQ9LLL7+sqlWravz48WrVqpU2btyo2bNna/bs2ZIkm82mfv36aezYsSpWrJhCQ0M1bNgwBQcHq1mzZqn6HW5ubnrggQfs9ydJfn5+vACcCMfLuXC8nAvHy/lwzJwLx8u5cLycy70erzu1IN1gaUiqVKmSli1bpiFDhmj06NEKDQ3V1KlT1bZtW/s+gwYN0qVLl/Tiiy8qKipKjz32mFauXCkvLy8LKwcAAADgqiwNSZL05JNP6sknn7ztdpvNptGjR2v06NGZWBUAAACArMrSIcAzm6enp0aMGJFsYAc4Lo6Xc+F4OReOl/PhmDkXjpdz4Xg5l8w4XjbjbuPfAQAAAEAWkqVakgAAAADgbghJAAAAAJAEIQkAAAAAkiAkAQAAAEASLhmS/vnnH7Vr10558+aVt7e3IiIitHnzZvt2wzA0fPhwBQUFydvbW3Xq1NG+ffssrDhru9vx6tixo2w2W7JLgwYNLKw46ypSpMgtx8Jms6lXr16SpKtXr6pXr17KmzevcubMqRYtWuj06dMWV5213e2Y1apV65Zt3bt3t7jqrCshIUHDhg1TaGiovL29FR4erjFjxijpGEu8hzmO1Bwv3sMcS2xsrPr166fChQvL29tbVatW1aZNm+zbeX05lrsdrwx9fRku5vz580bhwoWNjh07Ghs2bDAOHjxorFq1yti/f799nzfeeMPw9/c3vvrqK2Pbtm3GU089ZYSGhhpXrlyxsPKsKTXHq0OHDkaDBg2MkydP2i/nz5+3sOqs68yZM8mOww8//GBIMn766SfDMAyje/fuRkhIiLFmzRpj8+bNxqOPPmpUrVrV2qKzuLsds5o1axpdu3ZNtk90dLS1RWdh48aNM/LmzWt8++23xqFDh4zFixcbOXPmNN555x37PryHOY7UHC/ewxxLq1atjNKlSxvr1q0z9u3bZ4wYMcLw8/Mzjh8/bhgGry9Hc7fjlZGvL5cLSa+++qrx2GOP3XZ7YmKiERgYaLz55pv2dVFRUYanp6fx+eefZ0aJSOJux8swzBdA06ZNM6cgpMlLL71khIeHG4mJiUZUVJSRPXt2Y/Hixfbtu3btMiQZkZGRFlaJpJIeM8MwQ9JLL71kbVGwa9y4sdGpU6dk65o3b260bdvWMAzewxzN3Y6XYfAe5kguX75suLu7G99++22y9eXLlzeGDh3K68vB3O14GUbGvr5crrvdN998o4oVK6ply5YKCAhQuXLl9MEHH9i3Hzp0SKdOnVKdOnXs6/z9/VW5cmVFRkZaUXKWdrfjdcPatWsVEBCgEiVKqEePHjp37pwF1SKpa9euaf78+erUqZNsNpv++OMPXb9+Pdlrq2TJkipUqBCvLQfx32N2w2effaZ8+fLpwQcf1JAhQ3T58mULq8zaqlatqjVr1mjv3r2SpG3btmn9+vVq2LChJN7DHM3djtcNvIc5hvj4eCUkJMjLyyvZem9vb61fv57Xl4O52/G6IaNeX9nS5V4cyMGDBzVz5kz1799fr732mjZt2qS+ffvKw8NDHTp00KlTpyRJBQoUSHa7AgUK2Lch89zteElSgwYN1Lx5c4WGhurAgQN67bXX1LBhQ0VGRsrd3d3ivyDr+uqrrxQVFaWOHTtKkk6dOiUPDw/lypUr2X68thzHf4+ZJD333HMqXLiwgoODtX37dr366qvas2ePli5dal2hWdjgwYMVExOjkiVLyt3dXQkJCRo3bpzatm0rSbyHOZi7HS+J9zBH4uvrqypVqmjMmDEqVaqUChQooM8//1yRkZEqWrQory8Hc7fjJWXs68vlQlJiYqIqVqyo8ePHS5LKlSunHTt2aNasWfYP3XAcqTlerVu3tu8fERGhsmXLKjw8XGvXrlXt2rUtqRvSRx99pIYNGyo4ONjqUpBKKR2zF1980X49IiJCQUFBql27tg4cOKDw8HAryszSFi1apM8++0wLFixQmTJltHXrVvXr10/BwcG8hzmg1Bwv3sMcy6effqpOnTqpYMGCcnd3V/ny5dWmTRv98ccfVpeGFNzteGXk68vlutsFBQWpdOnSydaVKlVKR48elSQFBgZK0i0jbp0+fdq+DZnnbscrJWFhYcqXL5/279+f0eXhNo4cOaLVq1erS5cu9nWBgYG6du2aoqKiku3La8sxpHTMUlK5cmVJ4vVlkYEDB2rw4MFq3bq1IiIi9Pzzz+vll1/WhAkTJPEe5mjudrxSwnuYtcLDw7Vu3TpdvHhRx44d08aNG3X9+nWFhYXx+nJAdzpeKUnP15fLhaRq1appz549ydbt3btXhQsXliSFhoYqMDBQa9assW+PiYnRhg0bVKVKlUytFXc/Xik5fvy4zp07p6CgoIwuD7cxd+5cBQQEqHHjxvZ1FSpUUPbs2ZO9tvbs2aOjR4/y2nIAKR2zlGzdulWSeH1Z5PLly3JzS/7W7O7ursTEREm8hzmaux2vlPAe5hh8fHwUFBSkCxcuaNWqVWratCmvLweW0vFKSbq+vjJkOAgLbdy40ciWLZsxbtw4Y9++fcZnn31m5MiRw5g/f759nzfeeMPIlSuX8fXXXxvbt283mjZtyvCOFrnb8YqNjTUGDBhgREZGGocOHTJWr15tlC9f3ihWrJhx9epVi6vPmhISEoxChQoZr7766i3bunfvbhQqVMj48ccfjc2bNxtVqlQxqlSpYkGVSOp2x2z//v3G6NGjjc2bNxuHDh0yvv76ayMsLMyoUaOGRZWiQ4cORsGCBe1DSi9dutTIly+fMWjQIPs+vIc5jrsdL97DHM/KlSuN7777zjh48KDx/fffGw899JBRuXJl49q1a4Zh8PpyNHc6Xhn9+nK5kGQYhrF8+XLjwQcfNDw9PY2SJUsas2fPTrY9MTHRGDZsmFGgQAHD09PTqF27trFnzx6LqsWdjtfly5eNevXqGfnz5zeyZ89uFC5c2Ojatatx6tQpCyvO2latWmVISvE1c+XKFaNnz55G7ty5jRw5chhPP/20cfLkSQuqRFK3O2ZHjx41atSoYeTJk8fw9PQ0ihYtagwcOJB5kiwUExNjvPTSS0ahQoUMLy8vIywszBg6dKgRFxdn34f3MMdxt+PFe5jjWbhwoREWFmZ4eHgYgYGBRq9evYyoqCj7dl5fjuVOxyujX182w0gyLTQAAAAAZHEud04SAAAAANwPQhIAAAAAJEFIAgAAAIAkCEkAAAAAkAQhCQAAAACSICQBAAAAQBKEJAAAAABIgpAEAAAAAEkQkgAAuI0iRYpo6tSpVpcBAMhkhCQAQLqx2Wx3vIwcOTJT6oiIiFD37t1T3Pbpp5/K09NT//77b6bUAgBwPoQkAEC6OXnypP0ydepU+fn5JVs3YMAA+76GYSg+Pj5D6ujcubO++OILXbly5ZZtc+fO1VNPPaV8+fJlyO8GADg/QhIAIN0EBgbaL/7+/rLZbPbl3bt3y9fXV999950qVKggT09PrV+/Xh07dlSzZs2S3U+/fv1Uq1Yt+3JiYqImTJig0NBQeXt766GHHtKXX3552zratWunK1euaMmSJcnWHzp0SGvXrlXnzp114MABNW3aVAUKFFDOnDlVqVIlrV69+rb3efjwYdlsNm3dutW+LioqSjabTWvXrrWv27Fjhxo2bKicOXOqQIECev7555O1Wn355ZeKiIiQt7e38ubNqzp16ujSpUt3fmABAJmKkAQAyFSDBw/WG2+8oV27dqls2bKpus2ECRP0ySefaNasWfr777/18ssvq127dlq3bl2K++fLl09NmzbVnDlzkq3/+OOP9cADD6hevXq6ePGiGjVqpDVr1mjLli1q0KCBmjRpoqNHj97z3xYVFaUnnnhC5cqV0+bNm7Vy5UqdPn1arVq1kmS2tLVp00adOnXSrl27tHbtWjVv3lyGYdzz7wQApL9sVhcAAMhaRo8erbp166Z6/7i4OI0fP16rV69WlSpVJElhYWFav3693n//fdWsWTPF23Xu3FkNGzbUoUOHFBoaKsMwNG/ePHXo0EFubm566KGH9NBDD9n3HzNmjJYtW6ZvvvlGvXv3vqe/bcaMGSpXrpzGjx9vXzdnzhyFhIRo7969unjxouLj49W8eXMVLlxYknn+FADAsdCSBADIVBUrVkzT/vv379fly5dVt25d5cyZ03755JNPdODAgdverm7dunrggQc0d+5cSdKaNWt09OhRvfDCC5KkixcvasCAASpVqpRy5cqlnDlzateuXffVkrRt2zb99NNPyeosWbKkJOnAgQN66KGHVLt2bUVERKhly5b64IMPdOHChXv+fQCAjEFLEgAgU/n4+CRbdnNzu6W72fXr1+3XL168KElasWKFChYsmGw/T0/P2/4eNzc3dezYUfPmzdPIkSM1d+5cPf744woLC5MkDRgwQD/88IMmT56sokWLytvbW88884yuXbt22/uTlKzWpHXeqLVJkyaaOHHiLbcPCgqSu7u7fvjhB/3222/6/vvvNX36dA0dOlQbNmxQaGjobf8WAEDmoiUJAGCp/Pnz6+TJk8nWJR0coXTp0vL09NTRo0dVtGjRZJeQkJA73vcLL7ygY8eOaenSpVq2bJk6d+5s3/brr7+qY8eOevrppxUREaHAwEAdPnz4jnVKSlZr0jolqXz58vr7779VpEiRW2q9EQ5tNpuqVaumUaNGacuWLfLw8NCyZcvu+HcAADIXIQkAYKknnnhCmzdv1ieffKJ9+/ZpxIgR2rFjh327r6+vBgwYoJdfflnz5s3TgQMH9Oeff2r69OmaN2/eHe87NDRUTzzxhF588UV5enqqefPm9m3FihXT0qVLtXXrVm3btk3PPfecEhMTb3tf3t7eevTRR+2DTqxbt06vv/56sn169eql8+fPq02bNtq0aZMOHDigVatW6YUXXlBCQoI2bNig8ePHa/PmzTp69KiWLl2qs2fPqlSpUvf46AEAMgIhCQBgqfr162vYsGEaNGiQKlWqpNjYWLVv3z7ZPmPGjNGwYcM0YcIElSpVSg0aNNCKFStS1UWtc+fOunDhgp577jl5eXnZ10+ZMkW5c+dW1apV1aRJE9WvX1/ly5e/433NmTNH8fHxqlChgvr166exY8cm2x4cHKxff/1VCQkJqlevniIiItSvXz/lypVLbm5u8vPz088//6xGjRqpePHiev311/XWW2+pYcOGaXjEAAAZzWYw7igAAAAA2NGSBAAAAABJEJIAAAAAIAlCEgAAAAAkQUgCAAAAgCQISQAAAACQBCEJAAAAAJIgJAEAAABAEoQkAAAAAEiCkAQAAAAASRCSAAAAACAJQhIAAAAAJPF/786d6gqY7YYAAAAASUVORK5CYII=",
      "text/plain": [
       "<Figure size 1000x600 with 1 Axes>"
      ]
     },
     "metadata": {},
     "output_type": "display_data"
    }
   ],
   "source": [
    "\n",
    "\n",
    "plt.figure(figsize=(10, 6))\n",
    "plt.scatter(df_cat['y_true'], df_cat['y_hat'], color = 'blue', alpha = 0.5)\n",
    "plt.plot([df_cat['y_true'].min(), df_cat['y_true'].max()], [df_cat['y_true'].min(), df_cat['y_true'].max()], color = 'red', linestyle = '--')\n",
    "plt.xlabel('True Values')\n",
    "plt.ylabel('Predicted Values')\n",
    "plt.title('CatBoost True vs Predicted Values')\n",
    "plt.show()"
   ]
  },
  {
   "cell_type": "code",
   "execution_count": 24,
   "metadata": {},
   "outputs": [],
   "source": [
    "cat_model.save_model('./model_checkpoint/catboost_model.cbm')"
   ]
  },
  {
   "cell_type": "markdown",
   "metadata": {},
   "source": [
    "# Model Testing"
   ]
  },
  {
   "cell_type": "code",
   "execution_count": 25,
   "metadata": {},
   "outputs": [
    {
     "name": "stderr",
     "output_type": "stream",
     "text": [
      "WARNING: All log messages before absl::InitializeLog() is called are written to STDERR\n",
      "I0000 00:00:1747921134.015170    1290 cuda_executor.cc:1001] could not open file to read NUMA node: /sys/bus/pci/devices/0000:27:00.0/numa_node\n",
      "Your kernel may have been built without NUMA support.\n",
      "I0000 00:00:1747921134.104102    1290 cuda_executor.cc:1001] could not open file to read NUMA node: /sys/bus/pci/devices/0000:27:00.0/numa_node\n",
      "Your kernel may have been built without NUMA support.\n",
      "I0000 00:00:1747921134.104153    1290 cuda_executor.cc:1001] could not open file to read NUMA node: /sys/bus/pci/devices/0000:27:00.0/numa_node\n",
      "Your kernel may have been built without NUMA support.\n",
      "I0000 00:00:1747921134.107355    1290 cuda_executor.cc:1001] could not open file to read NUMA node: /sys/bus/pci/devices/0000:27:00.0/numa_node\n",
      "Your kernel may have been built without NUMA support.\n",
      "I0000 00:00:1747921134.107401    1290 cuda_executor.cc:1001] could not open file to read NUMA node: /sys/bus/pci/devices/0000:27:00.0/numa_node\n",
      "Your kernel may have been built without NUMA support.\n",
      "I0000 00:00:1747921134.107423    1290 cuda_executor.cc:1001] could not open file to read NUMA node: /sys/bus/pci/devices/0000:27:00.0/numa_node\n",
      "Your kernel may have been built without NUMA support.\n",
      "I0000 00:00:1747921134.408023    1290 cuda_executor.cc:1001] could not open file to read NUMA node: /sys/bus/pci/devices/0000:27:00.0/numa_node\n",
      "Your kernel may have been built without NUMA support.\n",
      "I0000 00:00:1747921134.408149    1290 cuda_executor.cc:1001] could not open file to read NUMA node: /sys/bus/pci/devices/0000:27:00.0/numa_node\n",
      "Your kernel may have been built without NUMA support.\n",
      "2025-05-22 15:38:54.408203: I tensorflow/core/common_runtime/gpu/gpu_device.cc:2112] Could not identify NUMA node of platform GPU id 0, defaulting to 0.  Your kernel may not have been built with NUMA support.\n",
      "I0000 00:00:1747921134.408290    1290 cuda_executor.cc:1001] could not open file to read NUMA node: /sys/bus/pci/devices/0000:27:00.0/numa_node\n",
      "Your kernel may have been built without NUMA support.\n",
      "2025-05-22 15:38:54.409036: I tensorflow/core/common_runtime/gpu/gpu_device.cc:2021] Created device /job:localhost/replica:0/task:0/device:GPU:0 with 6073 MB memory:  -> device: 0, name: NVIDIA GeForce RTX 2070 SUPER, pci bus id: 0000:27:00.0, compute capability: 7.5\n"
     ]
    }
   ],
   "source": [
    "\n",
    "cat_loaded = CatBoostRegressor()\n",
    "cat_loaded.load_model(\"./model_checkpoint/catboost_model.cbm\")\n",
    "lstm_loaded = keras.saving.load_model(\"./model_checkpoint/lstm-aqa.keras\")"
   ]
  },
  {
   "cell_type": "code",
   "execution_count": 72,
   "metadata": {},
   "outputs": [
    {
     "name": "stderr",
     "output_type": "stream",
     "text": [
      "W0000 00:00:1747924310.665914   35655 inference_feedback_manager.cc:114] Feedback manager requires a model with a single signature inference. Disabling support for feedback tensors.\n",
      "W0000 00:00:1747924310.686073   35655 inference_feedback_manager.cc:114] Feedback manager requires a model with a single signature inference. Disabling support for feedback tensors.\n",
      "W0000 00:00:1747924310.687694   35663 inference_feedback_manager.cc:114] Feedback manager requires a model with a single signature inference. Disabling support for feedback tensors.\n",
      "W0000 00:00:1747924310.692581   35656 inference_feedback_manager.cc:114] Feedback manager requires a model with a single signature inference. Disabling support for feedback tensors.\n",
      "W0000 00:00:1747924310.693721   35658 inference_feedback_manager.cc:114] Feedback manager requires a model with a single signature inference. Disabling support for feedback tensors.\n",
      "W0000 00:00:1747924310.701894   35663 inference_feedback_manager.cc:114] Feedback manager requires a model with a single signature inference. Disabling support for feedback tensors.\n",
      "W0000 00:00:1747924310.707400   35656 inference_feedback_manager.cc:114] Feedback manager requires a model with a single signature inference. Disabling support for feedback tensors.\n",
      "W0000 00:00:1747924310.710802   35658 inference_feedback_manager.cc:114] Feedback manager requires a model with a single signature inference. Disabling support for feedback tensors.\n"
     ]
    },
    {
     "name": "stdout",
     "output_type": "stream",
     "text": [
      "\u001b[1m1/1\u001b[0m \u001b[32m━━━━━━━━━━━━━━━━━━━━\u001b[0m\u001b[37m\u001b[0m \u001b[1m0s\u001b[0m 76ms/step\n",
      "[83.773315]\n",
      "[86.4]\n"
     ]
    },
    {
     "name": "stderr",
     "output_type": "stream",
     "text": [
      "W0000 00:00:1747924316.479383   35712 inference_feedback_manager.cc:114] Feedback manager requires a model with a single signature inference. Disabling support for feedback tensors.\n",
      "W0000 00:00:1747924316.503301   35712 inference_feedback_manager.cc:114] Feedback manager requires a model with a single signature inference. Disabling support for feedback tensors.\n",
      "W0000 00:00:1747924316.505265   35710 inference_feedback_manager.cc:114] Feedback manager requires a model with a single signature inference. Disabling support for feedback tensors.\n",
      "W0000 00:00:1747924316.505724   35717 inference_feedback_manager.cc:114] Feedback manager requires a model with a single signature inference. Disabling support for feedback tensors.\n",
      "W0000 00:00:1747924316.505757   35712 inference_feedback_manager.cc:114] Feedback manager requires a model with a single signature inference. Disabling support for feedback tensors.\n",
      "W0000 00:00:1747924316.508580   35710 inference_feedback_manager.cc:114] Feedback manager requires a model with a single signature inference. Disabling support for feedback tensors.\n",
      "W0000 00:00:1747924316.521968   35717 inference_feedback_manager.cc:114] Feedback manager requires a model with a single signature inference. Disabling support for feedback tensors.\n",
      "W0000 00:00:1747924316.524440   35712 inference_feedback_manager.cc:114] Feedback manager requires a model with a single signature inference. Disabling support for feedback tensors.\n"
     ]
    },
    {
     "name": "stdout",
     "output_type": "stream",
     "text": [
      "\u001b[1m1/1\u001b[0m \u001b[32m━━━━━━━━━━━━━━━━━━━━\u001b[0m\u001b[37m\u001b[0m \u001b[1m0s\u001b[0m 48ms/step\n",
      "[84.55373]\n",
      "[84.15]\n"
     ]
    },
    {
     "name": "stderr",
     "output_type": "stream",
     "text": [
      "W0000 00:00:1747924323.919356   35770 inference_feedback_manager.cc:114] Feedback manager requires a model with a single signature inference. Disabling support for feedback tensors.\n",
      "W0000 00:00:1747924323.957680   35770 inference_feedback_manager.cc:114] Feedback manager requires a model with a single signature inference. Disabling support for feedback tensors.\n",
      "W0000 00:00:1747924323.959689   35778 inference_feedback_manager.cc:114] Feedback manager requires a model with a single signature inference. Disabling support for feedback tensors.\n",
      "W0000 00:00:1747924323.959578   35779 inference_feedback_manager.cc:114] Feedback manager requires a model with a single signature inference. Disabling support for feedback tensors.\n",
      "W0000 00:00:1747924323.959899   35777 inference_feedback_manager.cc:114] Feedback manager requires a model with a single signature inference. Disabling support for feedback tensors.\n",
      "W0000 00:00:1747924323.965652   35778 inference_feedback_manager.cc:114] Feedback manager requires a model with a single signature inference. Disabling support for feedback tensors.\n",
      "W0000 00:00:1747924323.973520   35775 inference_feedback_manager.cc:114] Feedback manager requires a model with a single signature inference. Disabling support for feedback tensors.\n",
      "W0000 00:00:1747924323.981345   35768 inference_feedback_manager.cc:114] Feedback manager requires a model with a single signature inference. Disabling support for feedback tensors.\n"
     ]
    },
    {
     "name": "stdout",
     "output_type": "stream",
     "text": [
      "\u001b[1m1/1\u001b[0m \u001b[32m━━━━━━━━━━━━━━━━━━━━\u001b[0m\u001b[37m\u001b[0m \u001b[1m0s\u001b[0m 48ms/step\n",
      "[84.53761]\n",
      "[97.2]\n"
     ]
    },
    {
     "name": "stderr",
     "output_type": "stream",
     "text": [
      "W0000 00:00:1747924330.773591   35834 inference_feedback_manager.cc:114] Feedback manager requires a model with a single signature inference. Disabling support for feedback tensors.\n",
      "W0000 00:00:1747924330.794127   35834 inference_feedback_manager.cc:114] Feedback manager requires a model with a single signature inference. Disabling support for feedback tensors.\n",
      "W0000 00:00:1747924330.795993   35839 inference_feedback_manager.cc:114] Feedback manager requires a model with a single signature inference. Disabling support for feedback tensors.\n",
      "W0000 00:00:1747924330.796169   35837 inference_feedback_manager.cc:114] Feedback manager requires a model with a single signature inference. Disabling support for feedback tensors.\n",
      "W0000 00:00:1747924330.796472   35833 inference_feedback_manager.cc:114] Feedback manager requires a model with a single signature inference. Disabling support for feedback tensors.\n",
      "W0000 00:00:1747924330.802313   35839 inference_feedback_manager.cc:114] Feedback manager requires a model with a single signature inference. Disabling support for feedback tensors.\n",
      "W0000 00:00:1747924330.812992   35833 inference_feedback_manager.cc:114] Feedback manager requires a model with a single signature inference. Disabling support for feedback tensors.\n",
      "W0000 00:00:1747924330.814219   35837 inference_feedback_manager.cc:114] Feedback manager requires a model with a single signature inference. Disabling support for feedback tensors.\n"
     ]
    },
    {
     "name": "stdout",
     "output_type": "stream",
     "text": [
      "\u001b[1m1/1\u001b[0m \u001b[32m━━━━━━━━━━━━━━━━━━━━\u001b[0m\u001b[37m\u001b[0m \u001b[1m0s\u001b[0m 46ms/step\n",
      "[84.556114]\n",
      "[83.25]\n"
     ]
    },
    {
     "name": "stderr",
     "output_type": "stream",
     "text": [
      "W0000 00:00:1747924338.066691   35892 inference_feedback_manager.cc:114] Feedback manager requires a model with a single signature inference. Disabling support for feedback tensors.\n",
      "W0000 00:00:1747924338.086442   35894 inference_feedback_manager.cc:114] Feedback manager requires a model with a single signature inference. Disabling support for feedback tensors.\n",
      "W0000 00:00:1747924338.087826   35898 inference_feedback_manager.cc:114] Feedback manager requires a model with a single signature inference. Disabling support for feedback tensors.\n",
      "W0000 00:00:1747924338.088406   35891 inference_feedback_manager.cc:114] Feedback manager requires a model with a single signature inference. Disabling support for feedback tensors.\n",
      "W0000 00:00:1747924338.088413   35899 inference_feedback_manager.cc:114] Feedback manager requires a model with a single signature inference. Disabling support for feedback tensors.\n",
      "W0000 00:00:1747924338.091986   35899 inference_feedback_manager.cc:114] Feedback manager requires a model with a single signature inference. Disabling support for feedback tensors.\n",
      "W0000 00:00:1747924338.097114   35898 inference_feedback_manager.cc:114] Feedback manager requires a model with a single signature inference. Disabling support for feedback tensors.\n",
      "W0000 00:00:1747924338.103190   35891 inference_feedback_manager.cc:114] Feedback manager requires a model with a single signature inference. Disabling support for feedback tensors.\n"
     ]
    },
    {
     "name": "stdout",
     "output_type": "stream",
     "text": [
      "\u001b[1m1/1\u001b[0m \u001b[32m━━━━━━━━━━━━━━━━━━━━\u001b[0m\u001b[37m\u001b[0m \u001b[1m0s\u001b[0m 44ms/step\n",
      "[78.243546]\n",
      "[51.2]\n"
     ]
    },
    {
     "name": "stderr",
     "output_type": "stream",
     "text": [
      "W0000 00:00:1747924344.819522   35953 inference_feedback_manager.cc:114] Feedback manager requires a model with a single signature inference. Disabling support for feedback tensors.\n",
      "W0000 00:00:1747924344.849721   35961 inference_feedback_manager.cc:114] Feedback manager requires a model with a single signature inference. Disabling support for feedback tensors.\n",
      "W0000 00:00:1747924344.851413   35955 inference_feedback_manager.cc:114] Feedback manager requires a model with a single signature inference. Disabling support for feedback tensors.\n",
      "W0000 00:00:1747924344.851983   35954 inference_feedback_manager.cc:114] Feedback manager requires a model with a single signature inference. Disabling support for feedback tensors.\n",
      "W0000 00:00:1747924344.852220   35962 inference_feedback_manager.cc:114] Feedback manager requires a model with a single signature inference. Disabling support for feedback tensors.\n",
      "W0000 00:00:1747924344.857124   35962 inference_feedback_manager.cc:114] Feedback manager requires a model with a single signature inference. Disabling support for feedback tensors.\n",
      "W0000 00:00:1747924344.862034   35960 inference_feedback_manager.cc:114] Feedback manager requires a model with a single signature inference. Disabling support for feedback tensors.\n",
      "W0000 00:00:1747924344.869303   35961 inference_feedback_manager.cc:114] Feedback manager requires a model with a single signature inference. Disabling support for feedback tensors.\n"
     ]
    },
    {
     "name": "stdout",
     "output_type": "stream",
     "text": [
      "\u001b[1m1/1\u001b[0m \u001b[32m━━━━━━━━━━━━━━━━━━━━\u001b[0m\u001b[37m\u001b[0m \u001b[1m0s\u001b[0m 57ms/step\n",
      "[78.51181]\n",
      "[84.]\n"
     ]
    },
    {
     "name": "stderr",
     "output_type": "stream",
     "text": [
      "W0000 00:00:1747924351.865272   36014 inference_feedback_manager.cc:114] Feedback manager requires a model with a single signature inference. Disabling support for feedback tensors.\n",
      "W0000 00:00:1747924351.883738   36018 inference_feedback_manager.cc:114] Feedback manager requires a model with a single signature inference. Disabling support for feedback tensors.\n",
      "W0000 00:00:1747924351.885041   36017 inference_feedback_manager.cc:114] Feedback manager requires a model with a single signature inference. Disabling support for feedback tensors.\n",
      "W0000 00:00:1747924351.885281   36015 inference_feedback_manager.cc:114] Feedback manager requires a model with a single signature inference. Disabling support for feedback tensors.\n",
      "W0000 00:00:1747924351.885321   36018 inference_feedback_manager.cc:114] Feedback manager requires a model with a single signature inference. Disabling support for feedback tensors.\n",
      "W0000 00:00:1747924351.888863   36015 inference_feedback_manager.cc:114] Feedback manager requires a model with a single signature inference. Disabling support for feedback tensors.\n",
      "W0000 00:00:1747924351.899455   36018 inference_feedback_manager.cc:114] Feedback manager requires a model with a single signature inference. Disabling support for feedback tensors.\n",
      "W0000 00:00:1747924351.900168   36022 inference_feedback_manager.cc:114] Feedback manager requires a model with a single signature inference. Disabling support for feedback tensors.\n"
     ]
    },
    {
     "name": "stdout",
     "output_type": "stream",
     "text": [
      "\u001b[1m1/1\u001b[0m \u001b[32m━━━━━━━━━━━━━━━━━━━━\u001b[0m\u001b[37m\u001b[0m \u001b[1m0s\u001b[0m 47ms/step\n",
      "[84.47244]\n",
      "[67.5]\n"
     ]
    },
    {
     "name": "stderr",
     "output_type": "stream",
     "text": [
      "W0000 00:00:1747924359.231056   36072 inference_feedback_manager.cc:114] Feedback manager requires a model with a single signature inference. Disabling support for feedback tensors.\n",
      "W0000 00:00:1747924359.245229   36072 inference_feedback_manager.cc:114] Feedback manager requires a model with a single signature inference. Disabling support for feedback tensors.\n",
      "W0000 00:00:1747924359.246797   36073 inference_feedback_manager.cc:114] Feedback manager requires a model with a single signature inference. Disabling support for feedback tensors.\n",
      "W0000 00:00:1747924359.247014   36078 inference_feedback_manager.cc:114] Feedback manager requires a model with a single signature inference. Disabling support for feedback tensors.\n",
      "W0000 00:00:1747924359.247014   36079 inference_feedback_manager.cc:114] Feedback manager requires a model with a single signature inference. Disabling support for feedback tensors.\n",
      "W0000 00:00:1747924359.251346   36073 inference_feedback_manager.cc:114] Feedback manager requires a model with a single signature inference. Disabling support for feedback tensors.\n",
      "W0000 00:00:1747924359.257039   36079 inference_feedback_manager.cc:114] Feedback manager requires a model with a single signature inference. Disabling support for feedback tensors.\n",
      "W0000 00:00:1747924359.257044   36070 inference_feedback_manager.cc:114] Feedback manager requires a model with a single signature inference. Disabling support for feedback tensors.\n"
     ]
    },
    {
     "name": "stdout",
     "output_type": "stream",
     "text": [
      "\u001b[1m1/1\u001b[0m \u001b[32m━━━━━━━━━━━━━━━━━━━━\u001b[0m\u001b[37m\u001b[0m \u001b[1m0s\u001b[0m 46ms/step\n",
      "[78.20305]\n",
      "[67.3]\n"
     ]
    },
    {
     "name": "stderr",
     "output_type": "stream",
     "text": [
      "W0000 00:00:1747924365.547649   36130 inference_feedback_manager.cc:114] Feedback manager requires a model with a single signature inference. Disabling support for feedback tensors.\n",
      "W0000 00:00:1747924365.564603   36130 inference_feedback_manager.cc:114] Feedback manager requires a model with a single signature inference. Disabling support for feedback tensors.\n",
      "W0000 00:00:1747924365.565957   36137 inference_feedback_manager.cc:114] Feedback manager requires a model with a single signature inference. Disabling support for feedback tensors.\n",
      "W0000 00:00:1747924365.566102   36129 inference_feedback_manager.cc:114] Feedback manager requires a model with a single signature inference. Disabling support for feedback tensors.\n",
      "W0000 00:00:1747924365.566583   36130 inference_feedback_manager.cc:114] Feedback manager requires a model with a single signature inference. Disabling support for feedback tensors.\n",
      "W0000 00:00:1747924365.570348   36132 inference_feedback_manager.cc:114] Feedback manager requires a model with a single signature inference. Disabling support for feedback tensors.\n",
      "W0000 00:00:1747924365.575377   36137 inference_feedback_manager.cc:114] Feedback manager requires a model with a single signature inference. Disabling support for feedback tensors.\n",
      "W0000 00:00:1747924365.576144   36135 inference_feedback_manager.cc:114] Feedback manager requires a model with a single signature inference. Disabling support for feedback tensors.\n"
     ]
    },
    {
     "name": "stdout",
     "output_type": "stream",
     "text": [
      "\u001b[1m1/1\u001b[0m \u001b[32m━━━━━━━━━━━━━━━━━━━━\u001b[0m\u001b[37m\u001b[0m \u001b[1m0s\u001b[0m 51ms/step\n",
      "[77.90723]\n",
      "[67.5]\n"
     ]
    },
    {
     "name": "stderr",
     "output_type": "stream",
     "text": [
      "W0000 00:00:1747924372.465189   36194 inference_feedback_manager.cc:114] Feedback manager requires a model with a single signature inference. Disabling support for feedback tensors.\n",
      "W0000 00:00:1747924372.480512   36194 inference_feedback_manager.cc:114] Feedback manager requires a model with a single signature inference. Disabling support for feedback tensors.\n",
      "W0000 00:00:1747924372.482003   36196 inference_feedback_manager.cc:114] Feedback manager requires a model with a single signature inference. Disabling support for feedback tensors.\n",
      "W0000 00:00:1747924372.482295   36200 inference_feedback_manager.cc:114] Feedback manager requires a model with a single signature inference. Disabling support for feedback tensors.\n",
      "W0000 00:00:1747924372.482315   36202 inference_feedback_manager.cc:114] Feedback manager requires a model with a single signature inference. Disabling support for feedback tensors.\n",
      "W0000 00:00:1747924372.486315   36202 inference_feedback_manager.cc:114] Feedback manager requires a model with a single signature inference. Disabling support for feedback tensors.\n",
      "W0000 00:00:1747924372.491873   36196 inference_feedback_manager.cc:114] Feedback manager requires a model with a single signature inference. Disabling support for feedback tensors.\n",
      "W0000 00:00:1747924372.492340   36200 inference_feedback_manager.cc:114] Feedback manager requires a model with a single signature inference. Disabling support for feedback tensors.\n"
     ]
    },
    {
     "name": "stdout",
     "output_type": "stream",
     "text": [
      "\u001b[1m1/1\u001b[0m \u001b[32m━━━━━━━━━━━━━━━━━━━━\u001b[0m\u001b[37m\u001b[0m \u001b[1m0s\u001b[0m 47ms/step\n",
      "[84.55754]\n",
      "[90.75]\n"
     ]
    },
    {
     "name": "stderr",
     "output_type": "stream",
     "text": [
      "W0000 00:00:1747924378.792330   36252 inference_feedback_manager.cc:114] Feedback manager requires a model with a single signature inference. Disabling support for feedback tensors.\n",
      "W0000 00:00:1747924378.811856   36252 inference_feedback_manager.cc:114] Feedback manager requires a model with a single signature inference. Disabling support for feedback tensors.\n",
      "W0000 00:00:1747924378.813170   36256 inference_feedback_manager.cc:114] Feedback manager requires a model with a single signature inference. Disabling support for feedback tensors.\n",
      "W0000 00:00:1747924378.813189   36261 inference_feedback_manager.cc:114] Feedback manager requires a model with a single signature inference. Disabling support for feedback tensors.\n",
      "W0000 00:00:1747924378.813866   36257 inference_feedback_manager.cc:114] Feedback manager requires a model with a single signature inference. Disabling support for feedback tensors.\n",
      "W0000 00:00:1747924378.819112   36257 inference_feedback_manager.cc:114] Feedback manager requires a model with a single signature inference. Disabling support for feedback tensors.\n",
      "W0000 00:00:1747924378.822207   36261 inference_feedback_manager.cc:114] Feedback manager requires a model with a single signature inference. Disabling support for feedback tensors.\n",
      "W0000 00:00:1747924378.823796   36256 inference_feedback_manager.cc:114] Feedback manager requires a model with a single signature inference. Disabling support for feedback tensors.\n"
     ]
    },
    {
     "name": "stdout",
     "output_type": "stream",
     "text": [
      "\u001b[1m1/1\u001b[0m \u001b[32m━━━━━━━━━━━━━━━━━━━━\u001b[0m\u001b[37m\u001b[0m \u001b[1m0s\u001b[0m 49ms/step\n",
      "[83.57832]\n",
      "[79.2]\n"
     ]
    },
    {
     "name": "stderr",
     "output_type": "stream",
     "text": [
      "W0000 00:00:1747924385.739219   36310 inference_feedback_manager.cc:114] Feedback manager requires a model with a single signature inference. Disabling support for feedback tensors.\n",
      "W0000 00:00:1747924385.755979   36319 inference_feedback_manager.cc:114] Feedback manager requires a model with a single signature inference. Disabling support for feedback tensors.\n",
      "W0000 00:00:1747924385.757605   36314 inference_feedback_manager.cc:114] Feedback manager requires a model with a single signature inference. Disabling support for feedback tensors.\n",
      "W0000 00:00:1747924385.758200   36313 inference_feedback_manager.cc:114] Feedback manager requires a model with a single signature inference. Disabling support for feedback tensors.\n",
      "W0000 00:00:1747924385.758379   36308 inference_feedback_manager.cc:114] Feedback manager requires a model with a single signature inference. Disabling support for feedback tensors.\n",
      "W0000 00:00:1747924385.762954   36308 inference_feedback_manager.cc:114] Feedback manager requires a model with a single signature inference. Disabling support for feedback tensors.\n",
      "W0000 00:00:1747924385.766919   36314 inference_feedback_manager.cc:114] Feedback manager requires a model with a single signature inference. Disabling support for feedback tensors.\n",
      "W0000 00:00:1747924385.772984   36313 inference_feedback_manager.cc:114] Feedback manager requires a model with a single signature inference. Disabling support for feedback tensors.\n"
     ]
    },
    {
     "name": "stdout",
     "output_type": "stream",
     "text": [
      "\u001b[1m1/1\u001b[0m \u001b[32m━━━━━━━━━━━━━━━━━━━━\u001b[0m\u001b[37m\u001b[0m \u001b[1m0s\u001b[0m 51ms/step\n",
      "[84.33428]\n",
      "[92.75]\n"
     ]
    },
    {
     "name": "stderr",
     "output_type": "stream",
     "text": [
      "W0000 00:00:1747924393.277330   36368 inference_feedback_manager.cc:114] Feedback manager requires a model with a single signature inference. Disabling support for feedback tensors.\n",
      "W0000 00:00:1747924393.303095   36369 inference_feedback_manager.cc:114] Feedback manager requires a model with a single signature inference. Disabling support for feedback tensors.\n",
      "W0000 00:00:1747924393.304984   36369 inference_feedback_manager.cc:114] Feedback manager requires a model with a single signature inference. Disabling support for feedback tensors.\n",
      "W0000 00:00:1747924393.305703   36366 inference_feedback_manager.cc:114] Feedback manager requires a model with a single signature inference. Disabling support for feedback tensors.\n",
      "W0000 00:00:1747924393.306425   36370 inference_feedback_manager.cc:114] Feedback manager requires a model with a single signature inference. Disabling support for feedback tensors.\n",
      "W0000 00:00:1747924393.314051   36370 inference_feedback_manager.cc:114] Feedback manager requires a model with a single signature inference. Disabling support for feedback tensors.\n",
      "W0000 00:00:1747924393.315730   36369 inference_feedback_manager.cc:114] Feedback manager requires a model with a single signature inference. Disabling support for feedback tensors.\n",
      "W0000 00:00:1747924393.322006   36366 inference_feedback_manager.cc:114] Feedback manager requires a model with a single signature inference. Disabling support for feedback tensors.\n"
     ]
    },
    {
     "name": "stdout",
     "output_type": "stream",
     "text": [
      "\u001b[1m1/1\u001b[0m \u001b[32m━━━━━━━━━━━━━━━━━━━━\u001b[0m\u001b[37m\u001b[0m \u001b[1m0s\u001b[0m 58ms/step\n",
      "[77.79931]\n",
      "[74.25]\n"
     ]
    },
    {
     "name": "stderr",
     "output_type": "stream",
     "text": [
      "W0000 00:00:1747924399.448636   36426 inference_feedback_manager.cc:114] Feedback manager requires a model with a single signature inference. Disabling support for feedback tensors.\n",
      "W0000 00:00:1747924399.466215   36426 inference_feedback_manager.cc:114] Feedback manager requires a model with a single signature inference. Disabling support for feedback tensors.\n",
      "W0000 00:00:1747924399.467719   36426 inference_feedback_manager.cc:114] Feedback manager requires a model with a single signature inference. Disabling support for feedback tensors.\n",
      "W0000 00:00:1747924399.468009   36432 inference_feedback_manager.cc:114] Feedback manager requires a model with a single signature inference. Disabling support for feedback tensors.\n",
      "W0000 00:00:1747924399.469119   36431 inference_feedback_manager.cc:114] Feedback manager requires a model with a single signature inference. Disabling support for feedback tensors.\n",
      "W0000 00:00:1747924399.477254   36427 inference_feedback_manager.cc:114] Feedback manager requires a model with a single signature inference. Disabling support for feedback tensors.\n",
      "W0000 00:00:1747924399.479615   36432 inference_feedback_manager.cc:114] Feedback manager requires a model with a single signature inference. Disabling support for feedback tensors.\n",
      "W0000 00:00:1747924399.483062   36426 inference_feedback_manager.cc:114] Feedback manager requires a model with a single signature inference. Disabling support for feedback tensors.\n"
     ]
    },
    {
     "name": "stdout",
     "output_type": "stream",
     "text": [
      "\u001b[1m1/1\u001b[0m \u001b[32m━━━━━━━━━━━━━━━━━━━━\u001b[0m\u001b[37m\u001b[0m \u001b[1m0s\u001b[0m 48ms/step\n",
      "[77.789375]\n",
      "[89.1]\n"
     ]
    },
    {
     "name": "stderr",
     "output_type": "stream",
     "text": [
      "W0000 00:00:1747924405.404536   36484 inference_feedback_manager.cc:114] Feedback manager requires a model with a single signature inference. Disabling support for feedback tensors.\n",
      "W0000 00:00:1747924405.422431   36484 inference_feedback_manager.cc:114] Feedback manager requires a model with a single signature inference. Disabling support for feedback tensors.\n",
      "W0000 00:00:1747924405.423875   36488 inference_feedback_manager.cc:114] Feedback manager requires a model with a single signature inference. Disabling support for feedback tensors.\n",
      "W0000 00:00:1747924405.423981   36487 inference_feedback_manager.cc:114] Feedback manager requires a model with a single signature inference. Disabling support for feedback tensors.\n",
      "W0000 00:00:1747924405.424039   36493 inference_feedback_manager.cc:114] Feedback manager requires a model with a single signature inference. Disabling support for feedback tensors.\n",
      "W0000 00:00:1747924405.431470   36493 inference_feedback_manager.cc:114] Feedback manager requires a model with a single signature inference. Disabling support for feedback tensors.\n",
      "W0000 00:00:1747924405.433973   36488 inference_feedback_manager.cc:114] Feedback manager requires a model with a single signature inference. Disabling support for feedback tensors.\n",
      "W0000 00:00:1747924405.435326   36487 inference_feedback_manager.cc:114] Feedback manager requires a model with a single signature inference. Disabling support for feedback tensors.\n"
     ]
    },
    {
     "name": "stdout",
     "output_type": "stream",
     "text": [
      "\u001b[1m1/1\u001b[0m \u001b[32m━━━━━━━━━━━━━━━━━━━━\u001b[0m\u001b[37m\u001b[0m \u001b[1m0s\u001b[0m 46ms/step\n",
      "[77.711105]\n",
      "[73.6]\n"
     ]
    },
    {
     "name": "stderr",
     "output_type": "stream",
     "text": [
      "W0000 00:00:1747924411.804785   36542 inference_feedback_manager.cc:114] Feedback manager requires a model with a single signature inference. Disabling support for feedback tensors.\n",
      "W0000 00:00:1747924411.824362   36542 inference_feedback_manager.cc:114] Feedback manager requires a model with a single signature inference. Disabling support for feedback tensors.\n",
      "W0000 00:00:1747924411.825734   36545 inference_feedback_manager.cc:114] Feedback manager requires a model with a single signature inference. Disabling support for feedback tensors.\n",
      "W0000 00:00:1747924411.826499   36540 inference_feedback_manager.cc:114] Feedback manager requires a model with a single signature inference. Disabling support for feedback tensors.\n",
      "W0000 00:00:1747924411.827337   36542 inference_feedback_manager.cc:114] Feedback manager requires a model with a single signature inference. Disabling support for feedback tensors.\n",
      "W0000 00:00:1747924411.831584   36550 inference_feedback_manager.cc:114] Feedback manager requires a model with a single signature inference. Disabling support for feedback tensors.\n",
      "W0000 00:00:1747924411.835359   36545 inference_feedback_manager.cc:114] Feedback manager requires a model with a single signature inference. Disabling support for feedback tensors.\n",
      "W0000 00:00:1747924411.841171   36542 inference_feedback_manager.cc:114] Feedback manager requires a model with a single signature inference. Disabling support for feedback tensors.\n"
     ]
    },
    {
     "name": "stdout",
     "output_type": "stream",
     "text": [
      "\u001b[1m1/1\u001b[0m \u001b[32m━━━━━━━━━━━━━━━━━━━━\u001b[0m\u001b[37m\u001b[0m \u001b[1m0s\u001b[0m 77ms/step\n",
      "[84.48447]\n",
      "[37.95]\n"
     ]
    },
    {
     "name": "stderr",
     "output_type": "stream",
     "text": [
      "W0000 00:00:1747924419.758402   36606 inference_feedback_manager.cc:114] Feedback manager requires a model with a single signature inference. Disabling support for feedback tensors.\n",
      "W0000 00:00:1747924419.772053   36613 inference_feedback_manager.cc:114] Feedback manager requires a model with a single signature inference. Disabling support for feedback tensors.\n",
      "W0000 00:00:1747924419.773526   36609 inference_feedback_manager.cc:114] Feedback manager requires a model with a single signature inference. Disabling support for feedback tensors.\n",
      "W0000 00:00:1747924419.773628   36613 inference_feedback_manager.cc:114] Feedback manager requires a model with a single signature inference. Disabling support for feedback tensors.\n",
      "W0000 00:00:1747924419.773668   36615 inference_feedback_manager.cc:114] Feedback manager requires a model with a single signature inference. Disabling support for feedback tensors.\n",
      "W0000 00:00:1747924419.779007   36612 inference_feedback_manager.cc:114] Feedback manager requires a model with a single signature inference. Disabling support for feedback tensors.\n",
      "W0000 00:00:1747924419.784026   36615 inference_feedback_manager.cc:114] Feedback manager requires a model with a single signature inference. Disabling support for feedback tensors.\n",
      "W0000 00:00:1747924419.784162   36609 inference_feedback_manager.cc:114] Feedback manager requires a model with a single signature inference. Disabling support for feedback tensors.\n"
     ]
    },
    {
     "name": "stdout",
     "output_type": "stream",
     "text": [
      "\u001b[1m1/1\u001b[0m \u001b[32m━━━━━━━━━━━━━━━━━━━━\u001b[0m\u001b[37m\u001b[0m \u001b[1m0s\u001b[0m 41ms/step\n",
      "[82.089264]\n",
      "[93.6]\n"
     ]
    },
    {
     "name": "stderr",
     "output_type": "stream",
     "text": [
      "W0000 00:00:1747924426.350862   36665 inference_feedback_manager.cc:114] Feedback manager requires a model with a single signature inference. Disabling support for feedback tensors.\n",
      "W0000 00:00:1747924426.374980   36665 inference_feedback_manager.cc:114] Feedback manager requires a model with a single signature inference. Disabling support for feedback tensors.\n",
      "W0000 00:00:1747924426.376322   36673 inference_feedback_manager.cc:114] Feedback manager requires a model with a single signature inference. Disabling support for feedback tensors.\n",
      "W0000 00:00:1747924426.376539   36672 inference_feedback_manager.cc:114] Feedback manager requires a model with a single signature inference. Disabling support for feedback tensors.\n",
      "W0000 00:00:1747924426.376906   36668 inference_feedback_manager.cc:114] Feedback manager requires a model with a single signature inference. Disabling support for feedback tensors.\n",
      "W0000 00:00:1747924426.383022   36668 inference_feedback_manager.cc:114] Feedback manager requires a model with a single signature inference. Disabling support for feedback tensors.\n",
      "W0000 00:00:1747924426.386323   36673 inference_feedback_manager.cc:114] Feedback manager requires a model with a single signature inference. Disabling support for feedback tensors.\n",
      "W0000 00:00:1747924426.387656   36672 inference_feedback_manager.cc:114] Feedback manager requires a model with a single signature inference. Disabling support for feedback tensors.\n"
     ]
    },
    {
     "name": "stdout",
     "output_type": "stream",
     "text": [
      "\u001b[1m1/1\u001b[0m \u001b[32m━━━━━━━━━━━━━━━━━━━━\u001b[0m\u001b[37m\u001b[0m \u001b[1m0s\u001b[0m 46ms/step\n",
      "[78.93194]\n",
      "[68.8]\n"
     ]
    },
    {
     "name": "stderr",
     "output_type": "stream",
     "text": [
      "W0000 00:00:1747924432.819454   36722 inference_feedback_manager.cc:114] Feedback manager requires a model with a single signature inference. Disabling support for feedback tensors.\n",
      "W0000 00:00:1747924432.834136   36725 inference_feedback_manager.cc:114] Feedback manager requires a model with a single signature inference. Disabling support for feedback tensors.\n",
      "W0000 00:00:1747924432.835806   36724 inference_feedback_manager.cc:114] Feedback manager requires a model with a single signature inference. Disabling support for feedback tensors.\n",
      "W0000 00:00:1747924432.835900   36720 inference_feedback_manager.cc:114] Feedback manager requires a model with a single signature inference. Disabling support for feedback tensors.\n",
      "W0000 00:00:1747924432.836146   36723 inference_feedback_manager.cc:114] Feedback manager requires a model with a single signature inference. Disabling support for feedback tensors.\n",
      "W0000 00:00:1747924432.840525   36723 inference_feedback_manager.cc:114] Feedback manager requires a model with a single signature inference. Disabling support for feedback tensors.\n",
      "W0000 00:00:1747924432.846259   36731 inference_feedback_manager.cc:114] Feedback manager requires a model with a single signature inference. Disabling support for feedback tensors.\n",
      "W0000 00:00:1747924432.846842   36724 inference_feedback_manager.cc:114] Feedback manager requires a model with a single signature inference. Disabling support for feedback tensors.\n"
     ]
    },
    {
     "name": "stdout",
     "output_type": "stream",
     "text": [
      "\u001b[1m1/1\u001b[0m \u001b[32m━━━━━━━━━━━━━━━━━━━━\u001b[0m\u001b[37m\u001b[0m \u001b[1m0s\u001b[0m 56ms/step\n",
      "[81.76851]\n",
      "[76.5]\n"
     ]
    },
    {
     "name": "stderr",
     "output_type": "stream",
     "text": [
      "W0000 00:00:1747924439.708387   36786 inference_feedback_manager.cc:114] Feedback manager requires a model with a single signature inference. Disabling support for feedback tensors.\n",
      "W0000 00:00:1747924439.732283   36794 inference_feedback_manager.cc:114] Feedback manager requires a model with a single signature inference. Disabling support for feedback tensors.\n",
      "W0000 00:00:1747924439.734017   36790 inference_feedback_manager.cc:114] Feedback manager requires a model with a single signature inference. Disabling support for feedback tensors.\n",
      "W0000 00:00:1747924439.734333   36785 inference_feedback_manager.cc:114] Feedback manager requires a model with a single signature inference. Disabling support for feedback tensors.\n",
      "W0000 00:00:1747924439.734540   36786 inference_feedback_manager.cc:114] Feedback manager requires a model with a single signature inference. Disabling support for feedback tensors.\n",
      "W0000 00:00:1747924439.740503   36785 inference_feedback_manager.cc:114] Feedback manager requires a model with a single signature inference. Disabling support for feedback tensors.\n",
      "W0000 00:00:1747924439.743614   36790 inference_feedback_manager.cc:114] Feedback manager requires a model with a single signature inference. Disabling support for feedback tensors.\n",
      "W0000 00:00:1747924439.746741   36786 inference_feedback_manager.cc:114] Feedback manager requires a model with a single signature inference. Disabling support for feedback tensors.\n"
     ]
    },
    {
     "name": "stdout",
     "output_type": "stream",
     "text": [
      "\u001b[1m1/1\u001b[0m \u001b[32m━━━━━━━━━━━━━━━━━━━━\u001b[0m\u001b[37m\u001b[0m \u001b[1m0s\u001b[0m 71ms/step\n",
      "[81.585556]\n",
      "[81.6]\n"
     ]
    },
    {
     "name": "stderr",
     "output_type": "stream",
     "text": [
      "W0000 00:00:1747924445.754051   36842 inference_feedback_manager.cc:114] Feedback manager requires a model with a single signature inference. Disabling support for feedback tensors.\n",
      "W0000 00:00:1747924445.770139   36845 inference_feedback_manager.cc:114] Feedback manager requires a model with a single signature inference. Disabling support for feedback tensors.\n",
      "W0000 00:00:1747924445.771594   36844 inference_feedback_manager.cc:114] Feedback manager requires a model with a single signature inference. Disabling support for feedback tensors.\n",
      "W0000 00:00:1747924445.771614   36850 inference_feedback_manager.cc:114] Feedback manager requires a model with a single signature inference. Disabling support for feedback tensors.\n",
      "W0000 00:00:1747924445.771799   36851 inference_feedback_manager.cc:114] Feedback manager requires a model with a single signature inference. Disabling support for feedback tensors.\n",
      "W0000 00:00:1747924445.775355   36851 inference_feedback_manager.cc:114] Feedback manager requires a model with a single signature inference. Disabling support for feedback tensors.\n",
      "W0000 00:00:1747924445.781301   36850 inference_feedback_manager.cc:114] Feedback manager requires a model with a single signature inference. Disabling support for feedback tensors.\n",
      "W0000 00:00:1747924445.783888   36844 inference_feedback_manager.cc:114] Feedback manager requires a model with a single signature inference. Disabling support for feedback tensors.\n"
     ]
    },
    {
     "name": "stdout",
     "output_type": "stream",
     "text": [
      "\u001b[1m1/1\u001b[0m \u001b[32m━━━━━━━━━━━━━━━━━━━━\u001b[0m\u001b[37m\u001b[0m \u001b[1m0s\u001b[0m 54ms/step\n",
      "[84.56193]\n",
      "[92.8]\n"
     ]
    },
    {
     "name": "stderr",
     "output_type": "stream",
     "text": [
      "W0000 00:00:1747924452.997507   36902 inference_feedback_manager.cc:114] Feedback manager requires a model with a single signature inference. Disabling support for feedback tensors.\n",
      "W0000 00:00:1747924453.015885   36902 inference_feedback_manager.cc:114] Feedback manager requires a model with a single signature inference. Disabling support for feedback tensors.\n",
      "W0000 00:00:1747924453.017347   36900 inference_feedback_manager.cc:114] Feedback manager requires a model with a single signature inference. Disabling support for feedback tensors.\n",
      "W0000 00:00:1747924453.017445   36907 inference_feedback_manager.cc:114] Feedback manager requires a model with a single signature inference. Disabling support for feedback tensors.\n",
      "W0000 00:00:1747924453.017605   36903 inference_feedback_manager.cc:114] Feedback manager requires a model with a single signature inference. Disabling support for feedback tensors.\n",
      "W0000 00:00:1747924453.022729   36905 inference_feedback_manager.cc:114] Feedback manager requires a model with a single signature inference. Disabling support for feedback tensors.\n",
      "W0000 00:00:1747924453.027500   36907 inference_feedback_manager.cc:114] Feedback manager requires a model with a single signature inference. Disabling support for feedback tensors.\n",
      "W0000 00:00:1747924453.030355   36900 inference_feedback_manager.cc:114] Feedback manager requires a model with a single signature inference. Disabling support for feedback tensors.\n"
     ]
    },
    {
     "name": "stdout",
     "output_type": "stream",
     "text": [
      "\u001b[1m1/1\u001b[0m \u001b[32m━━━━━━━━━━━━━━━━━━━━\u001b[0m\u001b[37m\u001b[0m \u001b[1m0s\u001b[0m 55ms/step\n",
      "[84.55702]\n",
      "[93.6]\n"
     ]
    },
    {
     "name": "stderr",
     "output_type": "stream",
     "text": [
      "W0000 00:00:1747924459.723428   36960 inference_feedback_manager.cc:114] Feedback manager requires a model with a single signature inference. Disabling support for feedback tensors.\n",
      "W0000 00:00:1747924459.739304   36966 inference_feedback_manager.cc:114] Feedback manager requires a model with a single signature inference. Disabling support for feedback tensors.\n",
      "W0000 00:00:1747924459.740751   36964 inference_feedback_manager.cc:114] Feedback manager requires a model with a single signature inference. Disabling support for feedback tensors.\n",
      "W0000 00:00:1747924459.740796   36959 inference_feedback_manager.cc:114] Feedback manager requires a model with a single signature inference. Disabling support for feedback tensors.\n",
      "W0000 00:00:1747924459.741457   36962 inference_feedback_manager.cc:114] Feedback manager requires a model with a single signature inference. Disabling support for feedback tensors.\n",
      "W0000 00:00:1747924459.746273   36962 inference_feedback_manager.cc:114] Feedback manager requires a model with a single signature inference. Disabling support for feedback tensors.\n",
      "W0000 00:00:1747924459.750348   36964 inference_feedback_manager.cc:114] Feedback manager requires a model with a single signature inference. Disabling support for feedback tensors.\n",
      "W0000 00:00:1747924459.752038   36959 inference_feedback_manager.cc:114] Feedback manager requires a model with a single signature inference. Disabling support for feedback tensors.\n"
     ]
    },
    {
     "name": "stdout",
     "output_type": "stream",
     "text": [
      "\u001b[1m1/1\u001b[0m \u001b[32m━━━━━━━━━━━━━━━━━━━━\u001b[0m\u001b[37m\u001b[0m \u001b[1m0s\u001b[0m 55ms/step\n",
      "[82.10847]\n",
      "[79.8]\n"
     ]
    },
    {
     "name": "stderr",
     "output_type": "stream",
     "text": [
      "W0000 00:00:1747924467.112239   37024 inference_feedback_manager.cc:114] Feedback manager requires a model with a single signature inference. Disabling support for feedback tensors.\n",
      "W0000 00:00:1747924467.126907   37024 inference_feedback_manager.cc:114] Feedback manager requires a model with a single signature inference. Disabling support for feedback tensors.\n",
      "W0000 00:00:1747924467.128334   37023 inference_feedback_manager.cc:114] Feedback manager requires a model with a single signature inference. Disabling support for feedback tensors.\n",
      "W0000 00:00:1747924467.128857   37027 inference_feedback_manager.cc:114] Feedback manager requires a model with a single signature inference. Disabling support for feedback tensors.\n",
      "W0000 00:00:1747924467.128939   37030 inference_feedback_manager.cc:114] Feedback manager requires a model with a single signature inference. Disabling support for feedback tensors.\n",
      "W0000 00:00:1747924467.133712   37030 inference_feedback_manager.cc:114] Feedback manager requires a model with a single signature inference. Disabling support for feedback tensors.\n",
      "W0000 00:00:1747924467.139734   37023 inference_feedback_manager.cc:114] Feedback manager requires a model with a single signature inference. Disabling support for feedback tensors.\n",
      "W0000 00:00:1747924467.143605   37027 inference_feedback_manager.cc:114] Feedback manager requires a model with a single signature inference. Disabling support for feedback tensors.\n"
     ]
    },
    {
     "name": "stdout",
     "output_type": "stream",
     "text": [
      "\u001b[1m1/1\u001b[0m \u001b[32m━━━━━━━━━━━━━━━━━━━━\u001b[0m\u001b[37m\u001b[0m \u001b[1m0s\u001b[0m 48ms/step\n",
      "[78.33371]\n",
      "[86.4]\n"
     ]
    },
    {
     "name": "stderr",
     "output_type": "stream",
     "text": [
      "W0000 00:00:1747924473.536554   37082 inference_feedback_manager.cc:114] Feedback manager requires a model with a single signature inference. Disabling support for feedback tensors.\n",
      "W0000 00:00:1747924473.563087   37082 inference_feedback_manager.cc:114] Feedback manager requires a model with a single signature inference. Disabling support for feedback tensors.\n",
      "W0000 00:00:1747924473.564380   37089 inference_feedback_manager.cc:114] Feedback manager requires a model with a single signature inference. Disabling support for feedback tensors.\n",
      "W0000 00:00:1747924473.564679   37090 inference_feedback_manager.cc:114] Feedback manager requires a model with a single signature inference. Disabling support for feedback tensors.\n",
      "W0000 00:00:1747924473.565299   37082 inference_feedback_manager.cc:114] Feedback manager requires a model with a single signature inference. Disabling support for feedback tensors.\n",
      "W0000 00:00:1747924473.570719   37090 inference_feedback_manager.cc:114] Feedback manager requires a model with a single signature inference. Disabling support for feedback tensors.\n",
      "W0000 00:00:1747924473.573827   37089 inference_feedback_manager.cc:114] Feedback manager requires a model with a single signature inference. Disabling support for feedback tensors.\n",
      "W0000 00:00:1747924473.575830   37080 inference_feedback_manager.cc:114] Feedback manager requires a model with a single signature inference. Disabling support for feedback tensors.\n"
     ]
    },
    {
     "name": "stdout",
     "output_type": "stream",
     "text": [
      "\u001b[1m1/1\u001b[0m \u001b[32m━━━━━━━━━━━━━━━━━━━━\u001b[0m\u001b[37m\u001b[0m \u001b[1m0s\u001b[0m 43ms/step\n",
      "[84.52791]\n",
      "[91.8]\n"
     ]
    },
    {
     "name": "stderr",
     "output_type": "stream",
     "text": [
      "W0000 00:00:1747924479.807836   37140 inference_feedback_manager.cc:114] Feedback manager requires a model with a single signature inference. Disabling support for feedback tensors.\n",
      "W0000 00:00:1747924479.825743   37140 inference_feedback_manager.cc:114] Feedback manager requires a model with a single signature inference. Disabling support for feedback tensors.\n",
      "W0000 00:00:1747924479.827834   37139 inference_feedback_manager.cc:114] Feedback manager requires a model with a single signature inference. Disabling support for feedback tensors.\n",
      "W0000 00:00:1747924479.828687   37147 inference_feedback_manager.cc:114] Feedback manager requires a model with a single signature inference. Disabling support for feedback tensors.\n",
      "W0000 00:00:1747924479.828886   37143 inference_feedback_manager.cc:114] Feedback manager requires a model with a single signature inference. Disabling support for feedback tensors.\n",
      "W0000 00:00:1747924479.835802   37138 inference_feedback_manager.cc:114] Feedback manager requires a model with a single signature inference. Disabling support for feedback tensors.\n",
      "W0000 00:00:1747924479.842526   37139 inference_feedback_manager.cc:114] Feedback manager requires a model with a single signature inference. Disabling support for feedback tensors.\n",
      "W0000 00:00:1747924479.846114   37146 inference_feedback_manager.cc:114] Feedback manager requires a model with a single signature inference. Disabling support for feedback tensors.\n"
     ]
    },
    {
     "name": "stdout",
     "output_type": "stream",
     "text": [
      "\u001b[1m1/1\u001b[0m \u001b[32m━━━━━━━━━━━━━━━━━━━━\u001b[0m\u001b[37m\u001b[0m \u001b[1m0s\u001b[0m 79ms/step\n",
      "[77.92146]\n",
      "[37.4]\n"
     ]
    },
    {
     "name": "stderr",
     "output_type": "stream",
     "text": [
      "W0000 00:00:1747924487.119634   37198 inference_feedback_manager.cc:114] Feedback manager requires a model with a single signature inference. Disabling support for feedback tensors.\n",
      "W0000 00:00:1747924487.141830   37203 inference_feedback_manager.cc:114] Feedback manager requires a model with a single signature inference. Disabling support for feedback tensors.\n",
      "W0000 00:00:1747924487.143787   37204 inference_feedback_manager.cc:114] Feedback manager requires a model with a single signature inference. Disabling support for feedback tensors.\n",
      "W0000 00:00:1747924487.144369   37203 inference_feedback_manager.cc:114] Feedback manager requires a model with a single signature inference. Disabling support for feedback tensors.\n",
      "W0000 00:00:1747924487.144908   37205 inference_feedback_manager.cc:114] Feedback manager requires a model with a single signature inference. Disabling support for feedback tensors.\n",
      "W0000 00:00:1747924487.155604   37199 inference_feedback_manager.cc:114] Feedback manager requires a model with a single signature inference. Disabling support for feedback tensors.\n",
      "W0000 00:00:1747924487.158128   37198 inference_feedback_manager.cc:114] Feedback manager requires a model with a single signature inference. Disabling support for feedback tensors.\n",
      "W0000 00:00:1747924487.162921   37206 inference_feedback_manager.cc:114] Feedback manager requires a model with a single signature inference. Disabling support for feedback tensors.\n"
     ]
    },
    {
     "name": "stdout",
     "output_type": "stream",
     "text": [
      "\u001b[1m1/1\u001b[0m \u001b[32m━━━━━━━━━━━━━━━━━━━━\u001b[0m\u001b[37m\u001b[0m \u001b[1m0s\u001b[0m 51ms/step\n",
      "[80.524216]\n",
      "[41.25]\n"
     ]
    },
    {
     "name": "stderr",
     "output_type": "stream",
     "text": [
      "W0000 00:00:1747924493.503331   37256 inference_feedback_manager.cc:114] Feedback manager requires a model with a single signature inference. Disabling support for feedback tensors.\n",
      "W0000 00:00:1747924493.529389   37254 inference_feedback_manager.cc:114] Feedback manager requires a model with a single signature inference. Disabling support for feedback tensors.\n",
      "W0000 00:00:1747924493.531146   37254 inference_feedback_manager.cc:114] Feedback manager requires a model with a single signature inference. Disabling support for feedback tensors.\n",
      "W0000 00:00:1747924493.531301   37258 inference_feedback_manager.cc:114] Feedback manager requires a model with a single signature inference. Disabling support for feedback tensors.\n",
      "W0000 00:00:1747924493.532172   37257 inference_feedback_manager.cc:114] Feedback manager requires a model with a single signature inference. Disabling support for feedback tensors.\n",
      "W0000 00:00:1747924493.541309   37257 inference_feedback_manager.cc:114] Feedback manager requires a model with a single signature inference. Disabling support for feedback tensors.\n",
      "W0000 00:00:1747924493.543035   37264 inference_feedback_manager.cc:114] Feedback manager requires a model with a single signature inference. Disabling support for feedback tensors.\n",
      "W0000 00:00:1747924493.543889   37254 inference_feedback_manager.cc:114] Feedback manager requires a model with a single signature inference. Disabling support for feedback tensors.\n"
     ]
    },
    {
     "name": "stdout",
     "output_type": "stream",
     "text": [
      "\u001b[1m1/1\u001b[0m \u001b[32m━━━━━━━━━━━━━━━━━━━━\u001b[0m\u001b[37m\u001b[0m \u001b[1m0s\u001b[0m 54ms/step\n",
      "[84.51341]\n",
      "[72.]\n"
     ]
    },
    {
     "name": "stderr",
     "output_type": "stream",
     "text": [
      "W0000 00:00:1747924500.800196   37320 inference_feedback_manager.cc:114] Feedback manager requires a model with a single signature inference. Disabling support for feedback tensors.\n",
      "W0000 00:00:1747924500.817240   37326 inference_feedback_manager.cc:114] Feedback manager requires a model with a single signature inference. Disabling support for feedback tensors.\n",
      "W0000 00:00:1747924500.818554   37318 inference_feedback_manager.cc:114] Feedback manager requires a model with a single signature inference. Disabling support for feedback tensors.\n",
      "W0000 00:00:1747924500.818841   37324 inference_feedback_manager.cc:114] Feedback manager requires a model with a single signature inference. Disabling support for feedback tensors.\n",
      "W0000 00:00:1747924500.818967   37322 inference_feedback_manager.cc:114] Feedback manager requires a model with a single signature inference. Disabling support for feedback tensors.\n",
      "W0000 00:00:1747924500.824253   37321 inference_feedback_manager.cc:114] Feedback manager requires a model with a single signature inference. Disabling support for feedback tensors.\n",
      "W0000 00:00:1747924500.830591   37324 inference_feedback_manager.cc:114] Feedback manager requires a model with a single signature inference. Disabling support for feedback tensors.\n",
      "W0000 00:00:1747924500.831871   37318 inference_feedback_manager.cc:114] Feedback manager requires a model with a single signature inference. Disabling support for feedback tensors.\n"
     ]
    },
    {
     "name": "stdout",
     "output_type": "stream",
     "text": [
      "\u001b[1m1/1\u001b[0m \u001b[32m━━━━━━━━━━━━━━━━━━━━\u001b[0m\u001b[37m\u001b[0m \u001b[1m0s\u001b[0m 51ms/step\n",
      "[84.55394]\n",
      "[83.2]\n"
     ]
    },
    {
     "name": "stderr",
     "output_type": "stream",
     "text": [
      "W0000 00:00:1747924507.172049   37378 inference_feedback_manager.cc:114] Feedback manager requires a model with a single signature inference. Disabling support for feedback tensors.\n",
      "W0000 00:00:1747924507.190364   37385 inference_feedback_manager.cc:114] Feedback manager requires a model with a single signature inference. Disabling support for feedback tensors.\n",
      "W0000 00:00:1747924507.192044   37380 inference_feedback_manager.cc:114] Feedback manager requires a model with a single signature inference. Disabling support for feedback tensors.\n",
      "W0000 00:00:1747924507.192283   37387 inference_feedback_manager.cc:114] Feedback manager requires a model with a single signature inference. Disabling support for feedback tensors.\n",
      "W0000 00:00:1747924507.192728   37385 inference_feedback_manager.cc:114] Feedback manager requires a model with a single signature inference. Disabling support for feedback tensors.\n",
      "W0000 00:00:1747924507.197386   37387 inference_feedback_manager.cc:114] Feedback manager requires a model with a single signature inference. Disabling support for feedback tensors.\n",
      "W0000 00:00:1747924507.205458   37380 inference_feedback_manager.cc:114] Feedback manager requires a model with a single signature inference. Disabling support for feedback tensors.\n",
      "W0000 00:00:1747924507.207389   37385 inference_feedback_manager.cc:114] Feedback manager requires a model with a single signature inference. Disabling support for feedback tensors.\n"
     ]
    },
    {
     "name": "stdout",
     "output_type": "stream",
     "text": [
      "\u001b[1m1/1\u001b[0m \u001b[32m━━━━━━━━━━━━━━━━━━━━\u001b[0m\u001b[37m\u001b[0m \u001b[1m0s\u001b[0m 54ms/step\n",
      "[77.74695]\n",
      "[66.]\n"
     ]
    },
    {
     "name": "stderr",
     "output_type": "stream",
     "text": [
      "W0000 00:00:1747924513.643799   37436 inference_feedback_manager.cc:114] Feedback manager requires a model with a single signature inference. Disabling support for feedback tensors.\n",
      "W0000 00:00:1747924513.662607   37436 inference_feedback_manager.cc:114] Feedback manager requires a model with a single signature inference. Disabling support for feedback tensors.\n",
      "W0000 00:00:1747924513.664318   37438 inference_feedback_manager.cc:114] Feedback manager requires a model with a single signature inference. Disabling support for feedback tensors.\n",
      "W0000 00:00:1747924513.664339   37442 inference_feedback_manager.cc:114] Feedback manager requires a model with a single signature inference. Disabling support for feedback tensors.\n",
      "W0000 00:00:1747924513.664714   37436 inference_feedback_manager.cc:114] Feedback manager requires a model with a single signature inference. Disabling support for feedback tensors.\n",
      "W0000 00:00:1747924513.668272   37441 inference_feedback_manager.cc:114] Feedback manager requires a model with a single signature inference. Disabling support for feedback tensors.\n",
      "W0000 00:00:1747924513.673652   37438 inference_feedback_manager.cc:114] Feedback manager requires a model with a single signature inference. Disabling support for feedback tensors.\n",
      "W0000 00:00:1747924513.678768   37436 inference_feedback_manager.cc:114] Feedback manager requires a model with a single signature inference. Disabling support for feedback tensors.\n"
     ]
    },
    {
     "name": "stdout",
     "output_type": "stream",
     "text": [
      "\u001b[1m1/1\u001b[0m \u001b[32m━━━━━━━━━━━━━━━━━━━━\u001b[0m\u001b[37m\u001b[0m \u001b[1m0s\u001b[0m 49ms/step\n",
      "[77.73674]\n",
      "[77.4]\n"
     ]
    },
    {
     "name": "stderr",
     "output_type": "stream",
     "text": [
      "W0000 00:00:1747924520.750744   37494 inference_feedback_manager.cc:114] Feedback manager requires a model with a single signature inference. Disabling support for feedback tensors.\n",
      "W0000 00:00:1747924520.765184   37494 inference_feedback_manager.cc:114] Feedback manager requires a model with a single signature inference. Disabling support for feedback tensors.\n",
      "W0000 00:00:1747924520.766537   37494 inference_feedback_manager.cc:114] Feedback manager requires a model with a single signature inference. Disabling support for feedback tensors.\n",
      "W0000 00:00:1747924520.766876   37497 inference_feedback_manager.cc:114] Feedback manager requires a model with a single signature inference. Disabling support for feedback tensors.\n",
      "W0000 00:00:1747924520.767204   37502 inference_feedback_manager.cc:114] Feedback manager requires a model with a single signature inference. Disabling support for feedback tensors.\n",
      "W0000 00:00:1747924520.772832   37502 inference_feedback_manager.cc:114] Feedback manager requires a model with a single signature inference. Disabling support for feedback tensors.\n",
      "W0000 00:00:1747924520.777731   37497 inference_feedback_manager.cc:114] Feedback manager requires a model with a single signature inference. Disabling support for feedback tensors.\n",
      "W0000 00:00:1747924520.778970   37494 inference_feedback_manager.cc:114] Feedback manager requires a model with a single signature inference. Disabling support for feedback tensors.\n"
     ]
    },
    {
     "name": "stdout",
     "output_type": "stream",
     "text": [
      "\u001b[1m1/1\u001b[0m \u001b[32m━━━━━━━━━━━━━━━━━━━━\u001b[0m\u001b[37m\u001b[0m \u001b[1m0s\u001b[0m 44ms/step\n",
      "[84.55231]\n",
      "[88.8]\n"
     ]
    },
    {
     "name": "stderr",
     "output_type": "stream",
     "text": [
      "W0000 00:00:1747924527.809466   37552 inference_feedback_manager.cc:114] Feedback manager requires a model with a single signature inference. Disabling support for feedback tensors.\n",
      "W0000 00:00:1747924527.833465   37550 inference_feedback_manager.cc:114] Feedback manager requires a model with a single signature inference. Disabling support for feedback tensors.\n",
      "W0000 00:00:1747924527.835171   37551 inference_feedback_manager.cc:114] Feedback manager requires a model with a single signature inference. Disabling support for feedback tensors.\n",
      "W0000 00:00:1747924527.835171   37554 inference_feedback_manager.cc:114] Feedback manager requires a model with a single signature inference. Disabling support for feedback tensors.\n",
      "W0000 00:00:1747924527.836164   37550 inference_feedback_manager.cc:114] Feedback manager requires a model with a single signature inference. Disabling support for feedback tensors.\n",
      "W0000 00:00:1747924527.843530   37550 inference_feedback_manager.cc:114] Feedback manager requires a model with a single signature inference. Disabling support for feedback tensors.\n",
      "W0000 00:00:1747924527.844721   37551 inference_feedback_manager.cc:114] Feedback manager requires a model with a single signature inference. Disabling support for feedback tensors.\n",
      "W0000 00:00:1747924527.844967   37555 inference_feedback_manager.cc:114] Feedback manager requires a model with a single signature inference. Disabling support for feedback tensors.\n"
     ]
    },
    {
     "name": "stdout",
     "output_type": "stream",
     "text": [
      "\u001b[1m1/1\u001b[0m \u001b[32m━━━━━━━━━━━━━━━━━━━━\u001b[0m\u001b[37m\u001b[0m \u001b[1m0s\u001b[0m 74ms/step\n",
      "[84.54518]\n",
      "[94.05]\n"
     ]
    },
    {
     "name": "stderr",
     "output_type": "stream",
     "text": [
      "W0000 00:00:1747924533.742947   37611 inference_feedback_manager.cc:114] Feedback manager requires a model with a single signature inference. Disabling support for feedback tensors.\n",
      "W0000 00:00:1747924533.768161   37612 inference_feedback_manager.cc:114] Feedback manager requires a model with a single signature inference. Disabling support for feedback tensors.\n",
      "W0000 00:00:1747924533.769891   37609 inference_feedback_manager.cc:114] Feedback manager requires a model with a single signature inference. Disabling support for feedback tensors.\n",
      "W0000 00:00:1747924533.769978   37612 inference_feedback_manager.cc:114] Feedback manager requires a model with a single signature inference. Disabling support for feedback tensors.\n",
      "W0000 00:00:1747924533.770523   37618 inference_feedback_manager.cc:114] Feedback manager requires a model with a single signature inference. Disabling support for feedback tensors.\n",
      "W0000 00:00:1747924533.777988   37610 inference_feedback_manager.cc:114] Feedback manager requires a model with a single signature inference. Disabling support for feedback tensors.\n",
      "W0000 00:00:1747924533.782496   37609 inference_feedback_manager.cc:114] Feedback manager requires a model with a single signature inference. Disabling support for feedback tensors.\n",
      "W0000 00:00:1747924533.783636   37612 inference_feedback_manager.cc:114] Feedback manager requires a model with a single signature inference. Disabling support for feedback tensors.\n"
     ]
    },
    {
     "name": "stdout",
     "output_type": "stream",
     "text": [
      "\u001b[1m1/1\u001b[0m \u001b[32m━━━━━━━━━━━━━━━━━━━━\u001b[0m\u001b[37m\u001b[0m \u001b[1m0s\u001b[0m 89ms/step\n",
      "[77.65852]\n",
      "[77.7]\n"
     ]
    },
    {
     "name": "stderr",
     "output_type": "stream",
     "text": [
      "W0000 00:00:1747924540.534563   37674 inference_feedback_manager.cc:114] Feedback manager requires a model with a single signature inference. Disabling support for feedback tensors.\n",
      "W0000 00:00:1747924540.552301   37681 inference_feedback_manager.cc:114] Feedback manager requires a model with a single signature inference. Disabling support for feedback tensors.\n",
      "W0000 00:00:1747924540.553769   37679 inference_feedback_manager.cc:114] Feedback manager requires a model with a single signature inference. Disabling support for feedback tensors.\n",
      "W0000 00:00:1747924540.554097   37683 inference_feedback_manager.cc:114] Feedback manager requires a model with a single signature inference. Disabling support for feedback tensors.\n",
      "W0000 00:00:1747924540.554257   37680 inference_feedback_manager.cc:114] Feedback manager requires a model with a single signature inference. Disabling support for feedback tensors.\n",
      "W0000 00:00:1747924540.559599   37680 inference_feedback_manager.cc:114] Feedback manager requires a model with a single signature inference. Disabling support for feedback tensors.\n",
      "W0000 00:00:1747924540.564141   37679 inference_feedback_manager.cc:114] Feedback manager requires a model with a single signature inference. Disabling support for feedback tensors.\n",
      "W0000 00:00:1747924540.565677   37677 inference_feedback_manager.cc:114] Feedback manager requires a model with a single signature inference. Disabling support for feedback tensors.\n"
     ]
    },
    {
     "name": "stdout",
     "output_type": "stream",
     "text": [
      "\u001b[1m1/1\u001b[0m \u001b[32m━━━━━━━━━━━━━━━━━━━━\u001b[0m\u001b[37m\u001b[0m \u001b[1m0s\u001b[0m 47ms/step\n",
      "[79.8023]\n",
      "[90.75]\n"
     ]
    },
    {
     "name": "stderr",
     "output_type": "stream",
     "text": [
      "W0000 00:00:1747924546.842507   37732 inference_feedback_manager.cc:114] Feedback manager requires a model with a single signature inference. Disabling support for feedback tensors.\n",
      "W0000 00:00:1747924546.856630   37734 inference_feedback_manager.cc:114] Feedback manager requires a model with a single signature inference. Disabling support for feedback tensors.\n",
      "W0000 00:00:1747924546.858347   37735 inference_feedback_manager.cc:114] Feedback manager requires a model with a single signature inference. Disabling support for feedback tensors.\n",
      "W0000 00:00:1747924546.858341   37733 inference_feedback_manager.cc:114] Feedback manager requires a model with a single signature inference. Disabling support for feedback tensors.\n",
      "W0000 00:00:1747924546.858517   37739 inference_feedback_manager.cc:114] Feedback manager requires a model with a single signature inference. Disabling support for feedback tensors.\n",
      "W0000 00:00:1747924546.862449   37735 inference_feedback_manager.cc:114] Feedback manager requires a model with a single signature inference. Disabling support for feedback tensors.\n",
      "W0000 00:00:1747924546.870845   37739 inference_feedback_manager.cc:114] Feedback manager requires a model with a single signature inference. Disabling support for feedback tensors.\n",
      "W0000 00:00:1747924546.871166   37733 inference_feedback_manager.cc:114] Feedback manager requires a model with a single signature inference. Disabling support for feedback tensors.\n"
     ]
    },
    {
     "name": "stdout",
     "output_type": "stream",
     "text": [
      "\u001b[1m1/1\u001b[0m \u001b[32m━━━━━━━━━━━━━━━━━━━━\u001b[0m\u001b[37m\u001b[0m \u001b[1m0s\u001b[0m 75ms/step\n",
      "[77.78375]\n",
      "[51.15]\n"
     ]
    },
    {
     "name": "stderr",
     "output_type": "stream",
     "text": [
      "W0000 00:00:1747924554.580131   37790 inference_feedback_manager.cc:114] Feedback manager requires a model with a single signature inference. Disabling support for feedback tensors.\n",
      "W0000 00:00:1747924554.599870   37790 inference_feedback_manager.cc:114] Feedback manager requires a model with a single signature inference. Disabling support for feedback tensors.\n",
      "W0000 00:00:1747924554.601461   37798 inference_feedback_manager.cc:114] Feedback manager requires a model with a single signature inference. Disabling support for feedback tensors.\n",
      "W0000 00:00:1747924554.601879   37793 inference_feedback_manager.cc:114] Feedback manager requires a model with a single signature inference. Disabling support for feedback tensors.\n",
      "W0000 00:00:1747924554.601920   37788 inference_feedback_manager.cc:114] Feedback manager requires a model with a single signature inference. Disabling support for feedback tensors.\n",
      "W0000 00:00:1747924554.609320   37793 inference_feedback_manager.cc:114] Feedback manager requires a model with a single signature inference. Disabling support for feedback tensors.\n",
      "W0000 00:00:1747924554.614577   37788 inference_feedback_manager.cc:114] Feedback manager requires a model with a single signature inference. Disabling support for feedback tensors.\n",
      "W0000 00:00:1747924554.615141   37798 inference_feedback_manager.cc:114] Feedback manager requires a model with a single signature inference. Disabling support for feedback tensors.\n"
     ]
    },
    {
     "name": "stdout",
     "output_type": "stream",
     "text": [
      "\u001b[1m1/1\u001b[0m \u001b[32m━━━━━━━━━━━━━━━━━━━━\u001b[0m\u001b[37m\u001b[0m \u001b[1m0s\u001b[0m 62ms/step\n",
      "[77.786606]\n",
      "[72.]\n"
     ]
    },
    {
     "name": "stderr",
     "output_type": "stream",
     "text": [
      "W0000 00:00:1747924560.934539   37848 inference_feedback_manager.cc:114] Feedback manager requires a model with a single signature inference. Disabling support for feedback tensors.\n",
      "W0000 00:00:1747924560.957053   37848 inference_feedback_manager.cc:114] Feedback manager requires a model with a single signature inference. Disabling support for feedback tensors.\n",
      "W0000 00:00:1747924560.958324   37852 inference_feedback_manager.cc:114] Feedback manager requires a model with a single signature inference. Disabling support for feedback tensors.\n",
      "W0000 00:00:1747924560.958440   37850 inference_feedback_manager.cc:114] Feedback manager requires a model with a single signature inference. Disabling support for feedback tensors.\n",
      "W0000 00:00:1747924560.959791   37848 inference_feedback_manager.cc:114] Feedback manager requires a model with a single signature inference. Disabling support for feedback tensors.\n",
      "W0000 00:00:1747924560.965536   37848 inference_feedback_manager.cc:114] Feedback manager requires a model with a single signature inference. Disabling support for feedback tensors.\n",
      "W0000 00:00:1747924560.967524   37852 inference_feedback_manager.cc:114] Feedback manager requires a model with a single signature inference. Disabling support for feedback tensors.\n",
      "W0000 00:00:1747924560.968835   37856 inference_feedback_manager.cc:114] Feedback manager requires a model with a single signature inference. Disabling support for feedback tensors.\n"
     ]
    },
    {
     "name": "stdout",
     "output_type": "stream",
     "text": [
      "\u001b[1m1/1\u001b[0m \u001b[32m━━━━━━━━━━━━━━━━━━━━\u001b[0m\u001b[37m\u001b[0m \u001b[1m0s\u001b[0m 52ms/step\n",
      "[84.342545]\n",
      "[79.2]\n"
     ]
    },
    {
     "name": "stderr",
     "output_type": "stream",
     "text": [
      "W0000 00:00:1747924566.745554   37906 inference_feedback_manager.cc:114] Feedback manager requires a model with a single signature inference. Disabling support for feedback tensors.\n",
      "W0000 00:00:1747924566.767886   37906 inference_feedback_manager.cc:114] Feedback manager requires a model with a single signature inference. Disabling support for feedback tensors.\n",
      "W0000 00:00:1747924566.769669   37908 inference_feedback_manager.cc:114] Feedback manager requires a model with a single signature inference. Disabling support for feedback tensors.\n",
      "W0000 00:00:1747924566.769699   37910 inference_feedback_manager.cc:114] Feedback manager requires a model with a single signature inference. Disabling support for feedback tensors.\n",
      "W0000 00:00:1747924566.769790   37915 inference_feedback_manager.cc:114] Feedback manager requires a model with a single signature inference. Disabling support for feedback tensors.\n",
      "W0000 00:00:1747924566.773590   37904 inference_feedback_manager.cc:114] Feedback manager requires a model with a single signature inference. Disabling support for feedback tensors.\n",
      "W0000 00:00:1747924566.779594   37910 inference_feedback_manager.cc:114] Feedback manager requires a model with a single signature inference. Disabling support for feedback tensors.\n",
      "W0000 00:00:1747924566.783715   37906 inference_feedback_manager.cc:114] Feedback manager requires a model with a single signature inference. Disabling support for feedback tensors.\n"
     ]
    },
    {
     "name": "stdout",
     "output_type": "stream",
     "text": [
      "\u001b[1m1/1\u001b[0m \u001b[32m━━━━━━━━━━━━━━━━━━━━\u001b[0m\u001b[37m\u001b[0m \u001b[1m0s\u001b[0m 65ms/step\n",
      "[84.55453]\n",
      "[86.4]\n"
     ]
    },
    {
     "name": "stderr",
     "output_type": "stream",
     "text": [
      "W0000 00:00:1747924572.943002   37964 inference_feedback_manager.cc:114] Feedback manager requires a model with a single signature inference. Disabling support for feedback tensors.\n",
      "W0000 00:00:1747924572.963759   37964 inference_feedback_manager.cc:114] Feedback manager requires a model with a single signature inference. Disabling support for feedback tensors.\n",
      "W0000 00:00:1747924572.965275   37973 inference_feedback_manager.cc:114] Feedback manager requires a model with a single signature inference. Disabling support for feedback tensors.\n",
      "W0000 00:00:1747924572.965821   37968 inference_feedback_manager.cc:114] Feedback manager requires a model with a single signature inference. Disabling support for feedback tensors.\n",
      "W0000 00:00:1747924572.966613   37971 inference_feedback_manager.cc:114] Feedback manager requires a model with a single signature inference. Disabling support for feedback tensors.\n",
      "W0000 00:00:1747924572.971491   37968 inference_feedback_manager.cc:114] Feedback manager requires a model with a single signature inference. Disabling support for feedback tensors.\n",
      "W0000 00:00:1747924572.975020   37973 inference_feedback_manager.cc:114] Feedback manager requires a model with a single signature inference. Disabling support for feedback tensors.\n",
      "W0000 00:00:1747924572.981684   37971 inference_feedback_manager.cc:114] Feedback manager requires a model with a single signature inference. Disabling support for feedback tensors.\n"
     ]
    },
    {
     "name": "stdout",
     "output_type": "stream",
     "text": [
      "\u001b[1m1/1\u001b[0m \u001b[32m━━━━━━━━━━━━━━━━━━━━\u001b[0m\u001b[37m\u001b[0m \u001b[1m0s\u001b[0m 48ms/step\n",
      "[84.49478]\n",
      "[72.]\n"
     ]
    },
    {
     "name": "stderr",
     "output_type": "stream",
     "text": [
      "W0000 00:00:1747924579.458175   38021 inference_feedback_manager.cc:114] Feedback manager requires a model with a single signature inference. Disabling support for feedback tensors.\n",
      "W0000 00:00:1747924579.483432   38029 inference_feedback_manager.cc:114] Feedback manager requires a model with a single signature inference. Disabling support for feedback tensors.\n",
      "W0000 00:00:1747924579.485747   38020 inference_feedback_manager.cc:114] Feedback manager requires a model with a single signature inference. Disabling support for feedback tensors.\n",
      "W0000 00:00:1747924579.485762   38031 inference_feedback_manager.cc:114] Feedback manager requires a model with a single signature inference. Disabling support for feedback tensors.\n",
      "W0000 00:00:1747924579.486004   38029 inference_feedback_manager.cc:114] Feedback manager requires a model with a single signature inference. Disabling support for feedback tensors.\n",
      "W0000 00:00:1747924579.492159   38020 inference_feedback_manager.cc:114] Feedback manager requires a model with a single signature inference. Disabling support for feedback tensors.\n",
      "W0000 00:00:1747924579.501046   38025 inference_feedback_manager.cc:114] Feedback manager requires a model with a single signature inference. Disabling support for feedback tensors.\n",
      "W0000 00:00:1747924579.501589   38029 inference_feedback_manager.cc:114] Feedback manager requires a model with a single signature inference. Disabling support for feedback tensors.\n"
     ]
    },
    {
     "name": "stdout",
     "output_type": "stream",
     "text": [
      "\u001b[1m1/1\u001b[0m \u001b[32m━━━━━━━━━━━━━━━━━━━━\u001b[0m\u001b[37m\u001b[0m \u001b[1m0s\u001b[0m 56ms/step\n",
      "[84.50816]\n",
      "[102.6]\n"
     ]
    },
    {
     "name": "stderr",
     "output_type": "stream",
     "text": [
      "W0000 00:00:1747924586.471832   38080 inference_feedback_manager.cc:114] Feedback manager requires a model with a single signature inference. Disabling support for feedback tensors.\n",
      "W0000 00:00:1747924586.505025   38080 inference_feedback_manager.cc:114] Feedback manager requires a model with a single signature inference. Disabling support for feedback tensors.\n",
      "W0000 00:00:1747924586.506685   38086 inference_feedback_manager.cc:114] Feedback manager requires a model with a single signature inference. Disabling support for feedback tensors.\n",
      "W0000 00:00:1747924586.507401   38082 inference_feedback_manager.cc:114] Feedback manager requires a model with a single signature inference. Disabling support for feedback tensors.\n",
      "W0000 00:00:1747924586.507899   38080 inference_feedback_manager.cc:114] Feedback manager requires a model with a single signature inference. Disabling support for feedback tensors.\n",
      "W0000 00:00:1747924586.514904   38080 inference_feedback_manager.cc:114] Feedback manager requires a model with a single signature inference. Disabling support for feedback tensors.\n",
      "W0000 00:00:1747924586.523386   38086 inference_feedback_manager.cc:114] Feedback manager requires a model with a single signature inference. Disabling support for feedback tensors.\n",
      "W0000 00:00:1747924586.526388   38082 inference_feedback_manager.cc:114] Feedback manager requires a model with a single signature inference. Disabling support for feedback tensors.\n"
     ]
    },
    {
     "name": "stdout",
     "output_type": "stream",
     "text": [
      "\u001b[1m1/1\u001b[0m \u001b[32m━━━━━━━━━━━━━━━━━━━━\u001b[0m\u001b[37m\u001b[0m \u001b[1m0s\u001b[0m 52ms/step\n",
      "[77.82129]\n",
      "[78.4]\n"
     ]
    },
    {
     "name": "stderr",
     "output_type": "stream",
     "text": [
      "W0000 00:00:1747924592.749244   38138 inference_feedback_manager.cc:114] Feedback manager requires a model with a single signature inference. Disabling support for feedback tensors.\n",
      "W0000 00:00:1747924592.768169   38144 inference_feedback_manager.cc:114] Feedback manager requires a model with a single signature inference. Disabling support for feedback tensors.\n",
      "W0000 00:00:1747924592.769768   38136 inference_feedback_manager.cc:114] Feedback manager requires a model with a single signature inference. Disabling support for feedback tensors.\n",
      "W0000 00:00:1747924592.769779   38140 inference_feedback_manager.cc:114] Feedback manager requires a model with a single signature inference. Disabling support for feedback tensors.\n",
      "W0000 00:00:1747924592.769931   38142 inference_feedback_manager.cc:114] Feedback manager requires a model with a single signature inference. Disabling support for feedback tensors.\n",
      "W0000 00:00:1747924592.774807   38142 inference_feedback_manager.cc:114] Feedback manager requires a model with a single signature inference. Disabling support for feedback tensors.\n",
      "W0000 00:00:1747924592.780014   38136 inference_feedback_manager.cc:114] Feedback manager requires a model with a single signature inference. Disabling support for feedback tensors.\n",
      "W0000 00:00:1747924592.783303   38140 inference_feedback_manager.cc:114] Feedback manager requires a model with a single signature inference. Disabling support for feedback tensors.\n"
     ]
    },
    {
     "name": "stdout",
     "output_type": "stream",
     "text": [
      "\u001b[1m1/1\u001b[0m \u001b[32m━━━━━━━━━━━━━━━━━━━━\u001b[0m\u001b[37m\u001b[0m \u001b[1m0s\u001b[0m 51ms/step\n",
      "[78.44126]\n",
      "[88.2]\n"
     ]
    },
    {
     "name": "stderr",
     "output_type": "stream",
     "text": [
      "W0000 00:00:1747924599.104607   38197 inference_feedback_manager.cc:114] Feedback manager requires a model with a single signature inference. Disabling support for feedback tensors.\n",
      "W0000 00:00:1747924599.121653   38202 inference_feedback_manager.cc:114] Feedback manager requires a model with a single signature inference. Disabling support for feedback tensors.\n",
      "W0000 00:00:1747924599.123298   38196 inference_feedback_manager.cc:114] Feedback manager requires a model with a single signature inference. Disabling support for feedback tensors.\n",
      "W0000 00:00:1747924599.123359   38199 inference_feedback_manager.cc:114] Feedback manager requires a model with a single signature inference. Disabling support for feedback tensors.\n",
      "W0000 00:00:1747924599.124256   38198 inference_feedback_manager.cc:114] Feedback manager requires a model with a single signature inference. Disabling support for feedback tensors.\n",
      "W0000 00:00:1747924599.128276   38205 inference_feedback_manager.cc:114] Feedback manager requires a model with a single signature inference. Disabling support for feedback tensors.\n",
      "W0000 00:00:1747924599.136108   38196 inference_feedback_manager.cc:114] Feedback manager requires a model with a single signature inference. Disabling support for feedback tensors.\n",
      "W0000 00:00:1747924599.136201   38200 inference_feedback_manager.cc:114] Feedback manager requires a model with a single signature inference. Disabling support for feedback tensors.\n"
     ]
    },
    {
     "name": "stdout",
     "output_type": "stream",
     "text": [
      "\u001b[1m1/1\u001b[0m \u001b[32m━━━━━━━━━━━━━━━━━━━━\u001b[0m\u001b[37m\u001b[0m \u001b[1m0s\u001b[0m 49ms/step\n",
      "[79.878784]\n",
      "[64.]\n"
     ]
    },
    {
     "name": "stderr",
     "output_type": "stream",
     "text": [
      "W0000 00:00:1747924605.314475   38258 inference_feedback_manager.cc:114] Feedback manager requires a model with a single signature inference. Disabling support for feedback tensors.\n",
      "W0000 00:00:1747924605.332463   38267 inference_feedback_manager.cc:114] Feedback manager requires a model with a single signature inference. Disabling support for feedback tensors.\n",
      "W0000 00:00:1747924605.333887   38257 inference_feedback_manager.cc:114] Feedback manager requires a model with a single signature inference. Disabling support for feedback tensors.\n",
      "W0000 00:00:1747924605.334431   38258 inference_feedback_manager.cc:114] Feedback manager requires a model with a single signature inference. Disabling support for feedback tensors.\n",
      "W0000 00:00:1747924605.334546   38265 inference_feedback_manager.cc:114] Feedback manager requires a model with a single signature inference. Disabling support for feedback tensors.\n",
      "W0000 00:00:1747924605.341082   38258 inference_feedback_manager.cc:114] Feedback manager requires a model with a single signature inference. Disabling support for feedback tensors.\n",
      "W0000 00:00:1747924605.346087   38261 inference_feedback_manager.cc:114] Feedback manager requires a model with a single signature inference. Disabling support for feedback tensors.\n",
      "W0000 00:00:1747924605.346545   38263 inference_feedback_manager.cc:114] Feedback manager requires a model with a single signature inference. Disabling support for feedback tensors.\n"
     ]
    },
    {
     "name": "stdout",
     "output_type": "stream",
     "text": [
      "\u001b[1m1/1\u001b[0m \u001b[32m━━━━━━━━━━━━━━━━━━━━\u001b[0m\u001b[37m\u001b[0m \u001b[1m0s\u001b[0m 52ms/step\n",
      "[84.55561]\n",
      "[76.5]\n"
     ]
    },
    {
     "name": "stderr",
     "output_type": "stream",
     "text": [
      "W0000 00:00:1747924612.173539   38319 inference_feedback_manager.cc:114] Feedback manager requires a model with a single signature inference. Disabling support for feedback tensors.\n",
      "W0000 00:00:1747924612.195618   38319 inference_feedback_manager.cc:114] Feedback manager requires a model with a single signature inference. Disabling support for feedback tensors.\n",
      "W0000 00:00:1747924612.197315   38326 inference_feedback_manager.cc:114] Feedback manager requires a model with a single signature inference. Disabling support for feedback tensors.\n",
      "W0000 00:00:1747924612.197350   38318 inference_feedback_manager.cc:114] Feedback manager requires a model with a single signature inference. Disabling support for feedback tensors.\n",
      "W0000 00:00:1747924612.197769   38322 inference_feedback_manager.cc:114] Feedback manager requires a model with a single signature inference. Disabling support for feedback tensors.\n",
      "W0000 00:00:1747924612.201717   38322 inference_feedback_manager.cc:114] Feedback manager requires a model with a single signature inference. Disabling support for feedback tensors.\n",
      "W0000 00:00:1747924612.206743   38318 inference_feedback_manager.cc:114] Feedback manager requires a model with a single signature inference. Disabling support for feedback tensors.\n",
      "W0000 00:00:1747924612.208540   38326 inference_feedback_manager.cc:114] Feedback manager requires a model with a single signature inference. Disabling support for feedback tensors.\n"
     ]
    },
    {
     "name": "stdout",
     "output_type": "stream",
     "text": [
      "\u001b[1m1/1\u001b[0m \u001b[32m━━━━━━━━━━━━━━━━━━━━\u001b[0m\u001b[37m\u001b[0m \u001b[1m0s\u001b[0m 82ms/step\n",
      "[83.05264]\n",
      "[87.45]\n"
     ]
    },
    {
     "name": "stderr",
     "output_type": "stream",
     "text": [
      "W0000 00:00:1747924619.726262   38377 inference_feedback_manager.cc:114] Feedback manager requires a model with a single signature inference. Disabling support for feedback tensors.\n",
      "W0000 00:00:1747924619.746169   38377 inference_feedback_manager.cc:114] Feedback manager requires a model with a single signature inference. Disabling support for feedback tensors.\n",
      "W0000 00:00:1747924619.747521   38379 inference_feedback_manager.cc:114] Feedback manager requires a model with a single signature inference. Disabling support for feedback tensors.\n",
      "W0000 00:00:1747924619.747528   38378 inference_feedback_manager.cc:114] Feedback manager requires a model with a single signature inference. Disabling support for feedback tensors.\n",
      "W0000 00:00:1747924619.747754   38382 inference_feedback_manager.cc:114] Feedback manager requires a model with a single signature inference. Disabling support for feedback tensors.\n",
      "W0000 00:00:1747924619.751843   38382 inference_feedback_manager.cc:114] Feedback manager requires a model with a single signature inference. Disabling support for feedback tensors.\n",
      "W0000 00:00:1747924619.757511   38381 inference_feedback_manager.cc:114] Feedback manager requires a model with a single signature inference. Disabling support for feedback tensors.\n",
      "W0000 00:00:1747924619.759349   38378 inference_feedback_manager.cc:114] Feedback manager requires a model with a single signature inference. Disabling support for feedback tensors.\n"
     ]
    },
    {
     "name": "stdout",
     "output_type": "stream",
     "text": [
      "\u001b[1m1/1\u001b[0m \u001b[32m━━━━━━━━━━━━━━━━━━━━\u001b[0m\u001b[37m\u001b[0m \u001b[1m0s\u001b[0m 48ms/step\n",
      "[84.5172]\n",
      "[81.6]\n"
     ]
    },
    {
     "name": "stderr",
     "output_type": "stream",
     "text": [
      "W0000 00:00:1747924626.068513   38435 inference_feedback_manager.cc:114] Feedback manager requires a model with a single signature inference. Disabling support for feedback tensors.\n",
      "W0000 00:00:1747924626.089666   38435 inference_feedback_manager.cc:114] Feedback manager requires a model with a single signature inference. Disabling support for feedback tensors.\n",
      "W0000 00:00:1747924626.091120   38433 inference_feedback_manager.cc:114] Feedback manager requires a model with a single signature inference. Disabling support for feedback tensors.\n",
      "W0000 00:00:1747924626.091307   38442 inference_feedback_manager.cc:114] Feedback manager requires a model with a single signature inference. Disabling support for feedback tensors.\n",
      "W0000 00:00:1747924626.091500   38441 inference_feedback_manager.cc:114] Feedback manager requires a model with a single signature inference. Disabling support for feedback tensors.\n",
      "W0000 00:00:1747924626.097142   38437 inference_feedback_manager.cc:114] Feedback manager requires a model with a single signature inference. Disabling support for feedback tensors.\n",
      "W0000 00:00:1747924626.101626   38443 inference_feedback_manager.cc:114] Feedback manager requires a model with a single signature inference. Disabling support for feedback tensors.\n",
      "W0000 00:00:1747924626.103826   38442 inference_feedback_manager.cc:114] Feedback manager requires a model with a single signature inference. Disabling support for feedback tensors.\n"
     ]
    },
    {
     "name": "stdout",
     "output_type": "stream",
     "text": [
      "\u001b[1m1/1\u001b[0m \u001b[32m━━━━━━━━━━━━━━━━━━━━\u001b[0m\u001b[37m\u001b[0m \u001b[1m0s\u001b[0m 47ms/step\n",
      "[77.81062]\n",
      "[86.1]\n"
     ]
    },
    {
     "name": "stderr",
     "output_type": "stream",
     "text": [
      "W0000 00:00:1747924632.371511   38493 inference_feedback_manager.cc:114] Feedback manager requires a model with a single signature inference. Disabling support for feedback tensors.\n",
      "W0000 00:00:1747924632.388422   38493 inference_feedback_manager.cc:114] Feedback manager requires a model with a single signature inference. Disabling support for feedback tensors.\n",
      "W0000 00:00:1747924632.390101   38498 inference_feedback_manager.cc:114] Feedback manager requires a model with a single signature inference. Disabling support for feedback tensors.\n",
      "W0000 00:00:1747924632.390184   38499 inference_feedback_manager.cc:114] Feedback manager requires a model with a single signature inference. Disabling support for feedback tensors.\n",
      "W0000 00:00:1747924632.390566   38494 inference_feedback_manager.cc:114] Feedback manager requires a model with a single signature inference. Disabling support for feedback tensors.\n",
      "W0000 00:00:1747924632.395577   38494 inference_feedback_manager.cc:114] Feedback manager requires a model with a single signature inference. Disabling support for feedback tensors.\n",
      "W0000 00:00:1747924632.399668   38498 inference_feedback_manager.cc:114] Feedback manager requires a model with a single signature inference. Disabling support for feedback tensors.\n",
      "W0000 00:00:1747924632.400764   38499 inference_feedback_manager.cc:114] Feedback manager requires a model with a single signature inference. Disabling support for feedback tensors.\n"
     ]
    },
    {
     "name": "stdout",
     "output_type": "stream",
     "text": [
      "\u001b[1m1/1\u001b[0m \u001b[32m━━━━━━━━━━━━━━━━━━━━\u001b[0m\u001b[37m\u001b[0m \u001b[1m0s\u001b[0m 43ms/step\n",
      "[79.99924]\n",
      "[90.]\n"
     ]
    },
    {
     "name": "stderr",
     "output_type": "stream",
     "text": [
      "W0000 00:00:1747924638.733859   38551 inference_feedback_manager.cc:114] Feedback manager requires a model with a single signature inference. Disabling support for feedback tensors.\n",
      "W0000 00:00:1747924638.754603   38556 inference_feedback_manager.cc:114] Feedback manager requires a model with a single signature inference. Disabling support for feedback tensors.\n",
      "W0000 00:00:1747924638.755918   38557 inference_feedback_manager.cc:114] Feedback manager requires a model with a single signature inference. Disabling support for feedback tensors.\n",
      "W0000 00:00:1747924638.756291   38559 inference_feedback_manager.cc:114] Feedback manager requires a model with a single signature inference. Disabling support for feedback tensors.\n",
      "W0000 00:00:1747924638.756502   38553 inference_feedback_manager.cc:114] Feedback manager requires a model with a single signature inference. Disabling support for feedback tensors.\n",
      "W0000 00:00:1747924638.762110   38553 inference_feedback_manager.cc:114] Feedback manager requires a model with a single signature inference. Disabling support for feedback tensors.\n",
      "W0000 00:00:1747924638.766041   38551 inference_feedback_manager.cc:114] Feedback manager requires a model with a single signature inference. Disabling support for feedback tensors.\n",
      "W0000 00:00:1747924638.767238   38559 inference_feedback_manager.cc:114] Feedback manager requires a model with a single signature inference. Disabling support for feedback tensors.\n"
     ]
    },
    {
     "name": "stdout",
     "output_type": "stream",
     "text": [
      "\u001b[1m1/1\u001b[0m \u001b[32m━━━━━━━━━━━━━━━━━━━━\u001b[0m\u001b[37m\u001b[0m \u001b[1m0s\u001b[0m 52ms/step\n",
      "[77.91203]\n",
      "[86.4]\n"
     ]
    },
    {
     "name": "stderr",
     "output_type": "stream",
     "text": [
      "W0000 00:00:1747924645.185037   38614 inference_feedback_manager.cc:114] Feedback manager requires a model with a single signature inference. Disabling support for feedback tensors.\n",
      "W0000 00:00:1747924645.201203   38621 inference_feedback_manager.cc:114] Feedback manager requires a model with a single signature inference. Disabling support for feedback tensors.\n",
      "W0000 00:00:1747924645.202796   38620 inference_feedback_manager.cc:114] Feedback manager requires a model with a single signature inference. Disabling support for feedback tensors.\n",
      "W0000 00:00:1747924645.202842   38613 inference_feedback_manager.cc:114] Feedback manager requires a model with a single signature inference. Disabling support for feedback tensors.\n",
      "W0000 00:00:1747924645.203395   38617 inference_feedback_manager.cc:114] Feedback manager requires a model with a single signature inference. Disabling support for feedback tensors.\n",
      "W0000 00:00:1747924645.208010   38617 inference_feedback_manager.cc:114] Feedback manager requires a model with a single signature inference. Disabling support for feedback tensors.\n",
      "W0000 00:00:1747924645.213134   38613 inference_feedback_manager.cc:114] Feedback manager requires a model with a single signature inference. Disabling support for feedback tensors.\n",
      "W0000 00:00:1747924645.214626   38620 inference_feedback_manager.cc:114] Feedback manager requires a model with a single signature inference. Disabling support for feedback tensors.\n"
     ]
    },
    {
     "name": "stdout",
     "output_type": "stream",
     "text": [
      "\u001b[1m1/1\u001b[0m \u001b[32m━━━━━━━━━━━━━━━━━━━━\u001b[0m\u001b[37m\u001b[0m \u001b[1m0s\u001b[0m 47ms/step\n",
      "[84.54161]\n",
      "[86.4]\n"
     ]
    },
    {
     "name": "stderr",
     "output_type": "stream",
     "text": [
      "W0000 00:00:1747924652.093440   38667 inference_feedback_manager.cc:114] Feedback manager requires a model with a single signature inference. Disabling support for feedback tensors.\n",
      "W0000 00:00:1747924652.120401   38669 inference_feedback_manager.cc:114] Feedback manager requires a model with a single signature inference. Disabling support for feedback tensors.\n",
      "W0000 00:00:1747924652.121798   38667 inference_feedback_manager.cc:114] Feedback manager requires a model with a single signature inference. Disabling support for feedback tensors.\n",
      "W0000 00:00:1747924652.121855   38672 inference_feedback_manager.cc:114] Feedback manager requires a model with a single signature inference. Disabling support for feedback tensors.\n",
      "W0000 00:00:1747924652.122064   38666 inference_feedback_manager.cc:114] Feedback manager requires a model with a single signature inference. Disabling support for feedback tensors.\n",
      "W0000 00:00:1747924652.126730   38666 inference_feedback_manager.cc:114] Feedback manager requires a model with a single signature inference. Disabling support for feedback tensors.\n",
      "W0000 00:00:1747924652.132107   38668 inference_feedback_manager.cc:114] Feedback manager requires a model with a single signature inference. Disabling support for feedback tensors.\n",
      "W0000 00:00:1747924652.135639   38667 inference_feedback_manager.cc:114] Feedback manager requires a model with a single signature inference. Disabling support for feedback tensors.\n"
     ]
    },
    {
     "name": "stdout",
     "output_type": "stream",
     "text": [
      "\u001b[1m1/1\u001b[0m \u001b[32m━━━━━━━━━━━━━━━━━━━━\u001b[0m\u001b[37m\u001b[0m \u001b[1m0s\u001b[0m 52ms/step\n",
      "[82.3519]\n",
      "[86.4]\n"
     ]
    },
    {
     "name": "stderr",
     "output_type": "stream",
     "text": [
      "W0000 00:00:1747924659.044091   38731 inference_feedback_manager.cc:114] Feedback manager requires a model with a single signature inference. Disabling support for feedback tensors.\n",
      "W0000 00:00:1747924659.067676   38729 inference_feedback_manager.cc:114] Feedback manager requires a model with a single signature inference. Disabling support for feedback tensors.\n",
      "W0000 00:00:1747924659.068998   38738 inference_feedback_manager.cc:114] Feedback manager requires a model with a single signature inference. Disabling support for feedback tensors.\n",
      "W0000 00:00:1747924659.069057   38734 inference_feedback_manager.cc:114] Feedback manager requires a model with a single signature inference. Disabling support for feedback tensors.\n",
      "W0000 00:00:1747924659.069286   38737 inference_feedback_manager.cc:114] Feedback manager requires a model with a single signature inference. Disabling support for feedback tensors.\n",
      "W0000 00:00:1747924659.076352   38737 inference_feedback_manager.cc:114] Feedback manager requires a model with a single signature inference. Disabling support for feedback tensors.\n",
      "W0000 00:00:1747924659.079263   38734 inference_feedback_manager.cc:114] Feedback manager requires a model with a single signature inference. Disabling support for feedback tensors.\n",
      "W0000 00:00:1747924659.080150   38738 inference_feedback_manager.cc:114] Feedback manager requires a model with a single signature inference. Disabling support for feedback tensors.\n"
     ]
    },
    {
     "name": "stdout",
     "output_type": "stream",
     "text": [
      "\u001b[1m1/1\u001b[0m \u001b[32m━━━━━━━━━━━━━━━━━━━━\u001b[0m\u001b[37m\u001b[0m \u001b[1m0s\u001b[0m 68ms/step\n",
      "[84.08907]\n",
      "[74.25]\n"
     ]
    },
    {
     "name": "stderr",
     "output_type": "stream",
     "text": [
      "W0000 00:00:1747924665.184217   38789 inference_feedback_manager.cc:114] Feedback manager requires a model with a single signature inference. Disabling support for feedback tensors.\n",
      "W0000 00:00:1747924665.224499   38798 inference_feedback_manager.cc:114] Feedback manager requires a model with a single signature inference. Disabling support for feedback tensors.\n",
      "W0000 00:00:1747924665.226861   38789 inference_feedback_manager.cc:114] Feedback manager requires a model with a single signature inference. Disabling support for feedback tensors.\n",
      "W0000 00:00:1747924665.227452   38787 inference_feedback_manager.cc:114] Feedback manager requires a model with a single signature inference. Disabling support for feedback tensors.\n",
      "W0000 00:00:1747924665.228288   38796 inference_feedback_manager.cc:114] Feedback manager requires a model with a single signature inference. Disabling support for feedback tensors.\n",
      "W0000 00:00:1747924665.239319   38796 inference_feedback_manager.cc:114] Feedback manager requires a model with a single signature inference. Disabling support for feedback tensors.\n",
      "W0000 00:00:1747924665.246263   38789 inference_feedback_manager.cc:114] Feedback manager requires a model with a single signature inference. Disabling support for feedback tensors.\n",
      "W0000 00:00:1747924665.251291   38787 inference_feedback_manager.cc:114] Feedback manager requires a model with a single signature inference. Disabling support for feedback tensors.\n"
     ]
    },
    {
     "name": "stdout",
     "output_type": "stream",
     "text": [
      "\u001b[1m1/1\u001b[0m \u001b[32m━━━━━━━━━━━━━━━━━━━━\u001b[0m\u001b[37m\u001b[0m \u001b[1m0s\u001b[0m 71ms/step\n",
      "[81.95189]\n",
      "[75.9]\n"
     ]
    },
    {
     "name": "stderr",
     "output_type": "stream",
     "text": [
      "W0000 00:00:1747924671.608128   38847 inference_feedback_manager.cc:114] Feedback manager requires a model with a single signature inference. Disabling support for feedback tensors.\n",
      "W0000 00:00:1747924671.627232   38847 inference_feedback_manager.cc:114] Feedback manager requires a model with a single signature inference. Disabling support for feedback tensors.\n",
      "W0000 00:00:1747924671.628766   38846 inference_feedback_manager.cc:114] Feedback manager requires a model with a single signature inference. Disabling support for feedback tensors.\n",
      "W0000 00:00:1747924671.629283   38845 inference_feedback_manager.cc:114] Feedback manager requires a model with a single signature inference. Disabling support for feedback tensors.\n",
      "W0000 00:00:1747924671.630213   38853 inference_feedback_manager.cc:114] Feedback manager requires a model with a single signature inference. Disabling support for feedback tensors.\n",
      "W0000 00:00:1747924671.636915   38845 inference_feedback_manager.cc:114] Feedback manager requires a model with a single signature inference. Disabling support for feedback tensors.\n",
      "W0000 00:00:1747924671.639421   38846 inference_feedback_manager.cc:114] Feedback manager requires a model with a single signature inference. Disabling support for feedback tensors.\n",
      "W0000 00:00:1747924671.646729   38853 inference_feedback_manager.cc:114] Feedback manager requires a model with a single signature inference. Disabling support for feedback tensors.\n"
     ]
    },
    {
     "name": "stdout",
     "output_type": "stream",
     "text": [
      "\u001b[1m1/1\u001b[0m \u001b[32m━━━━━━━━━━━━━━━━━━━━\u001b[0m\u001b[37m\u001b[0m \u001b[1m0s\u001b[0m 46ms/step\n",
      "[80.63839]\n",
      "[64.35]\n"
     ]
    },
    {
     "name": "stderr",
     "output_type": "stream",
     "text": [
      "W0000 00:00:1747924678.196246   38905 inference_feedback_manager.cc:114] Feedback manager requires a model with a single signature inference. Disabling support for feedback tensors.\n",
      "W0000 00:00:1747924678.217784   38910 inference_feedback_manager.cc:114] Feedback manager requires a model with a single signature inference. Disabling support for feedback tensors.\n",
      "W0000 00:00:1747924678.219428   38909 inference_feedback_manager.cc:114] Feedback manager requires a model with a single signature inference. Disabling support for feedback tensors.\n",
      "W0000 00:00:1747924678.219864   38911 inference_feedback_manager.cc:114] Feedback manager requires a model with a single signature inference. Disabling support for feedback tensors.\n",
      "W0000 00:00:1747924678.220160   38910 inference_feedback_manager.cc:114] Feedback manager requires a model with a single signature inference. Disabling support for feedback tensors.\n",
      "W0000 00:00:1747924678.225582   38907 inference_feedback_manager.cc:114] Feedback manager requires a model with a single signature inference. Disabling support for feedback tensors.\n",
      "W0000 00:00:1747924678.231545   38909 inference_feedback_manager.cc:114] Feedback manager requires a model with a single signature inference. Disabling support for feedback tensors.\n",
      "W0000 00:00:1747924678.234063   38913 inference_feedback_manager.cc:114] Feedback manager requires a model with a single signature inference. Disabling support for feedback tensors.\n"
     ]
    },
    {
     "name": "stdout",
     "output_type": "stream",
     "text": [
      "\u001b[1m1/1\u001b[0m \u001b[32m━━━━━━━━━━━━━━━━━━━━\u001b[0m\u001b[37m\u001b[0m \u001b[1m0s\u001b[0m 49ms/step\n",
      "[84.32283]\n",
      "[21.6]\n"
     ]
    },
    {
     "name": "stderr",
     "output_type": "stream",
     "text": [
      "W0000 00:00:1747924685.948839   38969 inference_feedback_manager.cc:114] Feedback manager requires a model with a single signature inference. Disabling support for feedback tensors.\n",
      "W0000 00:00:1747924685.969951   38977 inference_feedback_manager.cc:114] Feedback manager requires a model with a single signature inference. Disabling support for feedback tensors.\n",
      "W0000 00:00:1747924685.971853   38974 inference_feedback_manager.cc:114] Feedback manager requires a model with a single signature inference. Disabling support for feedback tensors.\n",
      "W0000 00:00:1747924685.972020   38971 inference_feedback_manager.cc:114] Feedback manager requires a model with a single signature inference. Disabling support for feedback tensors.\n",
      "W0000 00:00:1747924685.972536   38970 inference_feedback_manager.cc:114] Feedback manager requires a model with a single signature inference. Disabling support for feedback tensors.\n",
      "W0000 00:00:1747924685.979402   38970 inference_feedback_manager.cc:114] Feedback manager requires a model with a single signature inference. Disabling support for feedback tensors.\n",
      "W0000 00:00:1747924685.986033   38974 inference_feedback_manager.cc:114] Feedback manager requires a model with a single signature inference. Disabling support for feedback tensors.\n",
      "W0000 00:00:1747924685.987296   38967 inference_feedback_manager.cc:114] Feedback manager requires a model with a single signature inference. Disabling support for feedback tensors.\n"
     ]
    },
    {
     "name": "stdout",
     "output_type": "stream",
     "text": [
      "\u001b[1m1/1\u001b[0m \u001b[32m━━━━━━━━━━━━━━━━━━━━\u001b[0m\u001b[37m\u001b[0m \u001b[1m0s\u001b[0m 49ms/step\n",
      "[84.4602]\n",
      "[83.25]\n"
     ]
    },
    {
     "name": "stderr",
     "output_type": "stream",
     "text": [
      "W0000 00:00:1747924692.036306   39027 inference_feedback_manager.cc:114] Feedback manager requires a model with a single signature inference. Disabling support for feedback tensors.\n",
      "W0000 00:00:1747924692.052994   39032 inference_feedback_manager.cc:114] Feedback manager requires a model with a single signature inference. Disabling support for feedback tensors.\n",
      "W0000 00:00:1747924692.054585   39031 inference_feedback_manager.cc:114] Feedback manager requires a model with a single signature inference. Disabling support for feedback tensors.\n",
      "W0000 00:00:1747924692.054671   39029 inference_feedback_manager.cc:114] Feedback manager requires a model with a single signature inference. Disabling support for feedback tensors.\n",
      "W0000 00:00:1747924692.054695   39032 inference_feedback_manager.cc:114] Feedback manager requires a model with a single signature inference. Disabling support for feedback tensors.\n",
      "W0000 00:00:1747924692.058530   39029 inference_feedback_manager.cc:114] Feedback manager requires a model with a single signature inference. Disabling support for feedback tensors.\n",
      "W0000 00:00:1747924692.068593   39031 inference_feedback_manager.cc:114] Feedback manager requires a model with a single signature inference. Disabling support for feedback tensors.\n",
      "W0000 00:00:1747924692.069915   39032 inference_feedback_manager.cc:114] Feedback manager requires a model with a single signature inference. Disabling support for feedback tensors.\n"
     ]
    },
    {
     "name": "stdout",
     "output_type": "stream",
     "text": [
      "\u001b[1m1/1\u001b[0m \u001b[32m━━━━━━━━━━━━━━━━━━━━\u001b[0m\u001b[37m\u001b[0m \u001b[1m0s\u001b[0m 55ms/step\n",
      "[77.88119]\n",
      "[86.4]\n"
     ]
    },
    {
     "name": "stderr",
     "output_type": "stream",
     "text": [
      "W0000 00:00:1747924698.691337   39085 inference_feedback_manager.cc:114] Feedback manager requires a model with a single signature inference. Disabling support for feedback tensors.\n",
      "W0000 00:00:1747924698.708837   39084 inference_feedback_manager.cc:114] Feedback manager requires a model with a single signature inference. Disabling support for feedback tensors.\n",
      "W0000 00:00:1747924698.710498   39093 inference_feedback_manager.cc:114] Feedback manager requires a model with a single signature inference. Disabling support for feedback tensors.\n",
      "W0000 00:00:1747924698.710609   39084 inference_feedback_manager.cc:114] Feedback manager requires a model with a single signature inference. Disabling support for feedback tensors.\n",
      "W0000 00:00:1747924698.710992   39088 inference_feedback_manager.cc:114] Feedback manager requires a model with a single signature inference. Disabling support for feedback tensors.\n",
      "W0000 00:00:1747924698.715592   39093 inference_feedback_manager.cc:114] Feedback manager requires a model with a single signature inference. Disabling support for feedback tensors.\n",
      "W0000 00:00:1747924698.722478   39085 inference_feedback_manager.cc:114] Feedback manager requires a model with a single signature inference. Disabling support for feedback tensors.\n",
      "W0000 00:00:1747924698.723177   39088 inference_feedback_manager.cc:114] Feedback manager requires a model with a single signature inference. Disabling support for feedback tensors.\n"
     ]
    },
    {
     "name": "stdout",
     "output_type": "stream",
     "text": [
      "\u001b[1m1/1\u001b[0m \u001b[32m━━━━━━━━━━━━━━━━━━━━\u001b[0m\u001b[37m\u001b[0m \u001b[1m0s\u001b[0m 51ms/step\n",
      "[84.542534]\n",
      "[77.7]\n"
     ]
    },
    {
     "name": "stderr",
     "output_type": "stream",
     "text": [
      "W0000 00:00:1747924705.710642   39143 inference_feedback_manager.cc:114] Feedback manager requires a model with a single signature inference. Disabling support for feedback tensors.\n",
      "W0000 00:00:1747924705.727241   39143 inference_feedback_manager.cc:114] Feedback manager requires a model with a single signature inference. Disabling support for feedback tensors.\n",
      "W0000 00:00:1747924705.728943   39150 inference_feedback_manager.cc:114] Feedback manager requires a model with a single signature inference. Disabling support for feedback tensors.\n",
      "W0000 00:00:1747924705.729236   39141 inference_feedback_manager.cc:114] Feedback manager requires a model with a single signature inference. Disabling support for feedback tensors.\n",
      "W0000 00:00:1747924705.729477   39146 inference_feedback_manager.cc:114] Feedback manager requires a model with a single signature inference. Disabling support for feedback tensors.\n",
      "W0000 00:00:1747924705.735440   39141 inference_feedback_manager.cc:114] Feedback manager requires a model with a single signature inference. Disabling support for feedback tensors.\n",
      "W0000 00:00:1747924705.738807   39150 inference_feedback_manager.cc:114] Feedback manager requires a model with a single signature inference. Disabling support for feedback tensors.\n",
      "W0000 00:00:1747924705.741118   39146 inference_feedback_manager.cc:114] Feedback manager requires a model with a single signature inference. Disabling support for feedback tensors.\n"
     ]
    },
    {
     "name": "stdout",
     "output_type": "stream",
     "text": [
      "\u001b[1m1/1\u001b[0m \u001b[32m━━━━━━━━━━━━━━━━━━━━\u001b[0m\u001b[37m\u001b[0m \u001b[1m0s\u001b[0m 63ms/step\n",
      "[77.88187]\n",
      "[79.2]\n"
     ]
    },
    {
     "name": "stderr",
     "output_type": "stream",
     "text": [
      "W0000 00:00:1747924712.380517   39200 inference_feedback_manager.cc:114] Feedback manager requires a model with a single signature inference. Disabling support for feedback tensors.\n",
      "W0000 00:00:1747924712.399267   39200 inference_feedback_manager.cc:114] Feedback manager requires a model with a single signature inference. Disabling support for feedback tensors.\n",
      "W0000 00:00:1747924712.400900   39210 inference_feedback_manager.cc:114] Feedback manager requires a model with a single signature inference. Disabling support for feedback tensors.\n",
      "W0000 00:00:1747924712.400900   39201 inference_feedback_manager.cc:114] Feedback manager requires a model with a single signature inference. Disabling support for feedback tensors.\n",
      "W0000 00:00:1747924712.401875   39200 inference_feedback_manager.cc:114] Feedback manager requires a model with a single signature inference. Disabling support for feedback tensors.\n",
      "W0000 00:00:1747924712.408135   39200 inference_feedback_manager.cc:114] Feedback manager requires a model with a single signature inference. Disabling support for feedback tensors.\n",
      "W0000 00:00:1747924712.412362   39201 inference_feedback_manager.cc:114] Feedback manager requires a model with a single signature inference. Disabling support for feedback tensors.\n",
      "W0000 00:00:1747924712.412601   39210 inference_feedback_manager.cc:114] Feedback manager requires a model with a single signature inference. Disabling support for feedback tensors.\n"
     ]
    },
    {
     "name": "stdout",
     "output_type": "stream",
     "text": [
      "\u001b[1m1/1\u001b[0m \u001b[32m━━━━━━━━━━━━━━━━━━━━\u001b[0m\u001b[37m\u001b[0m \u001b[1m0s\u001b[0m 57ms/step\n",
      "[82.04978]\n",
      "[68.45]\n"
     ]
    },
    {
     "name": "stderr",
     "output_type": "stream",
     "text": [
      "W0000 00:00:1747924720.613704   39264 inference_feedback_manager.cc:114] Feedback manager requires a model with a single signature inference. Disabling support for feedback tensors.\n",
      "W0000 00:00:1747924720.629542   39273 inference_feedback_manager.cc:114] Feedback manager requires a model with a single signature inference. Disabling support for feedback tensors.\n",
      "W0000 00:00:1747924720.631168   39265 inference_feedback_manager.cc:114] Feedback manager requires a model with a single signature inference. Disabling support for feedback tensors.\n",
      "W0000 00:00:1747924720.631455   39271 inference_feedback_manager.cc:114] Feedback manager requires a model with a single signature inference. Disabling support for feedback tensors.\n",
      "W0000 00:00:1747924720.632351   39263 inference_feedback_manager.cc:114] Feedback manager requires a model with a single signature inference. Disabling support for feedback tensors.\n",
      "W0000 00:00:1747924720.640580   39263 inference_feedback_manager.cc:114] Feedback manager requires a model with a single signature inference. Disabling support for feedback tensors.\n",
      "W0000 00:00:1747924720.642846   39269 inference_feedback_manager.cc:114] Feedback manager requires a model with a single signature inference. Disabling support for feedback tensors.\n",
      "W0000 00:00:1747924720.644560   39265 inference_feedback_manager.cc:114] Feedback manager requires a model with a single signature inference. Disabling support for feedback tensors.\n"
     ]
    },
    {
     "name": "stdout",
     "output_type": "stream",
     "text": [
      "\u001b[1m1/1\u001b[0m \u001b[32m━━━━━━━━━━━━━━━━━━━━\u001b[0m\u001b[37m\u001b[0m \u001b[1m0s\u001b[0m 48ms/step\n",
      "[84.47957]\n",
      "[70.2]\n"
     ]
    },
    {
     "name": "stderr",
     "output_type": "stream",
     "text": [
      "W0000 00:00:1747924726.574992   39324 inference_feedback_manager.cc:114] Feedback manager requires a model with a single signature inference. Disabling support for feedback tensors.\n",
      "W0000 00:00:1747924726.593474   39324 inference_feedback_manager.cc:114] Feedback manager requires a model with a single signature inference. Disabling support for feedback tensors.\n",
      "W0000 00:00:1747924726.595177   39331 inference_feedback_manager.cc:114] Feedback manager requires a model with a single signature inference. Disabling support for feedback tensors.\n",
      "W0000 00:00:1747924726.595236   39329 inference_feedback_manager.cc:114] Feedback manager requires a model with a single signature inference. Disabling support for feedback tensors.\n",
      "W0000 00:00:1747924726.596588   39324 inference_feedback_manager.cc:114] Feedback manager requires a model with a single signature inference. Disabling support for feedback tensors.\n",
      "W0000 00:00:1747924726.598794   39331 inference_feedback_manager.cc:114] Feedback manager requires a model with a single signature inference. Disabling support for feedback tensors.\n",
      "W0000 00:00:1747924726.609222   39329 inference_feedback_manager.cc:114] Feedback manager requires a model with a single signature inference. Disabling support for feedback tensors.\n",
      "W0000 00:00:1747924726.610112   39324 inference_feedback_manager.cc:114] Feedback manager requires a model with a single signature inference. Disabling support for feedback tensors.\n"
     ]
    },
    {
     "name": "stdout",
     "output_type": "stream",
     "text": [
      "\u001b[1m1/1\u001b[0m \u001b[32m━━━━━━━━━━━━━━━━━━━━\u001b[0m\u001b[37m\u001b[0m \u001b[1m0s\u001b[0m 70ms/step\n",
      "[81.31305]\n",
      "[42.9]\n"
     ]
    },
    {
     "name": "stderr",
     "output_type": "stream",
     "text": [
      "W0000 00:00:1747924733.291167   39381 inference_feedback_manager.cc:114] Feedback manager requires a model with a single signature inference. Disabling support for feedback tensors.\n",
      "W0000 00:00:1747924733.309408   39388 inference_feedback_manager.cc:114] Feedback manager requires a model with a single signature inference. Disabling support for feedback tensors.\n",
      "W0000 00:00:1747924733.310733   39389 inference_feedback_manager.cc:114] Feedback manager requires a model with a single signature inference. Disabling support for feedback tensors.\n",
      "W0000 00:00:1747924733.310790   39383 inference_feedback_manager.cc:114] Feedback manager requires a model with a single signature inference. Disabling support for feedback tensors.\n",
      "W0000 00:00:1747924733.311030   39379 inference_feedback_manager.cc:114] Feedback manager requires a model with a single signature inference. Disabling support for feedback tensors.\n",
      "W0000 00:00:1747924733.316296   39388 inference_feedback_manager.cc:114] Feedback manager requires a model with a single signature inference. Disabling support for feedback tensors.\n",
      "W0000 00:00:1747924733.321045   39383 inference_feedback_manager.cc:114] Feedback manager requires a model with a single signature inference. Disabling support for feedback tensors.\n",
      "W0000 00:00:1747924733.321055   39389 inference_feedback_manager.cc:114] Feedback manager requires a model with a single signature inference. Disabling support for feedback tensors.\n"
     ]
    },
    {
     "name": "stdout",
     "output_type": "stream",
     "text": [
      "\u001b[1m1/1\u001b[0m \u001b[32m━━━━━━━━━━━━━━━━━━━━\u001b[0m\u001b[37m\u001b[0m \u001b[1m0s\u001b[0m 72ms/step\n",
      "[81.652054]\n",
      "[82.8]\n"
     ]
    },
    {
     "name": "stderr",
     "output_type": "stream",
     "text": [
      "W0000 00:00:1747924739.599032   39439 inference_feedback_manager.cc:114] Feedback manager requires a model with a single signature inference. Disabling support for feedback tensors.\n",
      "W0000 00:00:1747924739.620409   39439 inference_feedback_manager.cc:114] Feedback manager requires a model with a single signature inference. Disabling support for feedback tensors.\n",
      "W0000 00:00:1747924739.623032   39448 inference_feedback_manager.cc:114] Feedback manager requires a model with a single signature inference. Disabling support for feedback tensors.\n",
      "W0000 00:00:1747924739.623096   39444 inference_feedback_manager.cc:114] Feedback manager requires a model with a single signature inference. Disabling support for feedback tensors.\n",
      "W0000 00:00:1747924739.623149   39438 inference_feedback_manager.cc:114] Feedback manager requires a model with a single signature inference. Disabling support for feedback tensors.\n",
      "W0000 00:00:1747924739.629432   39448 inference_feedback_manager.cc:114] Feedback manager requires a model with a single signature inference. Disabling support for feedback tensors.\n",
      "W0000 00:00:1747924739.636211   39444 inference_feedback_manager.cc:114] Feedback manager requires a model with a single signature inference. Disabling support for feedback tensors.\n",
      "W0000 00:00:1747924739.662747   39438 inference_feedback_manager.cc:114] Feedback manager requires a model with a single signature inference. Disabling support for feedback tensors.\n"
     ]
    },
    {
     "name": "stdout",
     "output_type": "stream",
     "text": [
      "\u001b[1m1/1\u001b[0m \u001b[32m━━━━━━━━━━━━━━━━━━━━\u001b[0m\u001b[37m\u001b[0m \u001b[1m0s\u001b[0m 51ms/step\n",
      "[84.55632]\n",
      "[100.8]\n"
     ]
    },
    {
     "name": "stderr",
     "output_type": "stream",
     "text": [
      "W0000 00:00:1747924746.319276   39502 inference_feedback_manager.cc:114] Feedback manager requires a model with a single signature inference. Disabling support for feedback tensors.\n",
      "W0000 00:00:1747924746.335096   39512 inference_feedback_manager.cc:114] Feedback manager requires a model with a single signature inference. Disabling support for feedback tensors.\n",
      "W0000 00:00:1747924746.336653   39512 inference_feedback_manager.cc:114] Feedback manager requires a model with a single signature inference. Disabling support for feedback tensors.\n",
      "W0000 00:00:1747924746.337026   39507 inference_feedback_manager.cc:114] Feedback manager requires a model with a single signature inference. Disabling support for feedback tensors.\n",
      "W0000 00:00:1747924746.337106   39503 inference_feedback_manager.cc:114] Feedback manager requires a model with a single signature inference. Disabling support for feedback tensors.\n",
      "W0000 00:00:1747924746.341028   39503 inference_feedback_manager.cc:114] Feedback manager requires a model with a single signature inference. Disabling support for feedback tensors.\n",
      "W0000 00:00:1747924746.347295   39512 inference_feedback_manager.cc:114] Feedback manager requires a model with a single signature inference. Disabling support for feedback tensors.\n",
      "W0000 00:00:1747924746.350351   39507 inference_feedback_manager.cc:114] Feedback manager requires a model with a single signature inference. Disabling support for feedback tensors.\n"
     ]
    },
    {
     "name": "stdout",
     "output_type": "stream",
     "text": [
      "\u001b[1m1/1\u001b[0m \u001b[32m━━━━━━━━━━━━━━━━━━━━\u001b[0m\u001b[37m\u001b[0m \u001b[1m0s\u001b[0m 40ms/step\n",
      "[77.83829]\n",
      "[84.6]\n"
     ]
    },
    {
     "name": "stderr",
     "output_type": "stream",
     "text": [
      "W0000 00:00:1747924753.474928   39561 inference_feedback_manager.cc:114] Feedback manager requires a model with a single signature inference. Disabling support for feedback tensors.\n",
      "W0000 00:00:1747924753.493084   39561 inference_feedback_manager.cc:114] Feedback manager requires a model with a single signature inference. Disabling support for feedback tensors.\n",
      "W0000 00:00:1747924753.494951   39563 inference_feedback_manager.cc:114] Feedback manager requires a model with a single signature inference. Disabling support for feedback tensors.\n",
      "W0000 00:00:1747924753.495288   39561 inference_feedback_manager.cc:114] Feedback manager requires a model with a single signature inference. Disabling support for feedback tensors.\n",
      "W0000 00:00:1747924753.495408   39560 inference_feedback_manager.cc:114] Feedback manager requires a model with a single signature inference. Disabling support for feedback tensors.\n",
      "W0000 00:00:1747924753.503055   39560 inference_feedback_manager.cc:114] Feedback manager requires a model with a single signature inference. Disabling support for feedback tensors.\n",
      "W0000 00:00:1747924753.510614   39561 inference_feedback_manager.cc:114] Feedback manager requires a model with a single signature inference. Disabling support for feedback tensors.\n",
      "W0000 00:00:1747924753.511548   39563 inference_feedback_manager.cc:114] Feedback manager requires a model with a single signature inference. Disabling support for feedback tensors.\n"
     ]
    },
    {
     "name": "stdout",
     "output_type": "stream",
     "text": [
      "\u001b[1m1/1\u001b[0m \u001b[32m━━━━━━━━━━━━━━━━━━━━\u001b[0m\u001b[37m\u001b[0m \u001b[1m0s\u001b[0m 49ms/step\n",
      "[77.80656]\n",
      "[78.4]\n"
     ]
    },
    {
     "name": "stderr",
     "output_type": "stream",
     "text": [
      "W0000 00:00:1747924759.650514   39621 inference_feedback_manager.cc:114] Feedback manager requires a model with a single signature inference. Disabling support for feedback tensors.\n",
      "W0000 00:00:1747924759.672352   39621 inference_feedback_manager.cc:114] Feedback manager requires a model with a single signature inference. Disabling support for feedback tensors.\n",
      "W0000 00:00:1747924759.674022   39624 inference_feedback_manager.cc:114] Feedback manager requires a model with a single signature inference. Disabling support for feedback tensors.\n",
      "W0000 00:00:1747924759.675071   39619 inference_feedback_manager.cc:114] Feedback manager requires a model with a single signature inference. Disabling support for feedback tensors.\n",
      "W0000 00:00:1747924759.675320   39620 inference_feedback_manager.cc:114] Feedback manager requires a model with a single signature inference. Disabling support for feedback tensors.\n",
      "W0000 00:00:1747924759.682561   39619 inference_feedback_manager.cc:114] Feedback manager requires a model with a single signature inference. Disabling support for feedback tensors.\n",
      "W0000 00:00:1747924759.689163   39620 inference_feedback_manager.cc:114] Feedback manager requires a model with a single signature inference. Disabling support for feedback tensors.\n",
      "W0000 00:00:1747924759.690549   39624 inference_feedback_manager.cc:114] Feedback manager requires a model with a single signature inference. Disabling support for feedback tensors.\n"
     ]
    },
    {
     "name": "stdout",
     "output_type": "stream",
     "text": [
      "\u001b[1m1/1\u001b[0m \u001b[32m━━━━━━━━━━━━━━━━━━━━\u001b[0m\u001b[37m\u001b[0m \u001b[1m0s\u001b[0m 47ms/step\n",
      "[84.52896]\n",
      "[81.]\n"
     ]
    },
    {
     "name": "stderr",
     "output_type": "stream",
     "text": [
      "W0000 00:00:1747924766.449711   39677 inference_feedback_manager.cc:114] Feedback manager requires a model with a single signature inference. Disabling support for feedback tensors.\n",
      "W0000 00:00:1747924766.468485   39677 inference_feedback_manager.cc:114] Feedback manager requires a model with a single signature inference. Disabling support for feedback tensors.\n",
      "W0000 00:00:1747924766.469989   39680 inference_feedback_manager.cc:114] Feedback manager requires a model with a single signature inference. Disabling support for feedback tensors.\n",
      "W0000 00:00:1747924766.470354   39677 inference_feedback_manager.cc:114] Feedback manager requires a model with a single signature inference. Disabling support for feedback tensors.\n",
      "W0000 00:00:1747924766.470787   39679 inference_feedback_manager.cc:114] Feedback manager requires a model with a single signature inference. Disabling support for feedback tensors.\n",
      "W0000 00:00:1747924766.477060   39679 inference_feedback_manager.cc:114] Feedback manager requires a model with a single signature inference. Disabling support for feedback tensors.\n",
      "W0000 00:00:1747924766.479652   39680 inference_feedback_manager.cc:114] Feedback manager requires a model with a single signature inference. Disabling support for feedback tensors.\n",
      "W0000 00:00:1747924766.484449   39684 inference_feedback_manager.cc:114] Feedback manager requires a model with a single signature inference. Disabling support for feedback tensors.\n"
     ]
    },
    {
     "name": "stdout",
     "output_type": "stream",
     "text": [
      "\u001b[1m1/1\u001b[0m \u001b[32m━━━━━━━━━━━━━━━━━━━━\u001b[0m\u001b[37m\u001b[0m \u001b[1m0s\u001b[0m 46ms/step\n",
      "[84.55328]\n",
      "[99.75]\n"
     ]
    },
    {
     "name": "stderr",
     "output_type": "stream",
     "text": [
      "W0000 00:00:1747924773.294098   39735 inference_feedback_manager.cc:114] Feedback manager requires a model with a single signature inference. Disabling support for feedback tensors.\n",
      "W0000 00:00:1747924773.315775   39735 inference_feedback_manager.cc:114] Feedback manager requires a model with a single signature inference. Disabling support for feedback tensors.\n",
      "W0000 00:00:1747924773.317378   39739 inference_feedback_manager.cc:114] Feedback manager requires a model with a single signature inference. Disabling support for feedback tensors.\n",
      "W0000 00:00:1747924773.317781   39743 inference_feedback_manager.cc:114] Feedback manager requires a model with a single signature inference. Disabling support for feedback tensors.\n",
      "W0000 00:00:1747924773.318536   39741 inference_feedback_manager.cc:114] Feedback manager requires a model with a single signature inference. Disabling support for feedback tensors.\n",
      "W0000 00:00:1747924773.321543   39736 inference_feedback_manager.cc:114] Feedback manager requires a model with a single signature inference. Disabling support for feedback tensors.\n",
      "W0000 00:00:1747924773.326751   39739 inference_feedback_manager.cc:114] Feedback manager requires a model with a single signature inference. Disabling support for feedback tensors.\n",
      "W0000 00:00:1747924773.333448   39741 inference_feedback_manager.cc:114] Feedback manager requires a model with a single signature inference. Disabling support for feedback tensors.\n"
     ]
    },
    {
     "name": "stdout",
     "output_type": "stream",
     "text": [
      "\u001b[1m1/1\u001b[0m \u001b[32m━━━━━━━━━━━━━━━━━━━━\u001b[0m\u001b[37m\u001b[0m \u001b[1m0s\u001b[0m 82ms/step\n",
      "[84.55658]\n",
      "[66.]\n",
      "Actual score: [66.]\n",
      "LSTM Model Predicted score: [84.55658]\n",
      "Difference in prediction and actual score: [18.55657959]\n"
     ]
    }
   ],
   "source": [
    "sequence_length = 120\n",
    "data_list = []\n",
    "score_list = np.empty(0, dtype = np.float32)\n",
    "true_score = []\n",
    "pred_score = []\n",
    "\n",
    "#video = random.choice(testing_file_list)\n",
    "for video in testing_file_list:\n",
    "    data_list = []\n",
    "    keypoint_list = []\n",
    "    cap = cv2.VideoCapture(video)\n",
    "    with mp_holistic.Holistic(min_detection_confidence = 0.2, min_tracking_confidence = 0.2) as holistic:\n",
    "        for frame_num in range(sequence_length):\n",
    "            ret, frame = cap.read()\n",
    "\n",
    "            if cv2.waitKey(10) & 0xFF == ord('q') or ret == False:\n",
    "                cap.release()\n",
    "                cv2.destroyAllWindows()\n",
    "                break\n",
    "\n",
    "            image, results = mediapipe_detection(frame, holistic)\n",
    "\n",
    "            draw_pose_landmarks(image, results)\n",
    "\n",
    "            if frame_num == 0:\n",
    "                cv2.imshow('Starting', image)\n",
    "                cv2.waitKey(500)\n",
    "            else:\n",
    "                cv2.imshow('Diving Video', image)\n",
    "\n",
    "            score = get_diving_score(video, score_dict)\n",
    "            keypoints = keypoint_extraction(results)\n",
    "            keypoint_list.append(keypoints)\n",
    "        \n",
    "\n",
    "        data_list.append(np.array(keypoint_list))\n",
    "        data_array = np.array(data_list)\n",
    "\n",
    "    cap.release()\n",
    "    cv2.destroyAllWindows()\n",
    "\n",
    "#cat_boost_data_array = data_array.reshape(data_array.shape[0], -1)\n",
    "\n",
    "#cat_pred = cat_loaded.predict(cat_boost_data_array)\n",
    "    lstm_pred = lstm_loaded.predict(data_array).flatten()\n",
    "    print(lstm_pred)\n",
    "    print(score)\n",
    "    pred_score.append(lstm_pred)\n",
    "    true_score.append(score)\n",
    "print(f'Actual score: {score}')\n",
    "print(f'LSTM Model Predicted score: {lstm_pred}')\n",
    "print(f'Difference in prediction and actual score: {abs(score - lstm_pred)}')\n",
    "#print(f'CatBoost Model Prediction: {cat_pred}')\n",
    "#print(f'Difference between CatBoost Model and actual score: {abs(score - cat_pred)}')"
   ]
  },
  {
   "cell_type": "code",
   "execution_count": 73,
   "metadata": {},
   "outputs": [
    {
     "name": "stdout",
     "output_type": "stream",
     "text": [
      "70\n",
      "70\n"
     ]
    }
   ],
   "source": [
    "print(len(true_score))\n",
    "print(len(pred_score))"
   ]
  },
  {
   "cell_type": "code",
   "execution_count": 79,
   "metadata": {},
   "outputs": [
    {
     "name": "stdout",
     "output_type": "stream",
     "text": [
      "[21.6]\n"
     ]
    }
   ],
   "source": [
    "print(min(true_score))"
   ]
  },
  {
   "cell_type": "code",
   "execution_count": 87,
   "metadata": {},
   "outputs": [],
   "source": [
    "def classify(value):\n",
    "    #print(value)\n",
    "    if value <= 39:\n",
    "        return 'A'\n",
    "    elif value > 39 and value <= 59:\n",
    "        return 'B'\n",
    "    elif value > 59 and value <= 79:\n",
    "        return 'C'\n",
    "    elif value > 79 and value <= 99:\n",
    "        return 'D'\n",
    "    elif  value > 99 and value <= 121:\n",
    "        return 'E'\n",
    "    else:\n",
    "        print(value)"
   ]
  },
  {
   "cell_type": "code",
   "execution_count": 88,
   "metadata": {},
   "outputs": [],
   "source": [
    "true_class = [classify(v) for v in true_score]\n"
   ]
  },
  {
   "cell_type": "code",
   "execution_count": 89,
   "metadata": {},
   "outputs": [],
   "source": [
    "pred_class = [classify(v) for v in pred_score]"
   ]
  },
  {
   "cell_type": "code",
   "execution_count": 90,
   "metadata": {},
   "outputs": [
    {
     "name": "stdout",
     "output_type": "stream",
     "text": [
      "['D', 'D', 'D', 'D', 'B', 'D', 'C', 'C', 'C', 'D', 'D', 'D', 'C', 'D', 'C', 'A', 'D', 'C', 'C', 'D', 'D', 'D', 'D', 'D', 'D', 'A', 'B', 'C', 'D', 'C', 'C', 'D', 'D', 'C', 'D', 'B', 'C', 'D', 'D', 'C', 'E', 'C', 'D', 'C', 'C', 'D', 'D', 'D', 'D', 'D', 'D', 'D', 'C', 'C', 'C', 'A', 'D', 'D', 'C', 'D', 'C', 'C', 'B', 'D', 'E', 'D', 'C', 'D', 'E', 'C']\n",
      "['D', 'D', 'D', 'D', 'C', 'C', 'D', 'C', 'C', 'D', 'D', 'D', 'C', 'C', 'C', 'D', 'D', 'C', 'D', 'D', 'D', 'D', 'D', 'C', 'D', 'C', 'D', 'D', 'D', 'C', 'C', 'D', 'D', 'C', 'D', 'C', 'C', 'D', 'D', 'D', 'D', 'C', 'C', 'D', 'D', 'D', 'D', 'C', 'D', 'C', 'D', 'D', 'D', 'D', 'D', 'D', 'D', 'C', 'D', 'C', 'D', 'D', 'D', 'D', 'D', 'C', 'C', 'D', 'D', 'D']\n"
     ]
    }
   ],
   "source": [
    "print(true_class)\n",
    "print(pred_class)"
   ]
  },
  {
   "cell_type": "code",
   "execution_count": null,
   "metadata": {},
   "outputs": [
    {
     "data": {
      "text/plain": [
       "<sklearn.metrics._plot.confusion_matrix.ConfusionMatrixDisplay at 0x7f0a3c0d7170>"
      ]
     },
     "execution_count": 95,
     "metadata": {},
     "output_type": "execute_result"
    },
    {
     "data": {
      "image/png": "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",
      "text/plain": [
       "<Figure size 640x480 with 2 Axes>"
      ]
     },
     "metadata": {},
     "output_type": "display_data"
    }
   ],
   "source": [
    "from sklearn.metrics import confusion_matrix, ConfusionMatrixDisplay\n",
    "labels = ['A', 'B', 'C', 'D', 'E']\n",
    "label_text = ['A(0-39)', 'B(40-59)', 'C(60-79)', 'D(80-99)', 'E(100-120)']\n",
    "\n",
    "cm = confusion_matrix(true_class, pred_class, labels = labels)\n",
    "\n",
    "disp = ConfusionMatrixDisplay(confusion_matrix = cm, display_labels = label_text)\n",
    "disp.plot()"
   ]
  },
  {
   "cell_type": "code",
   "execution_count": null,
   "metadata": {},
   "outputs": [],
   "source": []
  }
 ],
 "metadata": {
  "kernelspec": {
   "display_name": "tf217",
   "language": "python",
   "name": "python3"
  },
  "language_info": {
   "codemirror_mode": {
    "name": "ipython",
    "version": 3
   },
   "file_extension": ".py",
   "mimetype": "text/x-python",
   "name": "python",
   "nbconvert_exporter": "python",
   "pygments_lexer": "ipython3",
   "version": "3.12.9"
  }
 },
 "nbformat": 4,
 "nbformat_minor": 2
}
